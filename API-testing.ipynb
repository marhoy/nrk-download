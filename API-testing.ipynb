{
 "cells": [
  {
   "cell_type": "code",
   "execution_count": 1,
   "metadata": {},
   "outputs": [],
   "source": [
    "import requests\n",
    "import os.path\n",
    "\n",
    "NRK_TV_API = 'https://tv.nrk.no'\n",
    "NRK_TV_MOBIL_API = 'https://tvapi.nrk.no/v1'\n",
    "NRK_PS_API = 'http://v8.psapi.nrk.no'\n",
    "\n",
    "session = requests.Session()\n",
    "session.headers['app-version-android'] = '999'\n"
   ]
  },
  {
   "cell_type": "markdown",
   "metadata": {},
   "source": [
    "# Searching"
   ]
  },
  {
   "cell_type": "markdown",
   "metadata": {},
   "source": [
    "## Search for a program that is not part of a series"
   ]
  },
  {
   "cell_type": "code",
   "execution_count": 38,
   "metadata": {},
   "outputs": [
    {
     "name": "stdout",
     "output_type": "stream",
     "text": [
      "0\n"
     ]
    }
   ],
   "source": [
    "string = \"Sankthans-stemning fra Stavern\"\n",
    "try:\n",
    "    r = session.get('https://tvapi.nrk.no/v1/search/' + string)\n",
    "    r.raise_for_status()\n",
    "    hits = r.json()['hits']\n",
    "except Exception as e:\n",
    "    print('No data received: {}'.format(e))\n",
    "    \n",
    "for i, hit in enumerate(hits):\n",
    "    #if not hit['hit']['seriesId']:\n",
    "    if hit['type'] not in ['episode', 'series']:\n",
    "        print(i)"
   ]
  },
  {
   "cell_type": "code",
   "execution_count": 40,
   "metadata": {},
   "outputs": [
    {
     "data": {
      "text/plain": [
       "{'type': 'program',\n",
       " 'hit': {'objectId': 'DKTT60004016',\n",
       "  'title': 'Sankthans-stemning fra Stavern',\n",
       "  'description': 'Vi besøker sommerbyen Stavern i Vestfold på selveste sankthansaften. Det blir sommerstemning, båtliv og sjøredning, Formel 1 på vannet, sankthansbål og artister på scenen er Hans-Erik Dyvik Husby, Jenny Jensen, Arve Tellefsen, Anita Hegerland, Lars Martin Myhre og Louis Jacoby.',\n",
       "  'imageId': 'jZ26e1plMaSknMQIkjIf9AdSSZkFuq5EWFq7Q2Y1Ny5g',\n",
       "  'seasons': [],\n",
       "  'duration': 58.999332,\n",
       "  'expires': None,\n",
       "  'seriesId': None,\n",
       "  'seasonNumber': None,\n",
       "  'seriesTitle': None,\n",
       "  'episodeNumberOrDate': None,\n",
       "  'episodeTitle': None,\n",
       "  'aldersgrense': '0',\n",
       "  'usageRights': {'availableFrom': 1466710258000,\n",
       "   'availableTo': 253402210800000,\n",
       "   'hasNoRights': False,\n",
       "   'geoblocked': False},\n",
       "  'programId': 'dktt60004016',\n",
       "  'category': {'id': 'underholdning-tv',\n",
       "   'categoryId': 'underholdning',\n",
       "   'title': 'Underholdning'}},\n",
       " 'highlights': None}"
      ]
     },
     "execution_count": 40,
     "metadata": {},
     "output_type": "execute_result"
    }
   ],
   "source": [
    "hits[0]"
   ]
  },
  {
   "cell_type": "markdown",
   "metadata": {},
   "source": [
    "## Search for a program that IS part of a series"
   ]
  },
  {
   "cell_type": "code",
   "execution_count": 41,
   "metadata": {},
   "outputs": [],
   "source": [
    "string = \"skam\"\n",
    "try:\n",
    "    r = session.get('https://tvapi.nrk.no/v1/search/' + string)\n",
    "    r.raise_for_status()\n",
    "    hits = r.json()['hits']\n",
    "except Exception as e:\n",
    "    print('No data received: {}'.format(e))"
   ]
  },
  {
   "cell_type": "code",
   "execution_count": 45,
   "metadata": {},
   "outputs": [
    {
     "name": "stdout",
     "output_type": "stream",
     "text": [
      "2\n"
     ]
    }
   ],
   "source": [
    "for i, hit in enumerate(hits):\n",
    "    if hit['type'] not in ['episode', 'serie']:\n",
    "        print(i)"
   ]
  },
  {
   "cell_type": "code",
   "execution_count": 46,
   "metadata": {},
   "outputs": [
    {
     "data": {
      "text/plain": [
       "{'type': 'program',\n",
       " 'hit': {'objectId': 'KOIF23006716',\n",
       "  'title': 'Skammerens datter',\n",
       "  'description': 'Tronarvingen Nicodemus anklages for å ha myrdet families. Skammeren Melussina og datteren Dina kan se i øynene hans at han er uskyldig. Men det nekter den onde Drakan å godta. Med: Rebecca Emilie Sattrup, Jakob Oftebro, Maria Bonnevie. Regi: Kenneth Kainz.',\n",
       "  'imageId': '9SXbxvTFO6W0Hm-FkMKUzg2QkK1IBLfTK-2Kd7HOccpg',\n",
       "  'seasons': [],\n",
       "  'duration': 92.23333,\n",
       "  'expires': None,\n",
       "  'seriesId': None,\n",
       "  'seasonNumber': None,\n",
       "  'seriesTitle': None,\n",
       "  'episodeNumberOrDate': None,\n",
       "  'episodeTitle': None,\n",
       "  'aldersgrense': '12',\n",
       "  'usageRights': {'availableFrom': 1533432719000,\n",
       "   'availableTo': 1534647929000,\n",
       "   'hasNoRights': False,\n",
       "   'geoblocked': True},\n",
       "  'programId': 'koif23006716',\n",
       "  'category': {'id': 'film-tv', 'categoryId': 'film', 'title': 'Film'}},\n",
       " 'highlights': None}"
      ]
     },
     "execution_count": 46,
     "metadata": {},
     "output_type": "execute_result"
    }
   ],
   "source": [
    "hits[2]"
   ]
  },
  {
   "cell_type": "markdown",
   "metadata": {},
   "source": [
    "## Search for a series"
   ]
  },
  {
   "cell_type": "code",
   "execution_count": 20,
   "metadata": {},
   "outputs": [
    {
     "name": "stdout",
     "output_type": "stream",
     "text": [
      "0\n"
     ]
    }
   ],
   "source": [
    "string = \"Vestlandsrevyen\"\n",
    "try:\n",
    "    r = session.get('https://tvapi.nrk.no/v1/search/' + string)\n",
    "    r.raise_for_status()\n",
    "    hits = r.json()['hits']\n",
    "except Exception as e:\n",
    "    print('No data received: {}'.format(e))\n",
    "\n",
    "for i, hit in enumerate(hits):\n",
    "    if hit['type'] == 'serie':\n",
    "        print(i)"
   ]
  },
  {
   "cell_type": "code",
   "execution_count": null,
   "metadata": {},
   "outputs": [],
   "source": []
  },
  {
   "cell_type": "code",
   "execution_count": 15,
   "metadata": {},
   "outputs": [
    {
     "ename": "AttributeError",
     "evalue": "'dict' object has no attribute 'get_seasons_and_episodes'",
     "output_type": "error",
     "traceback": [
      "\u001b[0;31m---------------------------------------------------------------------------\u001b[0m",
      "\u001b[0;31mAttributeError\u001b[0m                            Traceback (most recent call last)",
      "\u001b[0;32m<ipython-input-15-c148d88b691c>\u001b[0m in \u001b[0;36m<module>\u001b[0;34m()\u001b[0m\n\u001b[1;32m      1\u001b[0m \u001b[0ms\u001b[0m \u001b[0;34m=\u001b[0m \u001b[0mhits\u001b[0m\u001b[0;34m[\u001b[0m\u001b[0;36m0\u001b[0m\u001b[0;34m]\u001b[0m\u001b[0;34m\u001b[0m\u001b[0m\n\u001b[0;32m----> 2\u001b[0;31m \u001b[0ms\u001b[0m\u001b[0;34m.\u001b[0m\u001b[0mget_seasons_and_episodes\u001b[0m\u001b[0;34m(\u001b[0m\u001b[0;34m)\u001b[0m\u001b[0;34m\u001b[0m\u001b[0m\n\u001b[0m",
      "\u001b[0;31mAttributeError\u001b[0m: 'dict' object has no attribute 'get_seasons_and_episodes'"
     ]
    }
   ],
   "source": [
    "s = hits[0]\n",
    "s.get_seasons_and_episodes()"
   ]
  },
  {
   "cell_type": "code",
   "execution_count": null,
   "metadata": {},
   "outputs": [],
   "source": [
    "[val['id'] for val in hits[0]['hit']['seasons']]"
   ]
  },
  {
   "cell_type": "code",
   "execution_count": null,
   "metadata": {},
   "outputs": [],
   "source": []
  },
  {
   "cell_type": "code",
   "execution_count": null,
   "metadata": {},
   "outputs": [],
   "source": [
    "string = \"skam\"\n",
    "r = session.get('https://tvapi.nrk.no/v1/search/' + string)\n",
    "r.raise_for_status()\n",
    "json = r.json()\n",
    "json.keys()"
   ]
  },
  {
   "cell_type": "code",
   "execution_count": null,
   "metadata": {},
   "outputs": [],
   "source": [
    "json['hi']"
   ]
  },
  {
   "cell_type": "code",
   "execution_count": null,
   "metadata": {},
   "outputs": [],
   "source": [
    "json['metaData']"
   ]
  },
  {
   "cell_type": "code",
   "execution_count": null,
   "metadata": {},
   "outputs": [],
   "source": [
    "string = \"ikke gjør dette\"\n",
    "r = session.get('https://tv.nrk.no/autocomplete?query=' + string)\n",
    "r.raise_for_status()\n",
    "print(r.json().keys())\n",
    "r.json()['result']"
   ]
  },
  {
   "cell_type": "code",
   "execution_count": null,
   "metadata": {},
   "outputs": [],
   "source": [
    "json['hits']"
   ]
  },
  {
   "cell_type": "code",
   "execution_count": null,
   "metadata": {},
   "outputs": [],
   "source": [
    "json = r.json()\n",
    "json['hits']"
   ]
  },
  {
   "cell_type": "markdown",
   "metadata": {},
   "source": [
    "# Get episodes and seasons of a series"
   ]
  },
  {
   "cell_type": "code",
   "execution_count": null,
   "metadata": {},
   "outputs": [],
   "source": [
    "seriesId = 'minutt for minutt' #ikke-gjoer-dette-hjemme'\n",
    "r = session.get(NRK_TV_MOBIL_API + '/series/' + seriesId)\n",
    "r.raise_for_status()\n",
    "json = r.json()"
   ]
  },
  {
   "cell_type": "code",
   "execution_count": null,
   "metadata": {},
   "outputs": [],
   "source": [
    "json"
   ]
  },
  {
   "cell_type": "code",
   "execution_count": null,
   "metadata": {},
   "outputs": [],
   "source": [
    "json['programs'][0]"
   ]
  },
  {
   "cell_type": "code",
   "execution_count": null,
   "metadata": {},
   "outputs": [],
   "source": [
    "res = r.json()\n",
    "[(prog['title'], prog['seasonId']) for prog in res['programs']]"
   ]
  },
  {
   "cell_type": "code",
   "execution_count": null,
   "metadata": {},
   "outputs": [],
   "source": [
    "import nrkdownload.nrktv as nrktv\n",
    "nrktv.parse_search_results(r.json(), \"series\")"
   ]
  },
  {
   "cell_type": "code",
   "execution_count": null,
   "metadata": {},
   "outputs": [],
   "source": [
    "json['programs']"
   ]
  },
  {
   "cell_type": "code",
   "execution_count": null,
   "metadata": {},
   "outputs": [],
   "source": []
  },
  {
   "cell_type": "code",
   "execution_count": null,
   "metadata": {},
   "outputs": [],
   "source": [
    "'test: {}'.format(list(seasons.values()))"
   ]
  },
  {
   "cell_type": "code",
   "execution_count": null,
   "metadata": {},
   "outputs": [],
   "source": [
    "seasons.values()"
   ]
  },
  {
   "cell_type": "markdown",
   "metadata": {
    "collapsed": true
   },
   "source": [
    "# Program details"
   ]
  },
  {
   "cell_type": "code",
   "execution_count": 16,
   "metadata": {},
   "outputs": [
    {
     "data": {
      "text/plain": [
       "{'_links': {'self': {'href': '/mediaelement/DVFJ67000211'},\n",
       "  'parent': {'href': '/'},\n",
       "  'next': {'href': '/mediaelement/DVFJ67000311'}},\n",
       " 'id': 'DVFJ67000211',\n",
       " 'title': 'Bergen - Florø',\n",
       " 'description': 'Fra Vestlandets hovestad, ut Herdlefjorden, forbi Fedje, Mongstad, gjennom Steinsundet, forbi landemerket  Alden, forbi det karakteristiske Stabben fyr til Florø kai. (2:70)',\n",
       " 'mediaElementType': 'Episode',\n",
       " 'mediaType': 'Video',\n",
       " 'image': {'id': 'rofUXy01X1ZIpUBpaDnjrw',\n",
       "  'cropInfo': {'x': 0.0, 'y': 0.0234375, 'width': 1.0, 'height': 0.84375}},\n",
       " 'images': {'imageInfo': {'id': 'rofUXy01X1ZIpUBpaDnjrw',\n",
       "   'cropInfo': {'x': 0.0, 'y': 0.0234375, 'width': 1.0, 'height': 0.84375}},\n",
       "  'imageWidthCropInfo': 'rofUXy01X1ZIpUBpaDnjrw?x=0.00000000000000000&y=0.02343750000000000&w=1.00000000000000000&h=0.84375000000000000',\n",
       "  'webImages': [{'imageUrl': 'https://gfx.nrk.no/rofUXy01X1ZIpUBpaDnjrwEmv0y0MAAiRpB4ux7VqCfQ',\n",
       "    'pixelWidth': 300},\n",
       "   {'imageUrl': 'https://gfx.nrk.no/rofUXy01X1ZIpUBpaDnjrwqcSFAmYHM-JpB4ux7VqCfQ',\n",
       "    'pixelWidth': 600},\n",
       "   {'imageUrl': 'https://gfx.nrk.no/rofUXy01X1ZIpUBpaDnjrwyrZbmhHaoVlpB4ux7VqCfQ',\n",
       "    'pixelWidth': 960},\n",
       "   {'imageUrl': 'https://gfx.nrk.no/rofUXy01X1ZIpUBpaDnjrwY7cX9iCy_GlpB4ux7VqCfQ',\n",
       "    'pixelWidth': 1920}],\n",
       "  'isDefaultImage': False},\n",
       " 'mediaUrl': 'http://nordond4b-f.akamaihd.net/z/wo/open/f4/f4dc5a04a7ca5c406f5cc313d4bed5d0d87004a0/a5084291-fb0c-4a48-ba2d-6ea4f834bab7_,141,316,563,1266,2250,.mp4.csmil/manifest.f4m',\n",
       " 'mediaAssets': [{'url': 'http://nordond4b-f.akamaihd.net/z/wo/open/f4/f4dc5a04a7ca5c406f5cc313d4bed5d0d87004a0/a5084291-fb0c-4a48-ba2d-6ea4f834bab7_,141,316,563,1266,2250,.mp4.csmil/manifest.f4m',\n",
       "   'duration': 'PT2H',\n",
       "   'carrierId': 'DVFJ67000211AA',\n",
       "   'webVttSubtitlesUrl': None,\n",
       "   'timedTextSubtitlesUrl': None,\n",
       "   'bufferDuration': None},\n",
       "  {'url': 'http://nordond10c-f.akamaihd.net/z/wo/open/fd/fd756ee8949ea417be4345697032973c6221206c/a5084291-fb0c-4a48-ba2d-6ea4f834bab7_,141,316,563,1266,2250,.mp4.csmil/manifest.f4m',\n",
       "   'duration': 'PT2H',\n",
       "   'carrierId': 'DVFJ67000211BA',\n",
       "   'webVttSubtitlesUrl': None,\n",
       "   'timedTextSubtitlesUrl': None,\n",
       "   'bufferDuration': None},\n",
       "  {'url': 'http://nordond25a-f.akamaihd.net/z/wo/open/32/32752abdbe87b58125d3330acf4e8e9924d97c95/a5084291-fb0c-4a48-ba2d-6ea4f834bab7_,141,316,563,1266,2250,.mp4.csmil/manifest.f4m',\n",
       "   'duration': 'PT2H',\n",
       "   'carrierId': 'DVFJ67000211CA',\n",
       "   'webVttSubtitlesUrl': None,\n",
       "   'timedTextSubtitlesUrl': None,\n",
       "   'bufferDuration': None},\n",
       "  {'url': 'http://nordond33c-f.akamaihd.net/z/wo/open/9d/9dd0247af7da58969085d27c515065e285e00700/9e760f0f-697a-435d-95d7-b1f5a731d14d_,141,316,563,1266,2250,.mp4.csmil/manifest.f4m',\n",
       "   'duration': 'PT21M31S',\n",
       "   'carrierId': 'DVFJ67000211DA',\n",
       "   'webVttSubtitlesUrl': None,\n",
       "   'timedTextSubtitlesUrl': None,\n",
       "   'bufferDuration': None}],\n",
       " 'bitrateInfo': {'startIndex': 3, 'maxIndex': 4},\n",
       " 'playerType': 'flash',\n",
       " 'flashPlayerVersion': '1.13.000',\n",
       " 'flashPluginVersion': '3.10',\n",
       " 'isAvailable': True,\n",
       " 'messageType': 'NoMessage',\n",
       " 'mediaAnalytics': {'show': 'hurtigruten-minutt-for-minutt',\n",
       "  'title': 'bergen-floroe',\n",
       "  'category': 'underholdning',\n",
       "  'contentLength': '> 1,5 time',\n",
       "  'device': 'desktop',\n",
       "  'playerId': 'flash',\n",
       "  'deliveryType': 'O',\n",
       "  'cdnName': 'Akamai',\n",
       "  'playerInfo': 'desktop'},\n",
       " 'scoresStatistics': {'springStreamSite': 'nrkstream',\n",
       "  'springStreamStream': 'programspiller/odm/underholdning/hurtigruten-minutt-for-minutt/s2011e1223.bergen-floroe.DVFJ67000211',\n",
       "  'springStreamContentType': 'desktop',\n",
       "  'springStreamProgramId': 'DVFJ67000211'},\n",
       " 'convivaStatistics': {'assetName': 'DVFJ67000211-bergen-floroe-23-12-2011',\n",
       "  'cdnName': 'AKAMAI',\n",
       "  'deviceType': 'PC',\n",
       "  'playerName': 'NRK FLASH',\n",
       "  'isLive': False,\n",
       "  'playerVersion': 'Pakke75',\n",
       "  'contentType': 'N/A',\n",
       "  'contentId': 'DVFJ67000211',\n",
       "  'episodeName': '23.12.2011',\n",
       "  'seriesName': 'Hurtigruten minutt for minutt',\n",
       "  'contentLength': 22890},\n",
       " 'messageId': None,\n",
       " 'isLive': False,\n",
       " 'usageRights': {'isGeoBlocked': False,\n",
       "  'availableFrom': '/Date(1324636508000+0100)/',\n",
       "  'availableTo': '/Date(253402210800000+0100)/',\n",
       "  'hasRightsNow': True},\n",
       " 'akamaiBeacon': 'https://ma93-r.analytics.edgekey.net/config/beacon-9484.xml',\n",
       " 'liveBufferStartTime': None,\n",
       " 'fullTitle': 'Bergen - Florø 23.12.2011',\n",
       " 'mainTitle': 'Bergen - Florø',\n",
       " 'legalAge': 'A',\n",
       " 'relativeOriginUrl': 'serie/hurtigruten-minutt-for-minutt/DVFJ67000211/23-12-2011',\n",
       " 'duration': 'PT6H21M30.6S',\n",
       " 'shortIndexPoints': [],\n",
       " 'hasSubtitles': False,\n",
       " 'subtitlesDefaultOn': False,\n",
       " 'subtitlesUrlPath': None,\n",
       " 'seriesId': 'hurtigruten-minutt-for-minutt',\n",
       " 'seriesTitle': 'Hurtigruten minutt for minutt',\n",
       " 'episodeNumberOrDate': '23.12.2011',\n",
       " 'externalEmbeddingAllowed': True,\n",
       " 'startNextEpisode': 10}"
      ]
     },
     "execution_count": 16,
     "metadata": {},
     "output_type": "execute_result"
    }
   ],
   "source": [
    "r = session.get(NRK_PS_API + '/mediaelement/' + 'DVFJ67000211')\n",
    "r.raise_for_status()\n",
    "json = r.json()\n",
    "json"
   ]
  },
  {
   "cell_type": "code",
   "execution_count": null,
   "metadata": {},
   "outputs": [],
   "source": [
    "url = \"https://tv.nrk.no/serie/p3-sjekker-ut/MYNT12000317/sesong-1/episode-3\"\n",
    "parsed_url = urlpar"
   ]
  },
  {
   "cell_type": "code",
   "execution_count": null,
   "metadata": {},
   "outputs": [],
   "source": [
    "import nrkdownload"
   ]
  },
  {
   "cell_type": "code",
   "execution_count": null,
   "metadata": {},
   "outputs": [],
   "source": [
    "r = session.get(NRK_PS_API + '/mediaelement/' + 'MUHH48000516')\n",
    "r.raise_for_status()\n",
    "json = r.json()\n",
    "json"
   ]
  },
  {
   "cell_type": "code",
   "execution_count": null,
   "metadata": {},
   "outputs": [],
   "source": [
    "json['mediaAssets'][0]['url']"
   ]
  },
  {
   "cell_type": "code",
   "execution_count": null,
   "metadata": {},
   "outputs": [],
   "source": [
    "# MUHH48000516\n",
    "r = session.get(NRK_PS_API + '/mediaelement/' + 'mspo46500113')\n",
    "r.raise_for_status()\n",
    "json = r.json()\n",
    "json"
   ]
  },
  {
   "cell_type": "code",
   "execution_count": null,
   "metadata": {},
   "outputs": [],
   "source": [
    "r = session.get(NRK_PS_API + '/mediaelement/' + 'dvfj67000211')\n",
    "r.raise_for_status()\n",
    "json = r.json()\n",
    "json"
   ]
  },
  {
   "cell_type": "code",
   "execution_count": null,
   "metadata": {},
   "outputs": [],
   "source": [
    "json['mediaAssets'][0]['url']"
   ]
  },
  {
   "cell_type": "code",
   "execution_count": null,
   "metadata": {},
   "outputs": [],
   "source": [
    "json['programId'] = 'KOID22008416'\n",
    "json['imageId'] = json['image']['id']"
   ]
  },
  {
   "cell_type": "code",
   "execution_count": null,
   "metadata": {},
   "outputs": [],
   "source": []
  },
  {
   "cell_type": "code",
   "execution_count": null,
   "metadata": {},
   "outputs": [],
   "source": [
    "programs = []\n",
    "programs.append(nrkdownload.nrktv.Program(json))"
   ]
  },
  {
   "cell_type": "code",
   "execution_count": null,
   "metadata": {},
   "outputs": [],
   "source": [
    "nrkdownload.nrktv.ask_for_program_download(programs)"
   ]
  },
  {
   "cell_type": "markdown",
   "metadata": {},
   "source": [
    "# Categories"
   ]
  },
  {
   "cell_type": "markdown",
   "metadata": {},
   "source": [
    "## Get name of all categories"
   ]
  },
  {
   "cell_type": "code",
   "execution_count": null,
   "metadata": {
    "scrolled": true
   },
   "outputs": [],
   "source": [
    "r = session.get('https://tvapi.nrk.no/v1/categories')\n",
    "r.raise_for_status()\n",
    "r.json()"
   ]
  },
  {
   "cell_type": "markdown",
   "metadata": {},
   "source": [
    "## List programs within a category"
   ]
  },
  {
   "cell_type": "code",
   "execution_count": null,
   "metadata": {},
   "outputs": [],
   "source": [
    "r = session.get('https://tvapi.nrk.no/v1/categories/dokumentar')\n",
    "r.raise_for_status()\n",
    "r.json()"
   ]
  },
  {
   "cell_type": "code",
   "execution_count": null,
   "metadata": {},
   "outputs": [],
   "source": []
  },
  {
   "cell_type": "code",
   "execution_count": null,
   "metadata": {
    "scrolled": true
   },
   "outputs": [],
   "source": [
    "r = session.get('https://tvapi.nrk.no/v1/categories/vitenskap')\n",
    "r.raise_for_status()\n",
    "r.json()"
   ]
  }
 ],
 "metadata": {
  "anaconda-cloud": {},
  "kernelspec": {
   "display_name": "Python 3",
   "language": "python",
   "name": "python3"
  },
  "language_info": {
   "codemirror_mode": {
    "name": "ipython",
    "version": 3
   },
   "file_extension": ".py",
   "mimetype": "text/x-python",
   "name": "python",
   "nbconvert_exporter": "python",
   "pygments_lexer": "ipython3",
   "version": "3.6.5"
  },
  "toc": {
   "base_numbering": 1,
   "nav_menu": {},
   "number_sections": true,
   "sideBar": true,
   "skip_h1_title": false,
   "title_cell": "Table of Contents",
   "title_sidebar": "Contents",
   "toc_cell": false,
   "toc_position": {},
   "toc_section_display": true,
   "toc_window_display": true
  }
 },
 "nbformat": 4,
 "nbformat_minor": 1
}
