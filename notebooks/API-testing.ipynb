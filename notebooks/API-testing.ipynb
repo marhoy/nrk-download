{
 "cells": [
  {
   "cell_type": "code",
   "execution_count": 1,
   "metadata": {},
   "outputs": [],
   "source": [
    "import requests\n",
    "import os.path\n",
    "\n",
    "NRK_TV_API = 'https://tv.nrk.no'\n",
    "NRK_TV_MOBIL_API = 'https://tvapi.nrk.no/v1'\n",
    "NRK_PS_API = 'http://v8.psapi.nrk.no'\n",
    "\n",
    "session = requests.Session()\n",
    "session.headers['app-version-android'] = '999'\n"
   ]
  },
  {
   "cell_type": "markdown",
   "metadata": {},
   "source": [
    "# Searching"
   ]
  },
  {
   "cell_type": "markdown",
   "metadata": {},
   "source": [
    "## Search for a program that is not part of a series"
   ]
  },
  {
   "cell_type": "code",
   "execution_count": 2,
   "metadata": {},
   "outputs": [
    {
     "name": "stdout",
     "output_type": "stream",
     "text": [
      "No data received: 412 Client Error: Precondition Failed for url: https://tvapi.nrk.no/v1/search/DVFJ67000311\n"
     ]
    },
    {
     "ename": "NameError",
     "evalue": "name 'hits' is not defined",
     "output_type": "error",
     "traceback": [
      "\u001b[0;31m---------------------------------------------------------------------------\u001b[0m",
      "\u001b[0;31mNameError\u001b[0m                                 Traceback (most recent call last)",
      "\u001b[0;32m<ipython-input-2-a20928934679>\u001b[0m in \u001b[0;36m<module>\u001b[0;34m()\u001b[0m\n\u001b[1;32m      9\u001b[0m     \u001b[0mprint\u001b[0m\u001b[0;34m(\u001b[0m\u001b[0;34m'No data received: {}'\u001b[0m\u001b[0;34m.\u001b[0m\u001b[0mformat\u001b[0m\u001b[0;34m(\u001b[0m\u001b[0me\u001b[0m\u001b[0;34m)\u001b[0m\u001b[0;34m)\u001b[0m\u001b[0;34m\u001b[0m\u001b[0m\n\u001b[1;32m     10\u001b[0m \u001b[0;34m\u001b[0m\u001b[0m\n\u001b[0;32m---> 11\u001b[0;31m \u001b[0;32mfor\u001b[0m \u001b[0mi\u001b[0m\u001b[0;34m,\u001b[0m \u001b[0mhit\u001b[0m \u001b[0;32min\u001b[0m \u001b[0menumerate\u001b[0m\u001b[0;34m(\u001b[0m\u001b[0mhits\u001b[0m\u001b[0;34m)\u001b[0m\u001b[0;34m:\u001b[0m\u001b[0;34m\u001b[0m\u001b[0m\n\u001b[0m\u001b[1;32m     12\u001b[0m     \u001b[0;31m#if not hit['hit']['seriesId']:\u001b[0m\u001b[0;34m\u001b[0m\u001b[0;34m\u001b[0m\u001b[0m\n\u001b[1;32m     13\u001b[0m     \u001b[0;32mif\u001b[0m \u001b[0mhit\u001b[0m\u001b[0;34m[\u001b[0m\u001b[0;34m'type'\u001b[0m\u001b[0;34m]\u001b[0m \u001b[0;32mnot\u001b[0m \u001b[0;32min\u001b[0m \u001b[0;34m[\u001b[0m\u001b[0;34m'episode'\u001b[0m\u001b[0;34m,\u001b[0m \u001b[0;34m'series'\u001b[0m\u001b[0;34m]\u001b[0m\u001b[0;34m:\u001b[0m\u001b[0;34m\u001b[0m\u001b[0m\n",
      "\u001b[0;31mNameError\u001b[0m: name 'hits' is not defined"
     ]
    }
   ],
   "source": [
    "string = \"Sankthans-stemning fra Stavern\"\n",
    "string = \"Herdlefjorden\"\n",
    "string = \"DVFJ67000311\"\n",
    "try:\n",
    "    r = session.get('https://tvapi.nrk.no/v1/search/' + string)\n",
    "    r.raise_for_status()\n",
    "    hits = r.json()['hits']\n",
    "except Exception as e:\n",
    "    print('No data received: {}'.format(e))\n",
    "    \n",
    "for i, hit in enumerate(hits):\n",
    "    #if not hit['hit']['seriesId']:\n",
    "    if hit['type'] not in ['episode', 'series']:\n",
    "        print(i)"
   ]
  },
  {
   "cell_type": "code",
   "execution_count": 117,
   "metadata": {},
   "outputs": [],
   "source": [
    "hits"
   ]
  },
  {
   "cell_type": "markdown",
   "metadata": {},
   "source": [
    "## Search for a program that IS part of a series"
   ]
  },
  {
   "cell_type": "code",
   "execution_count": 41,
   "metadata": {},
   "outputs": [],
   "source": [
    "string = \"skam\"\n",
    "try:\n",
    "    r = session.get('https://tvapi.nrk.no/v1/search/' + string)\n",
    "    r.raise_for_status()\n",
    "    hits = r.json()['hits']\n",
    "except Exception as e:\n",
    "    print('No data received: {}'.format(e))"
   ]
  },
  {
   "cell_type": "code",
   "execution_count": 45,
   "metadata": {},
   "outputs": [
    {
     "name": "stdout",
     "output_type": "stream",
     "text": [
      "2\n"
     ]
    }
   ],
   "source": [
    "for i, hit in enumerate(hits):\n",
    "    if hit['type'] not in ['episode', 'serie']:\n",
    "        print(i)"
   ]
  },
  {
   "cell_type": "code",
   "execution_count": 46,
   "metadata": {},
   "outputs": [
    {
     "data": {
      "text/plain": [
       "{'type': 'program',\n",
       " 'hit': {'objectId': 'KOIF23006716',\n",
       "  'title': 'Skammerens datter',\n",
       "  'description': 'Tronarvingen Nicodemus anklages for å ha myrdet families. Skammeren Melussina og datteren Dina kan se i øynene hans at han er uskyldig. Men det nekter den onde Drakan å godta. Med: Rebecca Emilie Sattrup, Jakob Oftebro, Maria Bonnevie. Regi: Kenneth Kainz.',\n",
       "  'imageId': '9SXbxvTFO6W0Hm-FkMKUzg2QkK1IBLfTK-2Kd7HOccpg',\n",
       "  'seasons': [],\n",
       "  'duration': 92.23333,\n",
       "  'expires': None,\n",
       "  'seriesId': None,\n",
       "  'seasonNumber': None,\n",
       "  'seriesTitle': None,\n",
       "  'episodeNumberOrDate': None,\n",
       "  'episodeTitle': None,\n",
       "  'aldersgrense': '12',\n",
       "  'usageRights': {'availableFrom': 1533432719000,\n",
       "   'availableTo': 1534647929000,\n",
       "   'hasNoRights': False,\n",
       "   'geoblocked': True},\n",
       "  'programId': 'koif23006716',\n",
       "  'category': {'id': 'film-tv', 'categoryId': 'film', 'title': 'Film'}},\n",
       " 'highlights': None}"
      ]
     },
     "execution_count": 46,
     "metadata": {},
     "output_type": "execute_result"
    }
   ],
   "source": [
    "hits[2]"
   ]
  },
  {
   "cell_type": "markdown",
   "metadata": {},
   "source": [
    "## Search for a series"
   ]
  },
  {
   "cell_type": "code",
   "execution_count": 110,
   "metadata": {},
   "outputs": [],
   "source": [
    "string = \"skam\"\n",
    "string = \"tidenes sommer\"\n",
    "try:\n",
    "    r = session.get('https://tvapi.nrk.no/v1/search/' + string)\n",
    "    r.raise_for_status()\n",
    "    hits = r.json()['hits']\n",
    "except Exception as e:\n",
    "    print('No data received: {}'.format(e))\n",
    "\n",
    "for i, hit in enumerate(hits):\n",
    "    if hit['type'] == 'serie':\n",
    "        print(i)"
   ]
  },
  {
   "cell_type": "code",
   "execution_count": 111,
   "metadata": {},
   "outputs": [
    {
     "data": {
      "text/plain": [
       "{'type': 'program',\n",
       " 'hit': {'objectId': 'DVYR20000017',\n",
       "  'title': 'Væråret 2017',\n",
       "  'description': 'Bli med på en reise gjennom ekstreme kontraster. TV-meteorolog Siri Wiberg pynter til rosa jul mens hun gjenopplever livsfarlige flommer, tidenes snøvinter i nord og nok en guffen sommer i sør. Noen ganger er været blodig alvor, andre ganger ren lykke.',\n",
       "  'imageId': 'YwUYcFROsSu-Zxrqx8vWBwNpIw0dn3e--IQcLmxZndCw',\n",
       "  'seasons': [],\n",
       "  'duration': 44.283333,\n",
       "  'expires': None,\n",
       "  'seriesId': None,\n",
       "  'seasonNumber': None,\n",
       "  'seriesTitle': None,\n",
       "  'episodeNumberOrDate': None,\n",
       "  'episodeTitle': None,\n",
       "  'aldersgrense': '0',\n",
       "  'usageRights': {'availableFrom': 1514227535000,\n",
       "   'availableTo': 253402210800000,\n",
       "   'hasNoRights': False,\n",
       "   'geoblocked': False},\n",
       "  'programId': 'dvyr20000017',\n",
       "  'category': {'id': 'nyheter-tv',\n",
       "   'categoryId': 'nyheter',\n",
       "   'title': 'Nyheter'}},\n",
       " 'highlights': None}"
      ]
     },
     "execution_count": 111,
     "metadata": {},
     "output_type": "execute_result"
    }
   ],
   "source": [
    "hits[0]"
   ]
  },
  {
   "cell_type": "code",
   "execution_count": 55,
   "metadata": {},
   "outputs": [
    {
     "data": {
      "text/plain": [
       "datetime.datetime(2018, 8, 19, 5, 5, 29)"
      ]
     },
     "execution_count": 55,
     "metadata": {},
     "output_type": "execute_result"
    }
   ],
   "source": [
    "import datetime\n",
    "datetime.datetime.fromtimestamp(1534647929000/1000)"
   ]
  },
  {
   "cell_type": "code",
   "execution_count": 62,
   "metadata": {},
   "outputs": [
    {
     "data": {
      "text/plain": [
       "253402210800000"
      ]
     },
     "execution_count": 62,
     "metadata": {},
     "output_type": "execute_result"
    }
   ],
   "source": [
    "hits[10]['hit'['usageRights']['availableTo']"
   ]
  },
  {
   "cell_type": "code",
   "execution_count": 56,
   "metadata": {},
   "outputs": [
    {
     "data": {
      "text/plain": [
       "datetime.datetime(2018, 8, 8, 11, 31, 23, 462711)"
      ]
     },
     "execution_count": 56,
     "metadata": {},
     "output_type": "execute_result"
    }
   ],
   "source": [
    "datetime.datetime.now()"
   ]
  },
  {
   "cell_type": "code",
   "execution_count": 20,
   "metadata": {},
   "outputs": [
    {
     "name": "stdout",
     "output_type": "stream",
     "text": [
      "0\n"
     ]
    }
   ],
   "source": [
    "string = \"Vestlandsrevyen\"\n",
    "try:\n",
    "    r = session.get('https://tvapi.nrk.no/v1/search/' + string)\n",
    "    r.raise_for_status()\n",
    "    hits = r.json()['hits']\n",
    "except Exception as e:\n",
    "    print('No data received: {}'.format(e))\n",
    "\n",
    "for i, hit in enumerate(hits):\n",
    "    if hit['type'] == 'serie':\n",
    "        print(i)"
   ]
  },
  {
   "cell_type": "code",
   "execution_count": null,
   "metadata": {},
   "outputs": [],
   "source": []
  },
  {
   "cell_type": "code",
   "execution_count": 15,
   "metadata": {},
   "outputs": [
    {
     "ename": "AttributeError",
     "evalue": "'dict' object has no attribute 'get_seasons_and_episodes'",
     "output_type": "error",
     "traceback": [
      "\u001b[0;31m---------------------------------------------------------------------------\u001b[0m",
      "\u001b[0;31mAttributeError\u001b[0m                            Traceback (most recent call last)",
      "\u001b[0;32m<ipython-input-15-c148d88b691c>\u001b[0m in \u001b[0;36m<module>\u001b[0;34m()\u001b[0m\n\u001b[1;32m      1\u001b[0m \u001b[0ms\u001b[0m \u001b[0;34m=\u001b[0m \u001b[0mhits\u001b[0m\u001b[0;34m[\u001b[0m\u001b[0;36m0\u001b[0m\u001b[0;34m]\u001b[0m\u001b[0;34m\u001b[0m\u001b[0m\n\u001b[0;32m----> 2\u001b[0;31m \u001b[0ms\u001b[0m\u001b[0;34m.\u001b[0m\u001b[0mget_seasons_and_episodes\u001b[0m\u001b[0;34m(\u001b[0m\u001b[0;34m)\u001b[0m\u001b[0;34m\u001b[0m\u001b[0m\n\u001b[0m",
      "\u001b[0;31mAttributeError\u001b[0m: 'dict' object has no attribute 'get_seasons_and_episodes'"
     ]
    }
   ],
   "source": [
    "s = hits[0]\n",
    "s.get_seasons_and_episodes()"
   ]
  },
  {
   "cell_type": "code",
   "execution_count": null,
   "metadata": {},
   "outputs": [],
   "source": [
    "[val['id'] for val in hits[0]['hit']['seasons']]"
   ]
  },
  {
   "cell_type": "code",
   "execution_count": null,
   "metadata": {},
   "outputs": [],
   "source": []
  },
  {
   "cell_type": "code",
   "execution_count": null,
   "metadata": {},
   "outputs": [],
   "source": [
    "string = \"skam\"\n",
    "r = session.get('https://tvapi.nrk.no/v1/search/' + string)\n",
    "r.raise_for_status()\n",
    "json = r.json()\n",
    "json.keys()"
   ]
  },
  {
   "cell_type": "code",
   "execution_count": null,
   "metadata": {},
   "outputs": [],
   "source": [
    "json['hi']"
   ]
  },
  {
   "cell_type": "code",
   "execution_count": null,
   "metadata": {},
   "outputs": [],
   "source": [
    "json['metaData']"
   ]
  },
  {
   "cell_type": "code",
   "execution_count": null,
   "metadata": {},
   "outputs": [],
   "source": [
    "string = \"ikke gjør dette\"\n",
    "r = session.get('https://tv.nrk.no/autocomplete?query=' + string)\n",
    "r.raise_for_status()\n",
    "print(r.json().keys())\n",
    "r.json()['result']"
   ]
  },
  {
   "cell_type": "code",
   "execution_count": 107,
   "metadata": {},
   "outputs": [
    {
     "ename": "HTTPError",
     "evalue": "404 Client Error: Not Found for url: https://radio.nrk.no/autocomplete?query=ikke%20gj%C3%B8r%20dette",
     "output_type": "error",
     "traceback": [
      "\u001b[0;31m---------------------------------------------------------------------------\u001b[0m",
      "\u001b[0;31mHTTPError\u001b[0m                                 Traceback (most recent call last)",
      "\u001b[0;32m<ipython-input-107-f3b2a5d1501a>\u001b[0m in \u001b[0;36m<module>\u001b[0;34m()\u001b[0m\n\u001b[1;32m      1\u001b[0m \u001b[0mstring\u001b[0m \u001b[0;34m=\u001b[0m \u001b[0;34m\"ikke gjør dette\"\u001b[0m\u001b[0;34m\u001b[0m\u001b[0m\n\u001b[1;32m      2\u001b[0m \u001b[0mr\u001b[0m \u001b[0;34m=\u001b[0m \u001b[0msession\u001b[0m\u001b[0;34m.\u001b[0m\u001b[0mget\u001b[0m\u001b[0;34m(\u001b[0m\u001b[0;34m'https://radio.nrk.no/autocomplete?query='\u001b[0m \u001b[0;34m+\u001b[0m \u001b[0mstring\u001b[0m\u001b[0;34m)\u001b[0m\u001b[0;34m\u001b[0m\u001b[0m\n\u001b[0;32m----> 3\u001b[0;31m \u001b[0mr\u001b[0m\u001b[0;34m.\u001b[0m\u001b[0mraise_for_status\u001b[0m\u001b[0;34m(\u001b[0m\u001b[0;34m)\u001b[0m\u001b[0;34m\u001b[0m\u001b[0m\n\u001b[0m\u001b[1;32m      4\u001b[0m \u001b[0mprint\u001b[0m\u001b[0;34m(\u001b[0m\u001b[0mr\u001b[0m\u001b[0;34m.\u001b[0m\u001b[0mjson\u001b[0m\u001b[0;34m(\u001b[0m\u001b[0;34m)\u001b[0m\u001b[0;34m.\u001b[0m\u001b[0mkeys\u001b[0m\u001b[0;34m(\u001b[0m\u001b[0;34m)\u001b[0m\u001b[0;34m)\u001b[0m\u001b[0;34m\u001b[0m\u001b[0m\n\u001b[1;32m      5\u001b[0m \u001b[0mr\u001b[0m\u001b[0;34m.\u001b[0m\u001b[0mjson\u001b[0m\u001b[0;34m(\u001b[0m\u001b[0;34m)\u001b[0m\u001b[0;34m[\u001b[0m\u001b[0;34m'result'\u001b[0m\u001b[0;34m]\u001b[0m\u001b[0;34m\u001b[0m\u001b[0m\n",
      "\u001b[0;32m~/miniconda3/envs/python3dev/lib/python3.6/site-packages/requests/models.py\u001b[0m in \u001b[0;36mraise_for_status\u001b[0;34m(self)\u001b[0m\n\u001b[1;32m    933\u001b[0m \u001b[0;34m\u001b[0m\u001b[0m\n\u001b[1;32m    934\u001b[0m         \u001b[0;32mif\u001b[0m \u001b[0mhttp_error_msg\u001b[0m\u001b[0;34m:\u001b[0m\u001b[0;34m\u001b[0m\u001b[0m\n\u001b[0;32m--> 935\u001b[0;31m             \u001b[0;32mraise\u001b[0m \u001b[0mHTTPError\u001b[0m\u001b[0;34m(\u001b[0m\u001b[0mhttp_error_msg\u001b[0m\u001b[0;34m,\u001b[0m \u001b[0mresponse\u001b[0m\u001b[0;34m=\u001b[0m\u001b[0mself\u001b[0m\u001b[0;34m)\u001b[0m\u001b[0;34m\u001b[0m\u001b[0m\n\u001b[0m\u001b[1;32m    936\u001b[0m \u001b[0;34m\u001b[0m\u001b[0m\n\u001b[1;32m    937\u001b[0m     \u001b[0;32mdef\u001b[0m \u001b[0mclose\u001b[0m\u001b[0;34m(\u001b[0m\u001b[0mself\u001b[0m\u001b[0;34m)\u001b[0m\u001b[0;34m:\u001b[0m\u001b[0;34m\u001b[0m\u001b[0m\n",
      "\u001b[0;31mHTTPError\u001b[0m: 404 Client Error: Not Found for url: https://radio.nrk.no/autocomplete?query=ikke%20gj%C3%B8r%20dette"
     ]
    }
   ],
   "source": [
    "string = \"ikke gjør dette\"\n",
    "r = session.get('https://radio.nrk.no/autocomplete?query=' + string)\n",
    "r.raise_for_status()\n",
    "print(r.json().keys())\n",
    "r.json()['result']"
   ]
  },
  {
   "cell_type": "code",
   "execution_count": null,
   "metadata": {},
   "outputs": [],
   "source": [
    "json['hits']"
   ]
  },
  {
   "cell_type": "code",
   "execution_count": null,
   "metadata": {},
   "outputs": [],
   "source": [
    "json = r.json()\n",
    "json['hits']"
   ]
  },
  {
   "cell_type": "markdown",
   "metadata": {},
   "source": [
    "# Get episodes and seasons of a series"
   ]
  },
  {
   "cell_type": "code",
   "execution_count": 154,
   "metadata": {},
   "outputs": [],
   "source": [
    "seriesId = 'hurtigruten-minutt-for-minutt' #ikke-gjoer-dette-hjemme'\n",
    "seriesId = 'tidenes-sommer'\n",
    "seriesId = 'skam'\n",
    "r = session.get(NRK_TV_MOBIL_API + '/series/' + seriesId)\n",
    "r.raise_for_status()\n",
    "json = r.json()"
   ]
  },
  {
   "cell_type": "code",
   "execution_count": 155,
   "metadata": {},
   "outputs": [
    {
     "data": {
      "text/plain": [
       "{'seriesId': 'skam',\n",
       " 'title': 'SKAM',\n",
       " 'description': 'SKAM er en nettdramaserie som følger en gjeng på Hartvig Nissen videregående skole i Oslo. Du kan følge serien hver dag på skam.p3.no. Hver fredag kan du se alle ukens filmer samlet i en episode her. Anbefalt målgruppe 15 år.',\n",
       " 'seasonIds': [{'id': 91415, 'name': 'Sesong 4'},\n",
       "  {'id': 85475, 'name': 'Sesong 3'},\n",
       "  {'id': 76968, 'name': 'Sesong 2'},\n",
       "  {'id': 70522, 'name': 'Sesong 1'}],\n",
       " 'imageId': 'TEFdD69m0SjyvkknfPsMvgncdCcMW-aiJbQG-iSCHb3g',\n",
       " 'category': {'categoryId': 'drama-serier', 'displayValue': 'Drama/serier'},\n",
       " 'categories': [{'categoryId': 'drama-serier',\n",
       "   'displayValue': 'Drama/serier'}],\n",
       " 'programs': [{'title': 'SKAM',\n",
       "   'description': '– Denne talen er til deg.',\n",
       "   'episodeNumberOrDate': '10:10',\n",
       "   'programId': 'mynt15001017',\n",
       "   'seriesId': 'skam',\n",
       "   'imageId': 'zBtIJpNvPHQsxAdRUilchwZPVEwl1iLQN2AVmw5vnucg',\n",
       "   'category': {'categoryId': 'drama-serier', 'displayValue': 'Drama/serier'},\n",
       "   'categories': [{'categoryId': 'drama-serier',\n",
       "     'displayValue': 'Drama/serier'}],\n",
       "   'seasonId': 91415,\n",
       "   'usageRights': {'availableFrom': 1498339500000,\n",
       "    'availableTo': 253402210800000,\n",
       "    'hasNoRights': False,\n",
       "    'geoblocked': True},\n",
       "   'legalAge': '12',\n",
       "   'parts': [],\n",
       "   'duration': 3567000,\n",
       "   'isAvailable': True,\n",
       "   'legalAgeDisplayValue': 'Aldersgrense 12 år'},\n",
       "  {'title': 'SKAM',\n",
       "   'description': '– Når drar du?',\n",
       "   'episodeNumberOrDate': '9:10',\n",
       "   'programId': 'mynt15000917',\n",
       "   'seriesId': 'skam',\n",
       "   'imageId': 'rrsu20c_hC1ABM_Fq0DySwtHjbjAhL-dLK7zbjLtm8hA',\n",
       "   'category': {'categoryId': 'drama-serier', 'displayValue': 'Drama/serier'},\n",
       "   'categories': [{'categoryId': 'drama-serier',\n",
       "     'displayValue': 'Drama/serier'}],\n",
       "   'seasonId': 91415,\n",
       "   'usageRights': {'availableFrom': 1497637200000,\n",
       "    'availableTo': 253402210800000,\n",
       "    'hasNoRights': False,\n",
       "    'geoblocked': True},\n",
       "   'legalAge': '12',\n",
       "   'parts': [],\n",
       "   'duration': 2901160,\n",
       "   'isAvailable': True,\n",
       "   'legalAgeDisplayValue': 'Aldersgrense 12 år'},\n",
       "  {'title': 'SKAM',\n",
       "   'description': '– Vær så snill, tilgi meg.',\n",
       "   'episodeNumberOrDate': '8:10',\n",
       "   'programId': 'mynt15000817',\n",
       "   'seriesId': 'skam',\n",
       "   'imageId': 'hDfi45GpMHznSS867So8FwvyDz-ZqlpVDSJOntmwpCZA',\n",
       "   'category': {'categoryId': 'drama-serier', 'displayValue': 'Drama/serier'},\n",
       "   'categories': [{'categoryId': 'drama-serier',\n",
       "     'displayValue': 'Drama/serier'}],\n",
       "   'seasonId': 91415,\n",
       "   'usageRights': {'availableFrom': 1497032400000,\n",
       "    'availableTo': 253402210800000,\n",
       "    'hasNoRights': False,\n",
       "    'geoblocked': True},\n",
       "   'legalAge': '12',\n",
       "   'parts': [],\n",
       "   'duration': 2154760,\n",
       "   'isAvailable': True,\n",
       "   'legalAgeDisplayValue': 'Aldersgrense 12 år'},\n",
       "  {'title': 'SKAM',\n",
       "   'description': '– Det er noen som angriper oss.',\n",
       "   'episodeNumberOrDate': '7:10',\n",
       "   'programId': 'mynt15000717',\n",
       "   'seriesId': 'skam',\n",
       "   'imageId': 'YeHuEmaH0V2nfapHnUwBxArOyDiLWCGRkiFgjKLcJ9-A',\n",
       "   'category': {'categoryId': 'drama-serier', 'displayValue': 'Drama/serier'},\n",
       "   'categories': [{'categoryId': 'drama-serier',\n",
       "     'displayValue': 'Drama/serier'}],\n",
       "   'seasonId': 91415,\n",
       "   'usageRights': {'availableFrom': 1496427600000,\n",
       "    'availableTo': 253402210800000,\n",
       "    'hasNoRights': False,\n",
       "    'geoblocked': True},\n",
       "   'legalAge': '12',\n",
       "   'parts': [],\n",
       "   'duration': 2202400,\n",
       "   'isAvailable': True,\n",
       "   'legalAgeDisplayValue': 'Aldersgrense 12 år'},\n",
       "  {'title': 'SKAM',\n",
       "   'description': '– Fake, fake, fake.',\n",
       "   'episodeNumberOrDate': '6:10',\n",
       "   'programId': 'mynt15000617',\n",
       "   'seriesId': 'skam',\n",
       "   'imageId': 'YO4twLLgD5uNtYoWQfCRlgj8TB38K1-2FqntJfH7uEqw',\n",
       "   'category': {'categoryId': 'drama-serier', 'displayValue': 'Drama/serier'},\n",
       "   'categories': [{'categoryId': 'drama-serier',\n",
       "     'displayValue': 'Drama/serier'}],\n",
       "   'seasonId': 91415,\n",
       "   'usageRights': {'availableFrom': 1495822800000,\n",
       "    'availableTo': 253402210800000,\n",
       "    'hasNoRights': False,\n",
       "    'geoblocked': True},\n",
       "   'legalAge': '12',\n",
       "   'parts': [],\n",
       "   'duration': 1850480,\n",
       "   'isAvailable': True,\n",
       "   'legalAgeDisplayValue': 'Aldersgrense 12 år'},\n",
       "  {'title': 'SKAM',\n",
       "   'description': '– Når du er trist, er jeg også trist.',\n",
       "   'episodeNumberOrDate': '5:10',\n",
       "   'programId': 'mynt15000517',\n",
       "   'seriesId': 'skam',\n",
       "   'imageId': 'c-kgWlFfm7GfVv2JdZnqoAe2LgnJCiJjTMYhDm-4eD8w',\n",
       "   'category': {'categoryId': 'drama-serier', 'displayValue': 'Drama/serier'},\n",
       "   'categories': [{'categoryId': 'drama-serier',\n",
       "     'displayValue': 'Drama/serier'}],\n",
       "   'seasonId': 91415,\n",
       "   'usageRights': {'availableFrom': 1494615300000,\n",
       "    'availableTo': 253402210800000,\n",
       "    'hasNoRights': False,\n",
       "    'geoblocked': True},\n",
       "   'legalAge': '12',\n",
       "   'parts': [],\n",
       "   'duration': 1649760,\n",
       "   'isAvailable': True,\n",
       "   'legalAgeDisplayValue': 'Aldersgrense 12 år'},\n",
       "  {'title': 'SKAM',\n",
       "   'description': '– Er ikke forelska par helt sjukt ekle?',\n",
       "   'episodeNumberOrDate': '4:10',\n",
       "   'programId': 'mynt15000417',\n",
       "   'seriesId': 'skam',\n",
       "   'imageId': '55Gwjoklfl7rVmQHE_wpTQHJvOVVUylffFS6qJygPV2g',\n",
       "   'category': {'categoryId': 'drama-serier', 'displayValue': 'Drama/serier'},\n",
       "   'categories': [{'categoryId': 'drama-serier',\n",
       "     'displayValue': 'Drama/serier'}],\n",
       "   'seasonId': 91415,\n",
       "   'usageRights': {'availableFrom': 1494008400000,\n",
       "    'availableTo': 253402210800000,\n",
       "    'hasNoRights': False,\n",
       "    'geoblocked': True},\n",
       "   'legalAge': '12',\n",
       "   'parts': [],\n",
       "   'duration': 1824000,\n",
       "   'isAvailable': True,\n",
       "   'legalAgeDisplayValue': 'Aldersgrense 12 år'},\n",
       "  {'title': 'SKAM',\n",
       "   'description': '– Trenger du hjelp?',\n",
       "   'episodeNumberOrDate': '3:10',\n",
       "   'programId': 'mynt15000317',\n",
       "   'seriesId': 'skam',\n",
       "   'imageId': 'ZVLmJsMDq-RQjfm_dXjyDQ05UZS7Qt_sTc4sN5PYzJ_A',\n",
       "   'category': {'categoryId': 'drama-serier', 'displayValue': 'Drama/serier'},\n",
       "   'categories': [{'categoryId': 'drama-serier',\n",
       "     'displayValue': 'Drama/serier'}],\n",
       "   'seasonId': 91415,\n",
       "   'usageRights': {'availableFrom': 1493403600000,\n",
       "    'availableTo': 253402210800000,\n",
       "    'hasNoRights': False,\n",
       "    'geoblocked': True},\n",
       "   'legalAge': '12',\n",
       "   'parts': [],\n",
       "   'duration': 1696000,\n",
       "   'isAvailable': True,\n",
       "   'legalAgeDisplayValue': 'Aldersgrense 12 år'},\n",
       "  {'title': 'SKAM',\n",
       "   'description': '– Vanlige, norske partyjenter.',\n",
       "   'episodeNumberOrDate': '2:10',\n",
       "   'programId': 'mynt15000217',\n",
       "   'seriesId': 'skam',\n",
       "   'imageId': 'vIuYRC8ItV4vqFxluMLIxQUvhGaB6ivtjIGYGP9wlclw',\n",
       "   'category': {'categoryId': 'drama-serier', 'displayValue': 'Drama/serier'},\n",
       "   'categories': [{'categoryId': 'drama-serier',\n",
       "     'displayValue': 'Drama/serier'}],\n",
       "   'seasonId': 91415,\n",
       "   'usageRights': {'availableFrom': 1492798800000,\n",
       "    'availableTo': 253402210800000,\n",
       "    'hasNoRights': False,\n",
       "    'geoblocked': True},\n",
       "   'legalAge': '12',\n",
       "   'parts': [],\n",
       "   'duration': 1093280,\n",
       "   'isAvailable': True,\n",
       "   'legalAgeDisplayValue': 'Aldersgrense 12 år'},\n",
       "  {'title': 'SKAM',\n",
       "   'description': '– Du hater å henge med oss.',\n",
       "   'episodeNumberOrDate': '1:10',\n",
       "   'programId': 'mynt15000117',\n",
       "   'seriesId': 'skam',\n",
       "   'imageId': 'TEFdD69m0SjyvkknfPsMvgncdCcMW-aiJbQG-iSCHb3g',\n",
       "   'category': {'categoryId': 'drama-serier', 'displayValue': 'Drama/serier'},\n",
       "   'categories': [{'categoryId': 'drama-serier',\n",
       "     'displayValue': 'Drama/serier'}],\n",
       "   'seasonId': 91415,\n",
       "   'usageRights': {'availableFrom': 1492194300000,\n",
       "    'availableTo': 253402210800000,\n",
       "    'hasNoRights': False,\n",
       "    'geoblocked': True},\n",
       "   'legalAge': '12',\n",
       "   'parts': [],\n",
       "   'duration': 1508720,\n",
       "   'isAvailable': True,\n",
       "   'legalAgeDisplayValue': 'Aldersgrense 12 år'},\n",
       "  {'title': 'SKAM',\n",
       "   'description': '- bare én ting vi alle vet helt sikkert. At livet er ... NÅ. ',\n",
       "   'episodeNumberOrDate': '10:10',\n",
       "   'programId': 'mynt15201016',\n",
       "   'seriesId': 'skam',\n",
       "   'imageId': 'WhEcAU_WtjkV7gavPEjPPQZuc2c4oY3EMW9nmWu0Fmfg',\n",
       "   'category': {'categoryId': 'drama-serier', 'displayValue': 'Drama/serier'},\n",
       "   'categories': [{'categoryId': 'drama-serier',\n",
       "     'displayValue': 'Drama/serier'}],\n",
       "   'seasonId': 85475,\n",
       "   'usageRights': {'availableFrom': 1481916000000,\n",
       "    'availableTo': 253402210800000,\n",
       "    'hasNoRights': False,\n",
       "    'geoblocked': True},\n",
       "   'legalAge': '12',\n",
       "   'parts': [],\n",
       "   'duration': 1983400,\n",
       "   'isAvailable': True,\n",
       "   'legalAgeDisplayValue': 'Aldersgrense 12 år'},\n",
       "  {'title': 'SKAM',\n",
       "   'description': '– Velkommen til mobilsvar.',\n",
       "   'episodeNumberOrDate': '9:10',\n",
       "   'programId': 'mynt15200916',\n",
       "   'seriesId': 'skam',\n",
       "   'imageId': 'mnLAOHNCEONr62cH86r3dgd9DmRsUwzxjzzJ5OC8lo0g',\n",
       "   'category': {'categoryId': 'drama-serier', 'displayValue': 'Drama/serier'},\n",
       "   'categories': [{'categoryId': 'drama-serier',\n",
       "     'displayValue': 'Drama/serier'}],\n",
       "   'seasonId': 85475,\n",
       "   'usageRights': {'availableFrom': 1481314800000,\n",
       "    'availableTo': 253402210800000,\n",
       "    'hasNoRights': False,\n",
       "    'geoblocked': True},\n",
       "   'legalAge': '12',\n",
       "   'parts': [],\n",
       "   'duration': 1098680,\n",
       "   'isAvailable': True,\n",
       "   'legalAgeDisplayValue': 'Aldersgrense 12 år'},\n",
       "  {'title': 'SKAM',\n",
       "   'description': '– Drit i å ringe Isak.',\n",
       "   'episodeNumberOrDate': '8:10',\n",
       "   'programId': 'mynt15200816',\n",
       "   'seriesId': 'skam',\n",
       "   'imageId': 'wPyRn8wRGUZxwB7soRegJgE43z8-G3mIS-N47lYJUPsA',\n",
       "   'category': {'categoryId': 'drama-serier', 'displayValue': 'Drama/serier'},\n",
       "   'categories': [{'categoryId': 'drama-serier',\n",
       "     'displayValue': 'Drama/serier'}],\n",
       "   'seasonId': 85475,\n",
       "   'usageRights': {'availableFrom': 1480710600000,\n",
       "    'availableTo': 253402210800000,\n",
       "    'hasNoRights': False,\n",
       "    'geoblocked': True},\n",
       "   'legalAge': '12',\n",
       "   'parts': [],\n",
       "   'duration': 1775160,\n",
       "   'isAvailable': True,\n",
       "   'legalAgeDisplayValue': 'Aldersgrense 12 år'},\n",
       "  {'title': 'SKAM',\n",
       "   'description': '– Er du homo?',\n",
       "   'episodeNumberOrDate': '7:10',\n",
       "   'programId': 'mynt15200716',\n",
       "   'seriesId': 'skam',\n",
       "   'imageId': '_KmgKlkVipOrxm_vuXgkXwaDpuyXKay06WkF7RfDdUWQ',\n",
       "   'category': {'categoryId': 'drama-serier', 'displayValue': 'Drama/serier'},\n",
       "   'categories': [{'categoryId': 'drama-serier',\n",
       "     'displayValue': 'Drama/serier'}],\n",
       "   'seasonId': 85475,\n",
       "   'usageRights': {'availableFrom': 1480101600000,\n",
       "    'availableTo': 253402210800000,\n",
       "    'hasNoRights': False,\n",
       "    'geoblocked': True},\n",
       "   'legalAge': '12',\n",
       "   'parts': [],\n",
       "   'duration': 1370000,\n",
       "   'isAvailable': True,\n",
       "   'legalAgeDisplayValue': 'Aldersgrense 12 år'},\n",
       "  {'title': 'SKAM',\n",
       "   'description': '– Kan du ikke bare si det?',\n",
       "   'episodeNumberOrDate': '6:10',\n",
       "   'programId': 'mynt15200616',\n",
       "   'seriesId': 'skam',\n",
       "   'imageId': 'T9hTR6MNeoInG-aQmWWDEA9Iwnr3wtuBCU0TCvdnIN8w',\n",
       "   'category': {'categoryId': 'drama-serier', 'displayValue': 'Drama/serier'},\n",
       "   'categories': [{'categoryId': 'drama-serier',\n",
       "     'displayValue': 'Drama/serier'}],\n",
       "   'seasonId': 85475,\n",
       "   'usageRights': {'availableFrom': 1479496800000,\n",
       "    'availableTo': 253402210800000,\n",
       "    'hasNoRights': False,\n",
       "    'geoblocked': True},\n",
       "   'legalAge': '12',\n",
       "   'parts': [],\n",
       "   'duration': 1143000,\n",
       "   'isAvailable': True,\n",
       "   'legalAgeDisplayValue': 'Aldersgrense 12 år'},\n",
       "  {'title': 'SKAM',\n",
       "   'description': '– Kan jeg bli her med deg for alltid?',\n",
       "   'episodeNumberOrDate': '5:10',\n",
       "   'programId': 'mynt15200516',\n",
       "   'seriesId': 'skam',\n",
       "   'imageId': 'L4yhYx2GUfZdMH4A-Lo6FwrdMSZSGRp3Kh48m2fSR9cg',\n",
       "   'category': {'categoryId': 'drama-serier', 'displayValue': 'Drama/serier'},\n",
       "   'categories': [{'categoryId': 'drama-serier',\n",
       "     'displayValue': 'Drama/serier'}],\n",
       "   'seasonId': 85475,\n",
       "   'usageRights': {'availableFrom': 1478292600000,\n",
       "    'availableTo': 253402210800000,\n",
       "    'hasNoRights': False,\n",
       "    'geoblocked': True},\n",
       "   'legalAge': '12',\n",
       "   'parts': [],\n",
       "   'duration': 1815560,\n",
       "   'isAvailable': True,\n",
       "   'legalAgeDisplayValue': 'Aldersgrense 12 år'},\n",
       "  {'title': 'SKAM',\n",
       "   'description': '– Da vorser vi sammen?',\n",
       "   'episodeNumberOrDate': '4:10',\n",
       "   'programId': 'mynt15200416',\n",
       "   'seriesId': 'skam',\n",
       "   'imageId': 'MUsyVUpq9MlWklcGLIi-ug-1myiruuSzpsFEeggtdLlw',\n",
       "   'category': {'categoryId': 'drama-serier', 'displayValue': 'Drama/serier'},\n",
       "   'categories': [{'categoryId': 'drama-serier',\n",
       "     'displayValue': 'Drama/serier'}],\n",
       "   'seasonId': 85475,\n",
       "   'usageRights': {'availableFrom': 1477682700000,\n",
       "    'availableTo': 253402210800000,\n",
       "    'hasNoRights': False,\n",
       "    'geoblocked': True},\n",
       "   'legalAge': '12',\n",
       "   'parts': [],\n",
       "   'duration': 1217920,\n",
       "   'isAvailable': True,\n",
       "   'legalAgeDisplayValue': 'Aldersgrense 12 år'},\n",
       "  {'title': 'SKAM',\n",
       "   'description': '– Hun er på.',\n",
       "   'episodeNumberOrDate': '3:10',\n",
       "   'programId': 'mynt15200316',\n",
       "   'seriesId': 'skam',\n",
       "   'imageId': 'KBGIs3S4uc8L5AdsqLS43Q3TiJLlJ5pmy_ju5lFgWY7A',\n",
       "   'category': {'categoryId': 'drama-serier', 'displayValue': 'Drama/serier'},\n",
       "   'categories': [{'categoryId': 'drama-serier',\n",
       "     'displayValue': 'Drama/serier'}],\n",
       "   'seasonId': 85475,\n",
       "   'usageRights': {'availableFrom': 1477074000000,\n",
       "    'availableTo': 253402210800000,\n",
       "    'hasNoRights': False,\n",
       "    'geoblocked': True},\n",
       "   'legalAge': '12',\n",
       "   'parts': [],\n",
       "   'duration': 1318280,\n",
       "   'isAvailable': True,\n",
       "   'legalAgeDisplayValue': 'Aldersgrense 12 år'},\n",
       "  {'title': 'SKAM',\n",
       "   'description': '– Du er over 18, sant?',\n",
       "   'episodeNumberOrDate': '2:10',\n",
       "   'programId': 'mynt15200216',\n",
       "   'seriesId': 'skam',\n",
       "   'imageId': 'P2hHJitxZ0rDNWcT3mGLVwUqKO8VsM278-4_aoYIsMZA',\n",
       "   'category': {'categoryId': 'drama-serier', 'displayValue': 'Drama/serier'},\n",
       "   'categories': [{'categoryId': 'drama-serier',\n",
       "     'displayValue': 'Drama/serier'}],\n",
       "   'seasonId': 85475,\n",
       "   'usageRights': {'availableFrom': 1476469200000,\n",
       "    'availableTo': 253402210800000,\n",
       "    'hasNoRights': False,\n",
       "    'geoblocked': True},\n",
       "   'legalAge': '12',\n",
       "   'parts': [],\n",
       "   'duration': 1529480,\n",
       "   'isAvailable': True,\n",
       "   'legalAgeDisplayValue': 'Aldersgrense 12 år'},\n",
       "  {'title': 'SKAM',\n",
       "   'description': '– Lykke til, Isak.',\n",
       "   'episodeNumberOrDate': '1:10',\n",
       "   'programId': 'mynt15200116',\n",
       "   'seriesId': 'skam',\n",
       "   'imageId': 'QRDw0LdSpNIbEgcPmF7E2gYkkSXyGoz2I1FB9qEnvQ1A',\n",
       "   'category': {'categoryId': 'drama-serier', 'displayValue': 'Drama/serier'},\n",
       "   'categories': [{'categoryId': 'drama-serier',\n",
       "     'displayValue': 'Drama/serier'}],\n",
       "   'seasonId': 85475,\n",
       "   'usageRights': {'availableFrom': 1475864400000,\n",
       "    'availableTo': 253402210800000,\n",
       "    'hasNoRights': False,\n",
       "    'geoblocked': True},\n",
       "   'legalAge': '12',\n",
       "   'parts': [],\n",
       "   'duration': 1629520,\n",
       "   'isAvailable': True,\n",
       "   'legalAgeDisplayValue': 'Aldersgrense 12 år'},\n",
       "  {'title': 'SKAM',\n",
       "   'description': '– Vil du flytte sammen med meg?',\n",
       "   'episodeNumberOrDate': '12:12',\n",
       "   'programId': 'mynt15001216',\n",
       "   'seriesId': 'skam',\n",
       "   'imageId': 'k_YLvfol8QKyOXcGrB1tewZbjUoYXJKypM18efvTbNwA',\n",
       "   'category': {'categoryId': 'drama-serier', 'displayValue': 'Drama/serier'},\n",
       "   'categories': [{'categoryId': 'drama-serier',\n",
       "     'displayValue': 'Drama/serier'}],\n",
       "   'seasonId': 76968,\n",
       "   'usageRights': {'availableFrom': 1464978000000,\n",
       "    'availableTo': 253402210800000,\n",
       "    'hasNoRights': False,\n",
       "    'geoblocked': True},\n",
       "   'legalAge': '12',\n",
       "   'parts': [],\n",
       "   'duration': 2967000,\n",
       "   'isAvailable': True,\n",
       "   'legalAgeDisplayValue': 'Aldersgrense 12 år'},\n",
       "  {'title': 'SKAM',\n",
       "   'description': '– Husker du seriøst ingenting?',\n",
       "   'episodeNumberOrDate': '11:12',\n",
       "   'programId': 'mynt15001116',\n",
       "   'seriesId': 'skam',\n",
       "   'imageId': 'k6oYR7QleoTPhAkXbq8hcwtau1u3VN-TLwzoxSdXQKJQ',\n",
       "   'category': {'categoryId': 'drama-serier', 'displayValue': 'Drama/serier'},\n",
       "   'categories': [{'categoryId': 'drama-serier',\n",
       "     'displayValue': 'Drama/serier'}],\n",
       "   'seasonId': 76968,\n",
       "   'usageRights': {'availableFrom': 1464373200000,\n",
       "    'availableTo': 253402210800000,\n",
       "    'hasNoRights': False,\n",
       "    'geoblocked': True},\n",
       "   'legalAge': '12',\n",
       "   'parts': [],\n",
       "   'duration': 1791800,\n",
       "   'isAvailable': True,\n",
       "   'legalAgeDisplayValue': 'Aldersgrense 12 år'},\n",
       "  {'title': 'SKAM',\n",
       "   'description': '– Jeg skal forklare alt.',\n",
       "   'episodeNumberOrDate': '10:12',\n",
       "   'programId': 'mynt15001016',\n",
       "   'seriesId': 'skam',\n",
       "   'imageId': 'dE9TWCap-cPlcystljhHTQOXN4FHZbb0ioVcgd3Ua_Jg',\n",
       "   'category': {'categoryId': 'drama-serier', 'displayValue': 'Drama/serier'},\n",
       "   'categories': [{'categoryId': 'drama-serier',\n",
       "     'displayValue': 'Drama/serier'}],\n",
       "   'seasonId': 76968,\n",
       "   'usageRights': {'availableFrom': 1463768400000,\n",
       "    'availableTo': 253402210800000,\n",
       "    'hasNoRights': False,\n",
       "    'geoblocked': True},\n",
       "   'legalAge': '12',\n",
       "   'parts': [],\n",
       "   'duration': 2890000,\n",
       "   'isAvailable': True,\n",
       "   'legalAgeDisplayValue': 'Aldersgrense 12 år'},\n",
       "  {'title': 'SKAM',\n",
       "   'description': '– Jeg savner deg så jævlig.',\n",
       "   'episodeNumberOrDate': '9:12',\n",
       "   'programId': 'mynt15000916',\n",
       "   'seriesId': 'skam',\n",
       "   'imageId': 'SwnRFI0rFB4NJ-XzfT0m-AvGN3XaLltdfWvBMHXnSxpQ',\n",
       "   'category': {'categoryId': 'drama-serier', 'displayValue': 'Drama/serier'},\n",
       "   'categories': [{'categoryId': 'drama-serier',\n",
       "     'displayValue': 'Drama/serier'}],\n",
       "   'seasonId': 76968,\n",
       "   'usageRights': {'availableFrom': 1463163600000,\n",
       "    'availableTo': 253402210800000,\n",
       "    'hasNoRights': False,\n",
       "    'geoblocked': True},\n",
       "   'legalAge': '12',\n",
       "   'parts': [],\n",
       "   'duration': 1270840,\n",
       "   'isAvailable': True,\n",
       "   'legalAgeDisplayValue': 'Aldersgrense 12 år'},\n",
       "  {'title': 'SKAM',\n",
       "   'description': '– Du bare tenker på William.',\n",
       "   'episodeNumberOrDate': '8:12',\n",
       "   'programId': 'mynt15000816',\n",
       "   'seriesId': 'skam',\n",
       "   'imageId': 'GuZznqldp2UsJdLxOJrHXQs1XaNiVO1GJDUzwCe8CVAA',\n",
       "   'category': {'categoryId': 'drama-serier', 'displayValue': 'Drama/serier'},\n",
       "   'categories': [{'categoryId': 'drama-serier',\n",
       "     'displayValue': 'Drama/serier'}],\n",
       "   'seasonId': 76968,\n",
       "   'usageRights': {'availableFrom': 1462559400000,\n",
       "    'availableTo': 253402210800000,\n",
       "    'hasNoRights': False,\n",
       "    'geoblocked': True},\n",
       "   'legalAge': '12',\n",
       "   'parts': [],\n",
       "   'duration': 2429120,\n",
       "   'isAvailable': True,\n",
       "   'legalAgeDisplayValue': 'Aldersgrense 12 år'},\n",
       "  {'title': 'SKAM',\n",
       "   'description': '– Noora, du trenger pikk.',\n",
       "   'episodeNumberOrDate': '7:12',\n",
       "   'programId': 'mynt15000716',\n",
       "   'seriesId': 'skam',\n",
       "   'imageId': 'Sakhx776IMeX1UqVgYwGwg17xRVTc0IV-KC0dtc2NtSQ',\n",
       "   'category': {'categoryId': 'drama-serier', 'displayValue': 'Drama/serier'},\n",
       "   'categories': [{'categoryId': 'drama-serier',\n",
       "     'displayValue': 'Drama/serier'}],\n",
       "   'seasonId': 76968,\n",
       "   'usageRights': {'availableFrom': 1461958175000,\n",
       "    'availableTo': 253402210800000,\n",
       "    'hasNoRights': False,\n",
       "    'geoblocked': True},\n",
       "   'legalAge': '12',\n",
       "   'parts': [],\n",
       "   'duration': 1389760,\n",
       "   'isAvailable': True,\n",
       "   'legalAgeDisplayValue': 'Aldersgrense 12 år'},\n",
       "  {'title': 'SKAM',\n",
       "   'description': '– Jeg vil ikke bli beskytta.',\n",
       "   'episodeNumberOrDate': '6:12',\n",
       "   'programId': 'mynt15000616',\n",
       "   'seriesId': 'skam',\n",
       "   'imageId': 'RVU8SdaL1YfvqOJg2xYH7g4WIZNxVO8rcnuVvmAIfcrg',\n",
       "   'category': {'categoryId': 'drama-serier', 'displayValue': 'Drama/serier'},\n",
       "   'categories': [{'categoryId': 'drama-serier',\n",
       "     'displayValue': 'Drama/serier'}],\n",
       "   'seasonId': 76968,\n",
       "   'usageRights': {'availableFrom': 1461349800000,\n",
       "    'availableTo': 253402210800000,\n",
       "    'hasNoRights': False,\n",
       "    'geoblocked': True},\n",
       "   'legalAge': '12',\n",
       "   'parts': [],\n",
       "   'duration': 1425000,\n",
       "   'isAvailable': True,\n",
       "   'legalAgeDisplayValue': 'Aldersgrense 12 år'},\n",
       "  {'title': 'SKAM',\n",
       "   'description': '– Jeg er i hvert fall ikke sjalu.',\n",
       "   'episodeNumberOrDate': '5:12',\n",
       "   'programId': 'mynt15000516',\n",
       "   'seriesId': 'skam',\n",
       "   'imageId': 'fczKi1UyY2IUyv2UxQrZOwlFvzMKjTxB46FvkIwyD5Pg',\n",
       "   'category': {'categoryId': 'drama-serier', 'displayValue': 'Drama/serier'},\n",
       "   'categories': [{'categoryId': 'drama-serier',\n",
       "     'displayValue': 'Drama/serier'}],\n",
       "   'seasonId': 76968,\n",
       "   'usageRights': {'availableFrom': 1459535400000,\n",
       "    'availableTo': 253402210800000,\n",
       "    'hasNoRights': False,\n",
       "    'geoblocked': True},\n",
       "   'legalAge': '12',\n",
       "   'parts': [],\n",
       "   'duration': 1867000,\n",
       "   'isAvailable': True,\n",
       "   'legalAgeDisplayValue': 'Aldersgrense 12 år'},\n",
       "  {'title': 'SKAM',\n",
       "   'description': '– Jeg visste det var noe rart med henne.',\n",
       "   'episodeNumberOrDate': '4:12',\n",
       "   'programId': 'mynt15000416',\n",
       "   'seriesId': 'skam',\n",
       "   'imageId': 'c_njH8vuCMOjBkxJO0cMSgzIMjrjgTj8hRGBLXFelkjw',\n",
       "   'category': {'categoryId': 'drama-serier', 'displayValue': 'Drama/serier'},\n",
       "   'categories': [{'categoryId': 'drama-serier',\n",
       "     'displayValue': 'Drama/serier'}],\n",
       "   'seasonId': 76968,\n",
       "   'usageRights': {'availableFrom': 1458934200000,\n",
       "    'availableTo': 253402210800000,\n",
       "    'hasNoRights': False,\n",
       "    'geoblocked': True},\n",
       "   'legalAge': '12',\n",
       "   'parts': [],\n",
       "   'duration': 1726160,\n",
       "   'isAvailable': True,\n",
       "   'legalAgeDisplayValue': 'Aldersgrense 12 år'},\n",
       "  {'title': 'SKAM',\n",
       "   'description': '– Er det noe du skjuler for oss?',\n",
       "   'episodeNumberOrDate': '3:12',\n",
       "   'programId': 'mynt15000316',\n",
       "   'seriesId': 'skam',\n",
       "   'imageId': 'erU5DI3TTrKGe4mBMHxpBQED0YAs8Me1KeVVAEP6i6Nw',\n",
       "   'category': {'categoryId': 'drama-serier', 'displayValue': 'Drama/serier'},\n",
       "   'categories': [{'categoryId': 'drama-serier',\n",
       "     'displayValue': 'Drama/serier'}],\n",
       "   'seasonId': 76968,\n",
       "   'usageRights': {'availableFrom': 1458333000000,\n",
       "    'availableTo': 253402210800000,\n",
       "    'hasNoRights': False,\n",
       "    'geoblocked': True},\n",
       "   'legalAge': '12',\n",
       "   'parts': [],\n",
       "   'duration': 2123120,\n",
       "   'isAvailable': True,\n",
       "   'legalAgeDisplayValue': 'Aldersgrense 12 år'},\n",
       "  {'title': 'SKAM',\n",
       "   'description': '– Du lyver til en venninne og skylder på meg.',\n",
       "   'episodeNumberOrDate': '2:12',\n",
       "   'programId': 'mynt15000216',\n",
       "   'seriesId': 'skam',\n",
       "   'imageId': '-Nr5QZgbz3X3dZU_uZQ1fw6aCgwDIKE0pQF2FP3FGV6Q',\n",
       "   'category': {'categoryId': 'drama-serier', 'displayValue': 'Drama/serier'},\n",
       "   'categories': [{'categoryId': 'drama-serier',\n",
       "     'displayValue': 'Drama/serier'}],\n",
       "   'seasonId': 76968,\n",
       "   'usageRights': {'availableFrom': 1457724600000,\n",
       "    'availableTo': 253402210800000,\n",
       "    'hasNoRights': False,\n",
       "    'geoblocked': True},\n",
       "   'legalAge': '12',\n",
       "   'parts': [],\n",
       "   'duration': 1549320,\n",
       "   'isAvailable': True,\n",
       "   'legalAgeDisplayValue': 'Aldersgrense 12 år'},\n",
       "  {'title': 'SKAM',\n",
       "   'description': '– Om du bare hadde holdt det du lovet.',\n",
       "   'episodeNumberOrDate': '1:12',\n",
       "   'programId': 'mynt15000116',\n",
       "   'seriesId': 'skam',\n",
       "   'imageId': 'SSD39AvA5SnvxutvhdQl_AJwvOMhUgvDUF71NJQhItTQ',\n",
       "   'category': {'categoryId': 'drama-serier', 'displayValue': 'Drama/serier'},\n",
       "   'categories': [{'categoryId': 'drama-serier',\n",
       "     'displayValue': 'Drama/serier'}],\n",
       "   'seasonId': 76968,\n",
       "   'usageRights': {'availableFrom': 1457119800000,\n",
       "    'availableTo': 253402210800000,\n",
       "    'hasNoRights': False,\n",
       "    'geoblocked': True},\n",
       "   'legalAge': '12',\n",
       "   'parts': [],\n",
       "   'duration': 1545200,\n",
       "   'isAvailable': True,\n",
       "   'legalAgeDisplayValue': 'Aldersgrense 12 år'},\n",
       "  {'title': 'SKAM',\n",
       "   'description': '– Et jævlig dumt valg.',\n",
       "   'episodeNumberOrDate': '11:11',\n",
       "   'programId': 'msub19121116',\n",
       "   'seriesId': 'skam',\n",
       "   'imageId': 'eGn1DbGGZFhWo6Q3sALPygJcxZtpKYEUBpAo2KVYX8Ig',\n",
       "   'category': {'categoryId': 'drama-serier', 'displayValue': 'Drama/serier'},\n",
       "   'categories': [{'categoryId': 'drama-serier',\n",
       "     'displayValue': 'Drama/serier'}],\n",
       "   'seasonId': 70522,\n",
       "   'usageRights': {'availableFrom': 1449862200000,\n",
       "    'availableTo': 253402210800000,\n",
       "    'hasNoRights': False,\n",
       "    'geoblocked': True},\n",
       "   'legalAge': '12',\n",
       "   'parts': [],\n",
       "   'duration': 2095440,\n",
       "   'isAvailable': True,\n",
       "   'legalAgeDisplayValue': 'Aldersgrense 12 år'},\n",
       "  {'title': 'SKAM',\n",
       "   'description': '– Jeg tenker at du har blitt helt psyko.',\n",
       "   'episodeNumberOrDate': '10:11',\n",
       "   'programId': 'msub19121016',\n",
       "   'seriesId': 'skam',\n",
       "   'imageId': 'y_aMASKvsNc5AyFXv8qOUA19oBpa8S99QB8Cns59zClg',\n",
       "   'category': {'categoryId': 'drama-serier', 'displayValue': 'Drama/serier'},\n",
       "   'categories': [{'categoryId': 'drama-serier',\n",
       "     'displayValue': 'Drama/serier'}],\n",
       "   'seasonId': 70522,\n",
       "   'usageRights': {'availableFrom': 1449257400000,\n",
       "    'availableTo': 253402210800000,\n",
       "    'hasNoRights': False,\n",
       "    'geoblocked': True},\n",
       "   'legalAge': '12',\n",
       "   'parts': [],\n",
       "   'duration': 1212400,\n",
       "   'isAvailable': True,\n",
       "   'legalAgeDisplayValue': 'Aldersgrense 12 år'},\n",
       "  {'title': 'SKAM',\n",
       "   'description': '– Man er det man gjør.',\n",
       "   'episodeNumberOrDate': '9:11',\n",
       "   'programId': 'msub19120916',\n",
       "   'seriesId': 'skam',\n",
       "   'imageId': 'FbdJ3zEUpyr3p0BOvRYuOg3mVOmlofI04qFP793L2wng',\n",
       "   'category': {'categoryId': 'drama-serier', 'displayValue': 'Drama/serier'},\n",
       "   'categories': [{'categoryId': 'drama-serier',\n",
       "     'displayValue': 'Drama/serier'}],\n",
       "   'seasonId': 70522,\n",
       "   'usageRights': {'availableFrom': 1448652600000,\n",
       "    'availableTo': 253402210800000,\n",
       "    'hasNoRights': False,\n",
       "    'geoblocked': True},\n",
       "   'legalAge': '12',\n",
       "   'parts': [],\n",
       "   'duration': 1245560,\n",
       "   'isAvailable': True,\n",
       "   'legalAgeDisplayValue': 'Aldersgrense 12 år'},\n",
       "  {'title': 'SKAM',\n",
       "   'description': '– Hele skolen hater meg.',\n",
       "   'episodeNumberOrDate': '8:11',\n",
       "   'programId': 'msub19120816',\n",
       "   'seriesId': 'skam',\n",
       "   'imageId': 'fbhfG_qNbzmD_dG3utVIZgpPD_Y-gDCRckHkNOZ25qsw',\n",
       "   'category': {'categoryId': 'drama-serier', 'displayValue': 'Drama/serier'},\n",
       "   'categories': [{'categoryId': 'drama-serier',\n",
       "     'displayValue': 'Drama/serier'}],\n",
       "   'seasonId': 70522,\n",
       "   'usageRights': {'availableFrom': 1448047800000,\n",
       "    'availableTo': 253402210800000,\n",
       "    'hasNoRights': False,\n",
       "    'geoblocked': True},\n",
       "   'legalAge': '12',\n",
       "   'parts': [],\n",
       "   'duration': 1411720,\n",
       "   'isAvailable': True,\n",
       "   'legalAgeDisplayValue': 'Aldersgrense 12 år'},\n",
       "  {'title': 'SKAM',\n",
       "   'description': '– Tenker alltid det er meg det er noe galt med.',\n",
       "   'episodeNumberOrDate': '7:11',\n",
       "   'programId': 'msub19120716',\n",
       "   'seriesId': 'skam',\n",
       "   'imageId': '1utoMjYRYeYyyNza23EwGQQulfG5X4uKFmae24I84vSw',\n",
       "   'category': {'categoryId': 'drama-serier', 'displayValue': 'Drama/serier'},\n",
       "   'categories': [{'categoryId': 'drama-serier',\n",
       "     'displayValue': 'Drama/serier'}],\n",
       "   'seasonId': 70522,\n",
       "   'usageRights': {'availableFrom': 1447443000000,\n",
       "    'availableTo': 253402210800000,\n",
       "    'hasNoRights': False,\n",
       "    'geoblocked': True},\n",
       "   'legalAge': '12',\n",
       "   'parts': [],\n",
       "   'duration': 1186200,\n",
       "   'isAvailable': True,\n",
       "   'legalAgeDisplayValue': 'Aldersgrense 12 år'},\n",
       "  {'title': 'SKAM',\n",
       "   'description': '– Man vet når gutter lyver.',\n",
       "   'episodeNumberOrDate': '6:11',\n",
       "   'programId': 'msub19120616',\n",
       "   'seriesId': 'skam',\n",
       "   'imageId': 'j4Q7o6_6FrRQyzMjMgpyCwajMLLdi_SP2SMtr_prfDWg',\n",
       "   'category': {'categoryId': 'drama-serier', 'displayValue': 'Drama/serier'},\n",
       "   'categories': [{'categoryId': 'drama-serier',\n",
       "     'displayValue': 'Drama/serier'}],\n",
       "   'seasonId': 70522,\n",
       "   'usageRights': {'availableFrom': 1446237720000,\n",
       "    'availableTo': 253402210800000,\n",
       "    'hasNoRights': False,\n",
       "    'geoblocked': True},\n",
       "   'legalAge': '12',\n",
       "   'parts': [],\n",
       "   'duration': 1360000,\n",
       "   'isAvailable': True,\n",
       "   'legalAgeDisplayValue': 'Aldersgrense 12 år'},\n",
       "  {'title': 'SKAM',\n",
       "   'description': '– Hva er det som gjør deg kåt?',\n",
       "   'episodeNumberOrDate': '5:11',\n",
       "   'programId': 'msub19120516',\n",
       "   'seriesId': 'skam',\n",
       "   'imageId': 'Ktwr72o0LsW8m3ea0Dfw1AT7c2ibVtiaVml1oUgzq0Mw',\n",
       "   'category': {'categoryId': 'drama-serier', 'displayValue': 'Drama/serier'},\n",
       "   'categories': [{'categoryId': 'drama-serier',\n",
       "     'displayValue': 'Drama/serier'}],\n",
       "   'seasonId': 70522,\n",
       "   'usageRights': {'availableFrom': 1445625000000,\n",
       "    'availableTo': 253402210800000,\n",
       "    'hasNoRights': False,\n",
       "    'geoblocked': True},\n",
       "   'legalAge': '12',\n",
       "   'parts': [],\n",
       "   'duration': 1138120,\n",
       "   'isAvailable': True,\n",
       "   'legalAgeDisplayValue': 'Aldersgrense 12 år'},\n",
       "  {'title': 'SKAM',\n",
       "   'description': '– Go for it din lille slut.',\n",
       "   'episodeNumberOrDate': '4:11',\n",
       "   'programId': 'msub19120416',\n",
       "   'seriesId': 'skam',\n",
       "   'imageId': '2eG9xTGwIpBrE1s-IyWLKw_5Cr6gZz95gsjZWbdCEidg',\n",
       "   'category': {'categoryId': 'drama-serier', 'displayValue': 'Drama/serier'},\n",
       "   'categories': [{'categoryId': 'drama-serier',\n",
       "     'displayValue': 'Drama/serier'}],\n",
       "   'seasonId': 70522,\n",
       "   'usageRights': {'availableFrom': 1445020200000,\n",
       "    'availableTo': 253402210800000,\n",
       "    'hasNoRights': False,\n",
       "    'geoblocked': True},\n",
       "   'legalAge': '12',\n",
       "   'parts': [],\n",
       "   'duration': 865960,\n",
       "   'isAvailable': True,\n",
       "   'legalAgeDisplayValue': 'Aldersgrense 12 år'},\n",
       "  {'title': 'SKAM',\n",
       "   'description': '– Vi er de største loserne på skolen.',\n",
       "   'episodeNumberOrDate': '3:11',\n",
       "   'programId': 'msub19120316',\n",
       "   'seriesId': 'skam',\n",
       "   'imageId': 'uJN6fQRML8WefsCPQsx4gQ7kpU-AjVuepJz6AklA5Zvg',\n",
       "   'category': {'categoryId': 'drama-serier', 'displayValue': 'Drama/serier'},\n",
       "   'categories': [{'categoryId': 'drama-serier',\n",
       "     'displayValue': 'Drama/serier'}],\n",
       "   'seasonId': 70522,\n",
       "   'usageRights': {'availableFrom': 1444415400000,\n",
       "    'availableTo': 253402210800000,\n",
       "    'hasNoRights': False,\n",
       "    'geoblocked': True},\n",
       "   'legalAge': '12',\n",
       "   'parts': [],\n",
       "   'duration': 1003640,\n",
       "   'isAvailable': True,\n",
       "   'legalAgeDisplayValue': 'Aldersgrense 12 år'},\n",
       "  {'title': 'SKAM',\n",
       "   'description': '– Jonas, dette er helt dust.',\n",
       "   'episodeNumberOrDate': '2:11',\n",
       "   'programId': 'msub19120216',\n",
       "   'seriesId': 'skam',\n",
       "   'imageId': '6vVJ-pOjuhVhrnZ7fY29uQgGY87PH-dVSgIuvpkcHqnA',\n",
       "   'category': {'categoryId': 'drama-serier', 'displayValue': 'Drama/serier'},\n",
       "   'categories': [{'categoryId': 'drama-serier',\n",
       "     'displayValue': 'Drama/serier'}],\n",
       "   'seasonId': 70522,\n",
       "   'usageRights': {'availableFrom': 1443810600000,\n",
       "    'availableTo': 253402210800000,\n",
       "    'hasNoRights': False,\n",
       "    'geoblocked': True},\n",
       "   'legalAge': '12',\n",
       "   'parts': [],\n",
       "   'duration': 996800,\n",
       "   'isAvailable': True,\n",
       "   'legalAgeDisplayValue': 'Aldersgrense 12 år'},\n",
       "  {'title': 'SKAM',\n",
       "   'description': '– Du ser ut som en slut.',\n",
       "   'episodeNumberOrDate': '1:11',\n",
       "   'programId': 'msub19120116',\n",
       "   'seriesId': 'skam',\n",
       "   'imageId': 'snaBmCsfSGBEjLkTbzM4NgKO4pSiUDBSCQ7MxI0bpqUw',\n",
       "   'category': {'categoryId': 'drama-serier', 'displayValue': 'Drama/serier'},\n",
       "   'categories': [{'categoryId': 'drama-serier',\n",
       "     'displayValue': 'Drama/serier'}],\n",
       "   'seasonId': 70522,\n",
       "   'usageRights': {'availableFrom': 1443205800000,\n",
       "    'availableTo': 253402210800000,\n",
       "    'hasNoRights': False,\n",
       "    'geoblocked': True},\n",
       "   'legalAge': '12',\n",
       "   'parts': [],\n",
       "   'duration': 1168000,\n",
       "   'isAvailable': True,\n",
       "   'legalAgeDisplayValue': 'Aldersgrense 12 år'}]}"
      ]
     },
     "execution_count": 155,
     "metadata": {},
     "output_type": "execute_result"
    }
   ],
   "source": [
    "json"
   ]
  },
  {
   "cell_type": "code",
   "execution_count": null,
   "metadata": {},
   "outputs": [],
   "source": [
    "json['programs'][0]"
   ]
  },
  {
   "cell_type": "code",
   "execution_count": null,
   "metadata": {},
   "outputs": [],
   "source": [
    "res = r.json()\n",
    "[(prog['title'], prog['seasonId']) for prog in res['programs']]"
   ]
  },
  {
   "cell_type": "code",
   "execution_count": null,
   "metadata": {},
   "outputs": [],
   "source": [
    "import nrkdownload.nrktv as nrktv\n",
    "nrktv.parse_search_results(r.json(), \"series\")"
   ]
  },
  {
   "cell_type": "code",
   "execution_count": null,
   "metadata": {},
   "outputs": [],
   "source": [
    "json['programs']"
   ]
  },
  {
   "cell_type": "code",
   "execution_count": 156,
   "metadata": {},
   "outputs": [
    {
     "data": {
      "text/plain": [
       "2"
      ]
     },
     "execution_count": 156,
     "metadata": {},
     "output_type": "execute_result"
    }
   ],
   "source": [
    "sum([0 , 0 ,2])"
   ]
  },
  {
   "cell_type": "code",
   "execution_count": null,
   "metadata": {},
   "outputs": [],
   "source": [
    "'test: {}'.format(list(seasons.values()))"
   ]
  },
  {
   "cell_type": "code",
   "execution_count": null,
   "metadata": {},
   "outputs": [],
   "source": [
    "seasons.values()"
   ]
  },
  {
   "cell_type": "markdown",
   "metadata": {
    "collapsed": true
   },
   "source": [
    "# Program details"
   ]
  },
  {
   "cell_type": "code",
   "execution_count": 4,
   "metadata": {},
   "outputs": [
    {
     "data": {
      "text/plain": [
       "{'_links': {'self': {'href': '/mediaelement/MSUB19120216'},\n",
       "  'parent': {'href': '/'},\n",
       "  'next': {'href': '/mediaelement/MSUB19120316'}},\n",
       " 'id': 'MSUB19120216',\n",
       " 'title': 'SKAM',\n",
       " 'description': '– Jonas, dette er helt dust.',\n",
       " 'mediaElementType': 'Episode',\n",
       " 'mediaType': 'Video',\n",
       " 'image': {'id': '6vVJ-pOjuhVhrnZ7fY29uQ',\n",
       "  'cropInfo': {'x': 0.0, 'y': 0.0, 'width': 1.0, 'height': 1.0}},\n",
       " 'images': {'imageInfo': {'id': '6vVJ-pOjuhVhrnZ7fY29uQ',\n",
       "   'cropInfo': {'x': 0.0, 'y': 0.0, 'width': 1.0, 'height': 1.0}},\n",
       "  'imageWidthCropInfo': '6vVJ-pOjuhVhrnZ7fY29uQ?x=0.00000000000000000&y=0.00000000000000000&w=1.00000000000000000&h=1.00000000000000000',\n",
       "  'webImages': [{'imageUrl': 'https://gfx.nrk.no/6vVJ-pOjuhVhrnZ7fY29uQMZsT4mvgpOagIuvpkcHqnA',\n",
       "    'pixelWidth': 300},\n",
       "   {'imageUrl': 'https://gfx.nrk.no/6vVJ-pOjuhVhrnZ7fY29uQ4WKm064xLeagIuvpkcHqnA',\n",
       "    'pixelWidth': 600},\n",
       "   {'imageUrl': 'https://gfx.nrk.no/6vVJ-pOjuhVhrnZ7fY29uQayDUqqwbydagIuvpkcHqnA',\n",
       "    'pixelWidth': 960},\n",
       "   {'imageUrl': 'https://gfx.nrk.no/6vVJ-pOjuhVhrnZ7fY29uQgGY87PH-dVSgIuvpkcHqnA',\n",
       "    'pixelWidth': 1920}],\n",
       "  'isDefaultImage': False},\n",
       " 'mediaUrl': 'http://nordond5a-f.akamaihd.net/z/wo/open/b0/b0db32db0e735ffe227820f045cd1434df811ab2/8d153948-ab5d-4767-aaea-87186b80bcad_,141,316,563,1266,2250,.mp4.csmil/manifest.f4m',\n",
       " 'mediaAssets': [{'url': 'http://nordond5a-f.akamaihd.net/z/wo/open/b0/b0db32db0e735ffe227820f045cd1434df811ab2/8d153948-ab5d-4767-aaea-87186b80bcad_,141,316,563,1266,2250,.mp4.csmil/manifest.f4m',\n",
       "   'duration': 'PT16M36S',\n",
       "   'carrierId': 'MSUB19120216AW',\n",
       "   'webVttSubtitlesUrl': 'https%3a%2f%2fundertekst.nrk.no%2fprod%2fMSUB19%2f12%2fMSUB19120216AW%2fTMP%2fmaster.m3u8',\n",
       "   'timedTextSubtitlesUrl': 'https%3a%2f%2fundertekst.nrk.no%2fprod%2fMSUB19%2f12%2fMSUB19120216AW%2fTMP%2fMSUB19120216AW.ttml',\n",
       "   'bufferDuration': None}],\n",
       " 'bitrateInfo': {'startIndex': 3, 'maxIndex': 4},\n",
       " 'playerType': 'flash',\n",
       " 'flashPlayerVersion': '1.13.000',\n",
       " 'flashPluginVersion': '3.10',\n",
       " 'isAvailable': True,\n",
       " 'messageType': 'NoMessage',\n",
       " 'mediaAnalytics': {'show': 'skam',\n",
       "  'title': 'skam',\n",
       "  'category': 'dramaserier',\n",
       "  'contentLength': '15-20 min',\n",
       "  'device': 'desktop',\n",
       "  'playerId': 'flash',\n",
       "  'deliveryType': 'O',\n",
       "  'cdnName': 'Akamai',\n",
       "  'playerInfo': 'desktop'},\n",
       " 'scoresStatistics': {'springStreamSite': 'nrkstream',\n",
       "  'springStreamStream': 'programspiller/odm/drama-serier/skam/s01e02.skam.MSUB19120216',\n",
       "  'springStreamContentType': 'desktop',\n",
       "  'springStreamProgramId': 'MSUB19120216'},\n",
       " 'convivaStatistics': {'assetName': 'MSUB19120216-skam-2-11',\n",
       "  'cdnName': 'AKAMAI',\n",
       "  'deviceType': 'PC',\n",
       "  'playerName': 'NRK FLASH',\n",
       "  'isLive': False,\n",
       "  'playerVersion': 'Pakke75',\n",
       "  'contentType': 'N/A',\n",
       "  'contentId': 'MSUB19120216',\n",
       "  'episodeName': '2:11',\n",
       "  'seriesName': 'SKAM',\n",
       "  'contentLength': 996},\n",
       " 'messageId': None,\n",
       " 'isLive': False,\n",
       " 'usageRights': {'isGeoBlocked': True,\n",
       "  'availableFrom': '/Date(1443810600000+0200)/',\n",
       "  'availableTo': '/Date(253402210800000+0100)/',\n",
       "  'hasRightsNow': True},\n",
       " 'akamaiBeacon': 'https://ma93-r.analytics.edgekey.net/config/beacon-9484.xml',\n",
       " 'liveBufferStartTime': None,\n",
       " 'fullTitle': 'SKAM 2:11',\n",
       " 'mainTitle': 'SKAM',\n",
       " 'legalAge': '12',\n",
       " 'relativeOriginUrl': 'serie/skam/MSUB19120216/sesong-1/episode-2',\n",
       " 'duration': 'PT16M36.8S',\n",
       " 'shortIndexPoints': [],\n",
       " 'hasSubtitles': True,\n",
       " 'subtitlesDefaultOn': False,\n",
       " 'subtitlesUrlPath': 'https://undertekst.nrk.no/prod/MSUB19/12/MSUB19120216AW/TMP/MSUB19120216AW.ttml',\n",
       " 'seriesId': 'skam',\n",
       " 'seriesTitle': 'SKAM',\n",
       " 'episodeNumberOrDate': '2:11',\n",
       " 'externalEmbeddingAllowed': True,\n",
       " 'startNextEpisode': 10}"
      ]
     },
     "execution_count": 4,
     "metadata": {},
     "output_type": "execute_result"
    }
   ],
   "source": [
    "string = 'DVFJ67000211'  # This one has several parts\n",
    "string = 'MSPO46500113'  # This has two parts\n",
    "# string = 'MYNT13000117'\n",
    "# string = 'muhr57003018'  # This is a radio program\n",
    "# string = 'KOID20001217'\n",
    "string = 'MSUB19120216'\n",
    "r = session.get(NRK_PS_API + '/mediaelement/' + string)\n",
    "r.raise_for_status()\n",
    "json = r.json()\n",
    "json"
   ]
  },
  {
   "cell_type": "code",
   "execution_count": 134,
   "metadata": {},
   "outputs": [],
   "source": [
    "import nrkdownload\n",
    "json['programId'] = string\n",
    "json['imageId'] = json['image']['id']\n",
    "program = nrkdownload.nrktv.new_program_from_search_result(json)\n",
    "program.get_download_details(json)"
   ]
  },
  {
   "cell_type": "code",
   "execution_count": 136,
   "metadata": {},
   "outputs": [
    {
     "data": {
      "text/plain": [
       "['https://undertekst.nrk.no/prod/KOID20/00/KOID20001217AA/TMP/master.m3u8']"
      ]
     },
     "execution_count": 136,
     "metadata": {},
     "output_type": "execute_result"
    }
   ],
   "source": [
    "program.subtitle_urls"
   ]
  },
  {
   "cell_type": "code",
   "execution_count": 91,
   "metadata": {},
   "outputs": [],
   "source": [
    "from urllib.parse import unquote, urlparse"
   ]
  },
  {
   "cell_type": "code",
   "execution_count": 140,
   "metadata": {},
   "outputs": [],
   "source": [
    "u = unquote('https%3a%2f%2fundertekst.nrk.no%2fprod%2fKOID20%2f00%2fKOID20001217AA%2fTMP%2fmaster.m3u8')\n",
    "p = urlparse(u)"
   ]
  },
  {
   "cell_type": "code",
   "execution_count": 151,
   "metadata": {},
   "outputs": [
    {
     "data": {
      "text/plain": [
       "'v sdf'"
      ]
     },
     "execution_count": 151,
     "metadata": {},
     "output_type": "execute_result"
    }
   ],
   "source": [
    "' '.join(['v', 'sdf'])"
   ]
  },
  {
   "cell_type": "code",
   "execution_count": 149,
   "metadata": {},
   "outputs": [
    {
     "ename": "TypeError",
     "evalue": "expected string or bytes-like object",
     "output_type": "error",
     "traceback": [
      "\u001b[0;31m---------------------------------------------------------------------------\u001b[0m",
      "\u001b[0;31mTypeError\u001b[0m                                 Traceback (most recent call last)",
      "\u001b[0;32m<ipython-input-149-a9ccbbb0241a>\u001b[0m in \u001b[0;36m<module>\u001b[0;34m()\u001b[0m\n\u001b[1;32m      1\u001b[0m \u001b[0;32mimport\u001b[0m \u001b[0mre\u001b[0m\u001b[0;34m\u001b[0m\u001b[0m\n\u001b[0;32m----> 2\u001b[0;31m \u001b[0mre\u001b[0m\u001b[0;34m.\u001b[0m\u001b[0msub\u001b[0m\u001b[0;34m(\u001b[0m\u001b[0;34mr'^https'\u001b[0m\u001b[0;34m,\u001b[0m \u001b[0;34m'http'\u001b[0m\u001b[0;34m,\u001b[0m \u001b[0;32mNone\u001b[0m\u001b[0;34m)\u001b[0m\u001b[0;34m\u001b[0m\u001b[0m\n\u001b[0m",
      "\u001b[0;32m~/miniconda3/envs/python3dev/lib/python3.6/re.py\u001b[0m in \u001b[0;36msub\u001b[0;34m(pattern, repl, string, count, flags)\u001b[0m\n\u001b[1;32m    189\u001b[0m     \u001b[0ma\u001b[0m \u001b[0mcallable\u001b[0m\u001b[0;34m,\u001b[0m \u001b[0mit\u001b[0m\u001b[0;31m'\u001b[0m\u001b[0ms\u001b[0m \u001b[0mpassed\u001b[0m \u001b[0mthe\u001b[0m \u001b[0mmatch\u001b[0m \u001b[0mobject\u001b[0m \u001b[0;32mand\u001b[0m \u001b[0mmust\u001b[0m \u001b[0;32mreturn\u001b[0m\u001b[0;34m\u001b[0m\u001b[0m\n\u001b[1;32m    190\u001b[0m     a replacement string to be used.\"\"\"\n\u001b[0;32m--> 191\u001b[0;31m     \u001b[0;32mreturn\u001b[0m \u001b[0m_compile\u001b[0m\u001b[0;34m(\u001b[0m\u001b[0mpattern\u001b[0m\u001b[0;34m,\u001b[0m \u001b[0mflags\u001b[0m\u001b[0;34m)\u001b[0m\u001b[0;34m.\u001b[0m\u001b[0msub\u001b[0m\u001b[0;34m(\u001b[0m\u001b[0mrepl\u001b[0m\u001b[0;34m,\u001b[0m \u001b[0mstring\u001b[0m\u001b[0;34m,\u001b[0m \u001b[0mcount\u001b[0m\u001b[0;34m)\u001b[0m\u001b[0;34m\u001b[0m\u001b[0m\n\u001b[0m\u001b[1;32m    192\u001b[0m \u001b[0;34m\u001b[0m\u001b[0m\n\u001b[1;32m    193\u001b[0m \u001b[0;32mdef\u001b[0m \u001b[0msubn\u001b[0m\u001b[0;34m(\u001b[0m\u001b[0mpattern\u001b[0m\u001b[0;34m,\u001b[0m \u001b[0mrepl\u001b[0m\u001b[0;34m,\u001b[0m \u001b[0mstring\u001b[0m\u001b[0;34m,\u001b[0m \u001b[0mcount\u001b[0m\u001b[0;34m=\u001b[0m\u001b[0;36m0\u001b[0m\u001b[0;34m,\u001b[0m \u001b[0mflags\u001b[0m\u001b[0;34m=\u001b[0m\u001b[0;36m0\u001b[0m\u001b[0;34m)\u001b[0m\u001b[0;34m:\u001b[0m\u001b[0;34m\u001b[0m\u001b[0m\n",
      "\u001b[0;31mTypeError\u001b[0m: expected string or bytes-like object"
     ]
    }
   ],
   "source": [
    "import re\n",
    "re.sub(r'^https', 'http', None)"
   ]
  },
  {
   "cell_type": "code",
   "execution_count": 145,
   "metadata": {},
   "outputs": [
    {
     "ename": "AttributeError",
     "evalue": "can't set attribute",
     "output_type": "error",
     "traceback": [
      "\u001b[0;31m---------------------------------------------------------------------------\u001b[0m",
      "\u001b[0;31mAttributeError\u001b[0m                            Traceback (most recent call last)",
      "\u001b[0;32m<ipython-input-145-dc99e28a2c9c>\u001b[0m in \u001b[0;36m<module>\u001b[0;34m()\u001b[0m\n\u001b[0;32m----> 1\u001b[0;31m \u001b[0mp\u001b[0m\u001b[0;34m.\u001b[0m\u001b[0mscheme\u001b[0m \u001b[0;34m=\u001b[0m \u001b[0;34m'http'\u001b[0m\u001b[0;34m\u001b[0m\u001b[0m\n\u001b[0m\u001b[1;32m      2\u001b[0m \u001b[0mp\u001b[0m\u001b[0;34m.\u001b[0m\u001b[0mgeturl\u001b[0m\u001b[0;34m(\u001b[0m\u001b[0;34m)\u001b[0m\u001b[0;34m\u001b[0m\u001b[0m\n",
      "\u001b[0;31mAttributeError\u001b[0m: can't set attribute"
     ]
    }
   ],
   "source": [
    "p.scheme = 'http'\n",
    "p.geturl()"
   ]
  },
  {
   "cell_type": "code",
   "execution_count": 73,
   "metadata": {},
   "outputs": [
    {
     "name": "stdout",
     "output_type": "stream",
     "text": [
      "http://nordond4b-f.akamaihd.net/z/wo/open/f4/f4dc5a04a7ca5c406f5cc313d4bed5d0d87004a0/a5084291-fb0c-4a48-ba2d-6ea4f834bab7_,141,316,563,1266,2250,.mp4.csmil/manifest.f4m\n",
      "http://nordond10c-f.akamaihd.net/z/wo/open/fd/fd756ee8949ea417be4345697032973c6221206c/a5084291-fb0c-4a48-ba2d-6ea4f834bab7_,141,316,563,1266,2250,.mp4.csmil/manifest.f4m\n",
      "http://nordond25a-f.akamaihd.net/z/wo/open/32/32752abdbe87b58125d3330acf4e8e9924d97c95/a5084291-fb0c-4a48-ba2d-6ea4f834bab7_,141,316,563,1266,2250,.mp4.csmil/manifest.f4m\n",
      "http://nordond33c-f.akamaihd.net/z/wo/open/9d/9dd0247af7da58969085d27c515065e285e00700/9e760f0f-697a-435d-95d7-b1f5a731d14d_,141,316,563,1266,2250,.mp4.csmil/manifest.f4m\n"
     ]
    }
   ],
   "source": [
    "for m in json['mediaAssets']:\n",
    "    print(m.get('url', None))"
   ]
  },
  {
   "cell_type": "code",
   "execution_count": 76,
   "metadata": {},
   "outputs": [
    {
     "data": {
      "text/plain": [
       "'test'"
      ]
     },
     "execution_count": 76,
     "metadata": {},
     "output_type": "execute_result"
    }
   ],
   "source": [
    "import re\n",
    "re.sub(r'\\.net/z/', '.net/i/', 'test')"
   ]
  },
  {
   "cell_type": "markdown",
   "metadata": {
    "collapsed": true
   },
   "source": [
    "url = \"https://tv.nrk.no/serie/p3-sjekker-ut/MYNT12000317/sesong-1/episode-3\"\n",
    "parsed_url = urlpar"
   ]
  },
  {
   "cell_type": "code",
   "execution_count": null,
   "metadata": {},
   "outputs": [],
   "source": [
    "import nrkdownload"
   ]
  },
  {
   "cell_type": "code",
   "execution_count": null,
   "metadata": {},
   "outputs": [],
   "source": [
    "r = session.get(NRK_PS_API + '/mediaelement/' + 'MUHH48000516')\n",
    "r.raise_for_status()\n",
    "json = r.json()\n",
    "json"
   ]
  },
  {
   "cell_type": "code",
   "execution_count": null,
   "metadata": {},
   "outputs": [],
   "source": [
    "json['mediaAssets'][0]['url']"
   ]
  },
  {
   "cell_type": "code",
   "execution_count": null,
   "metadata": {},
   "outputs": [],
   "source": [
    "# MUHH48000516\n",
    "r = session.get(NRK_PS_API + '/mediaelement/' + 'mspo46500113')\n",
    "r.raise_for_status()\n",
    "json = r.json()\n",
    "json"
   ]
  },
  {
   "cell_type": "code",
   "execution_count": null,
   "metadata": {},
   "outputs": [],
   "source": [
    "r = session.get(NRK_PS_API + '/mediaelement/' + 'dvfj67000211')\n",
    "r.raise_for_status()\n",
    "json = r.json()\n",
    "json"
   ]
  },
  {
   "cell_type": "code",
   "execution_count": null,
   "metadata": {},
   "outputs": [],
   "source": [
    "json['mediaAssets'][0]['url']"
   ]
  },
  {
   "cell_type": "code",
   "execution_count": null,
   "metadata": {},
   "outputs": [],
   "source": [
    "json['programId'] = 'KOID22008416'\n",
    "json['imageId'] = json['image']['id']"
   ]
  },
  {
   "cell_type": "code",
   "execution_count": null,
   "metadata": {},
   "outputs": [],
   "source": []
  },
  {
   "cell_type": "code",
   "execution_count": null,
   "metadata": {},
   "outputs": [],
   "source": [
    "programs = []\n",
    "programs.append(nrkdownload.nrktv.Program(json))"
   ]
  },
  {
   "cell_type": "code",
   "execution_count": null,
   "metadata": {},
   "outputs": [],
   "source": [
    "nrkdownload.nrktv.ask_for_program_download(programs)"
   ]
  },
  {
   "cell_type": "markdown",
   "metadata": {},
   "source": [
    "# Categories"
   ]
  },
  {
   "cell_type": "markdown",
   "metadata": {},
   "source": [
    "## Get name of all categories"
   ]
  },
  {
   "cell_type": "code",
   "execution_count": null,
   "metadata": {
    "scrolled": true
   },
   "outputs": [],
   "source": [
    "r = session.get('https://tvapi.nrk.no/v1/categories')\n",
    "r.raise_for_status()\n",
    "r.json()"
   ]
  },
  {
   "cell_type": "markdown",
   "metadata": {},
   "source": [
    "## List programs within a category"
   ]
  },
  {
   "cell_type": "code",
   "execution_count": null,
   "metadata": {},
   "outputs": [],
   "source": [
    "r = session.get('https://tvapi.nrk.no/v1/categories/dokumentar')\n",
    "r.raise_for_status()\n",
    "r.json()"
   ]
  },
  {
   "cell_type": "code",
   "execution_count": null,
   "metadata": {},
   "outputs": [],
   "source": []
  },
  {
   "cell_type": "code",
   "execution_count": null,
   "metadata": {
    "scrolled": true
   },
   "outputs": [],
   "source": [
    "r = session.get('https://tvapi.nrk.no/v1/categories/vitenskap')\n",
    "r.raise_for_status()\n",
    "r.json()"
   ]
  }
 ],
 "metadata": {
  "anaconda-cloud": {},
  "kernelspec": {
   "display_name": "Python 3",
   "language": "python",
   "name": "python3"
  },
  "language_info": {
   "codemirror_mode": {
    "name": "ipython",
    "version": 3
   },
   "file_extension": ".py",
   "mimetype": "text/x-python",
   "name": "python",
   "nbconvert_exporter": "python",
   "pygments_lexer": "ipython3",
   "version": "3.6.5"
  },
  "toc": {
   "base_numbering": 1,
   "nav_menu": {},
   "number_sections": true,
   "sideBar": true,
   "skip_h1_title": false,
   "title_cell": "Table of Contents",
   "title_sidebar": "Contents",
   "toc_cell": false,
   "toc_position": {},
   "toc_section_display": true,
   "toc_window_display": true
  }
 },
 "nbformat": 4,
 "nbformat_minor": 1
}
