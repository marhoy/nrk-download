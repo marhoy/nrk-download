{
 "cells": [
  {
   "cell_type": "code",
   "execution_count": null,
   "metadata": {},
   "outputs": [],
   "source": [
    "import requests\n",
    "import os.path\n",
    "\n",
    "NRK_TV_API = 'https://tv.nrk.no'\n",
    "NRK_TV_MOBIL_API = 'https://tvapi.nrk.no/v1'\n",
    "NRK_PS_API = 'http://v8.psapi.nrk.no'\n",
    "\n",
    "session = requests.Session()\n",
    "session.headers['app-version-android'] = '999'\n"
   ]
  },
  {
   "cell_type": "markdown",
   "metadata": {},
   "source": [
    "# Searching"
   ]
  },
  {
   "cell_type": "markdown",
   "metadata": {},
   "source": [
    "## Search for a program that is not part of a series"
   ]
  },
  {
   "cell_type": "code",
   "execution_count": null,
   "metadata": {},
   "outputs": [],
   "source": [
    "string = \"Sankthans-stemning fra Stavern\"\n",
    "string = \"Herdlefjorden\"\n",
    "string = \"DVFJ67000311\"\n",
    "try:\n",
    "    r = session.get('https://tvapi.nrk.no/v1/search/' + string)\n",
    "    r.raise_for_status()\n",
    "    hits = r.json()['hits']\n",
    "except Exception as e:\n",
    "    print('No data received: {}'.format(e))\n",
    "    \n",
    "for i, hit in enumerate(hits):\n",
    "    #if not hit['hit']['seriesId']:\n",
    "    if hit['type'] not in ['episode', 'series']:\n",
    "        print(i)"
   ]
  },
  {
   "cell_type": "code",
   "execution_count": null,
   "metadata": {},
   "outputs": [],
   "source": [
    "hits"
   ]
  },
  {
   "cell_type": "markdown",
   "metadata": {},
   "source": [
    "## Search for a program that IS part of a series"
   ]
  },
  {
   "cell_type": "code",
   "execution_count": null,
   "metadata": {},
   "outputs": [],
   "source": [
    "string = \"skam\"\n",
    "try:\n",
    "    r = session.get('https://tvapi.nrk.no/v1/search/' + string)\n",
    "    r.raise_for_status()\n",
    "    hits = r.json()['hits']\n",
    "except Exception as e:\n",
    "    print('No data received: {}'.format(e))"
   ]
  },
  {
   "cell_type": "code",
   "execution_count": null,
   "metadata": {},
   "outputs": [],
   "source": [
    "for i, hit in enumerate(hits):\n",
    "    if hit['type'] not in ['episode', 'serie']:\n",
    "        print(i)"
   ]
  },
  {
   "cell_type": "code",
   "execution_count": null,
   "metadata": {},
   "outputs": [],
   "source": [
    "hits[2]"
   ]
  },
  {
   "cell_type": "markdown",
   "metadata": {},
   "source": [
    "## Search for a series"
   ]
  },
  {
   "cell_type": "code",
   "execution_count": null,
   "metadata": {},
   "outputs": [],
   "source": [
    "string = \"skam\"\n",
    "string = \"tidenes sommer\"\n",
    "try:\n",
    "    r = session.get('https://tvapi.nrk.no/v1/search/' + string)\n",
    "    r.raise_for_status()\n",
    "    hits = r.json()['hits']\n",
    "except Exception as e:\n",
    "    print('No data received: {}'.format(e))\n",
    "\n",
    "for i, hit in enumerate(hits):\n",
    "    if hit['type'] == 'serie':\n",
    "        print(i)"
   ]
  },
  {
   "cell_type": "code",
   "execution_count": null,
   "metadata": {},
   "outputs": [],
   "source": [
    "hits[0]"
   ]
  },
  {
   "cell_type": "code",
   "execution_count": null,
   "metadata": {},
   "outputs": [],
   "source": [
    "import datetime\n",
    "datetime.datetime.fromtimestamp(1534647929000/1000)"
   ]
  },
  {
   "cell_type": "code",
   "execution_count": null,
   "metadata": {},
   "outputs": [],
   "source": [
    "hits[10]['hit'['usageRights']['availableTo']"
   ]
  },
  {
   "cell_type": "code",
   "execution_count": null,
   "metadata": {},
   "outputs": [],
   "source": [
    "datetime.datetime.now()"
   ]
  },
  {
   "cell_type": "code",
   "execution_count": null,
   "metadata": {},
   "outputs": [],
   "source": [
    "string = \"Vestlandsrevyen\"\n",
    "try:\n",
    "    r = session.get('https://tvapi.nrk.no/v1/search/' + string)\n",
    "    r.raise_for_status()\n",
    "    hits = r.json()['hits']\n",
    "except Exception as e:\n",
    "    print('No data received: {}'.format(e))\n",
    "\n",
    "for i, hit in enumerate(hits):\n",
    "    if hit['type'] == 'serie':\n",
    "        print(i)"
   ]
  },
  {
   "cell_type": "code",
   "execution_count": null,
   "metadata": {},
   "outputs": [],
   "source": []
  },
  {
   "cell_type": "code",
   "execution_count": null,
   "metadata": {},
   "outputs": [],
   "source": [
    "s = hits[0]\n",
    "s.get_seasons_and_episodes()"
   ]
  },
  {
   "cell_type": "code",
   "execution_count": null,
   "metadata": {},
   "outputs": [],
   "source": [
    "[val['id'] for val in hits[0]['hit']['seasons']]"
   ]
  },
  {
   "cell_type": "code",
   "execution_count": null,
   "metadata": {},
   "outputs": [],
   "source": []
  },
  {
   "cell_type": "code",
   "execution_count": null,
   "metadata": {},
   "outputs": [],
   "source": [
    "string = \"skam\"\n",
    "r = session.get('https://tvapi.nrk.no/v1/search/' + string)\n",
    "r.raise_for_status()\n",
    "json = r.json()\n",
    "json.keys()"
   ]
  },
  {
   "cell_type": "code",
   "execution_count": null,
   "metadata": {},
   "outputs": [],
   "source": [
    "json['hi']"
   ]
  },
  {
   "cell_type": "code",
   "execution_count": null,
   "metadata": {},
   "outputs": [],
   "source": [
    "json['metaData']"
   ]
  },
  {
   "cell_type": "code",
   "execution_count": null,
   "metadata": {},
   "outputs": [],
   "source": [
    "string = \"ikke gjør dette\"\n",
    "r = session.get('https://tv.nrk.no/autocomplete?query=' + string)\n",
    "r.raise_for_status()\n",
    "print(r.json().keys())\n",
    "r.json()['result']"
   ]
  },
  {
   "cell_type": "code",
   "execution_count": null,
   "metadata": {},
   "outputs": [],
   "source": [
    "string = \"ikke gjør dette\"\n",
    "r = session.get('https://radio.nrk.no/autocomplete?query=' + string)\n",
    "r.raise_for_status()\n",
    "print(r.json().keys())\n",
    "r.json()['result']"
   ]
  },
  {
   "cell_type": "code",
   "execution_count": null,
   "metadata": {},
   "outputs": [],
   "source": [
    "json['hits']"
   ]
  },
  {
   "cell_type": "code",
   "execution_count": null,
   "metadata": {},
   "outputs": [],
   "source": [
    "json = r.json()\n",
    "json['hits']"
   ]
  },
  {
   "cell_type": "markdown",
   "metadata": {},
   "source": [
    "# Get episodes and seasons of a series"
   ]
  },
  {
   "cell_type": "code",
   "execution_count": null,
   "metadata": {},
   "outputs": [],
   "source": [
    "seriesId = 'hurtigruten-minutt-for-minutt' #ikke-gjoer-dette-hjemme'\n",
    "seriesId = 'tidenes-sommer'\n",
    "seriesId = 'skam'\n",
    "r = session.get(NRK_TV_MOBIL_API + '/series/' + seriesId)\n",
    "r.raise_for_status()\n",
    "json = r.json()"
   ]
  },
  {
   "cell_type": "code",
   "execution_count": null,
   "metadata": {},
   "outputs": [],
   "source": [
    "json"
   ]
  },
  {
   "cell_type": "code",
   "execution_count": null,
   "metadata": {},
   "outputs": [],
   "source": [
    "json['programs'][0]"
   ]
  },
  {
   "cell_type": "code",
   "execution_count": null,
   "metadata": {},
   "outputs": [],
   "source": [
    "res = r.json()\n",
    "[(prog['title'], prog['seasonId']) for prog in res['programs']]"
   ]
  },
  {
   "cell_type": "code",
   "execution_count": null,
   "metadata": {},
   "outputs": [],
   "source": [
    "import nrkdownload.nrktv as nrktv\n",
    "nrktv.parse_search_results(r.json(), \"series\")"
   ]
  },
  {
   "cell_type": "code",
   "execution_count": null,
   "metadata": {},
   "outputs": [],
   "source": [
    "json['programs']"
   ]
  },
  {
   "cell_type": "code",
   "execution_count": null,
   "metadata": {},
   "outputs": [],
   "source": [
    "sum([0 , 0 ,2])"
   ]
  },
  {
   "cell_type": "code",
   "execution_count": null,
   "metadata": {},
   "outputs": [],
   "source": [
    "'test: {}'.format(list(seasons.values()))"
   ]
  },
  {
   "cell_type": "code",
   "execution_count": null,
   "metadata": {},
   "outputs": [],
   "source": [
    "seasons.values()"
   ]
  },
  {
   "cell_type": "markdown",
   "metadata": {},
   "source": [
    "# Program details"
   ]
  },
  {
   "cell_type": "code",
   "execution_count": null,
   "metadata": {},
   "outputs": [],
   "source": [
    "string = 'DVFJ67000211'  # This one has several parts\n",
    "string = 'MSPO46500113'  # This has two parts\n",
    "# string = 'MYNT13000117'\n",
    "# string = 'muhr57003018'  # This is a radio program\n",
    "# string = 'KOID20001217'\n",
    "string = 'MSUB19120216'\n",
    "r = session.get(NRK_PS_API + '/mediaelement/' + string)\n",
    "r.raise_for_status()\n",
    "json = r.json()\n",
    "json"
   ]
  },
  {
   "cell_type": "code",
   "execution_count": null,
   "metadata": {},
   "outputs": [],
   "source": [
    "import nrkdownload\n",
    "json['programId'] = string\n",
    "json['imageId'] = json['image']['id']\n",
    "program = nrkdownload.nrktv.new_program_from_search_result(json)\n",
    "program.get_download_details(json)"
   ]
  },
  {
   "cell_type": "code",
   "execution_count": null,
   "metadata": {},
   "outputs": [],
   "source": [
    "program.subtitle_urls"
   ]
  },
  {
   "cell_type": "code",
   "execution_count": null,
   "metadata": {},
   "outputs": [],
   "source": [
    "from urllib.parse import unquote, urlparse"
   ]
  },
  {
   "cell_type": "code",
   "execution_count": null,
   "metadata": {},
   "outputs": [],
   "source": [
    "u = unquote('https%3a%2f%2fundertekst.nrk.no%2fprod%2fKOID20%2f00%2fKOID20001217AA%2fTMP%2fmaster.m3u8')\n",
    "p = urlparse(u)"
   ]
  },
  {
   "cell_type": "code",
   "execution_count": null,
   "metadata": {},
   "outputs": [],
   "source": [
    "' '.join(['v', 'sdf'])"
   ]
  },
  {
   "cell_type": "code",
   "execution_count": null,
   "metadata": {},
   "outputs": [],
   "source": [
    "import re\n",
    "re.sub(r'^https', 'http', None)"
   ]
  },
  {
   "cell_type": "code",
   "execution_count": null,
   "metadata": {},
   "outputs": [],
   "source": [
    "p.scheme = 'http'\n",
    "p.geturl()"
   ]
  },
  {
   "cell_type": "code",
   "execution_count": null,
   "metadata": {},
   "outputs": [],
   "source": [
    "for m in json['mediaAssets']:\n",
    "    print(m.get('url', None))"
   ]
  },
  {
   "cell_type": "code",
   "execution_count": null,
   "metadata": {},
   "outputs": [],
   "source": [
    "import re\n",
    "re.sub(r'\\.net/z/', '.net/i/', 'test')"
   ]
  },
  {
   "cell_type": "markdown",
   "metadata": {},
   "source": [
    "url = \"https://tv.nrk.no/serie/p3-sjekker-ut/MYNT12000317/sesong-1/episode-3\"\n",
    "parsed_url = urlpar"
   ]
  },
  {
   "cell_type": "code",
   "execution_count": null,
   "metadata": {},
   "outputs": [],
   "source": [
    "import nrkdownload"
   ]
  },
  {
   "cell_type": "code",
   "execution_count": null,
   "metadata": {},
   "outputs": [],
   "source": [
    "r = session.get(NRK_PS_API + '/mediaelement/' + 'MUHH48000516')\n",
    "r.raise_for_status()\n",
    "json = r.json()\n",
    "json"
   ]
  },
  {
   "cell_type": "code",
   "execution_count": null,
   "metadata": {},
   "outputs": [],
   "source": [
    "json['mediaAssets'][0]['url']"
   ]
  },
  {
   "cell_type": "code",
   "execution_count": null,
   "metadata": {},
   "outputs": [],
   "source": [
    "# MUHH48000516\n",
    "r = session.get(NRK_PS_API + '/mediaelement/' + 'mspo46500113')\n",
    "r.raise_for_status()\n",
    "json = r.json()\n",
    "json"
   ]
  },
  {
   "cell_type": "code",
   "execution_count": null,
   "metadata": {},
   "outputs": [],
   "source": [
    "r = session.get(NRK_PS_API + '/mediaelement/' + 'dvfj67000211')\n",
    "r.raise_for_status()\n",
    "json = r.json()\n",
    "json"
   ]
  },
  {
   "cell_type": "code",
   "execution_count": null,
   "metadata": {},
   "outputs": [],
   "source": [
    "json['mediaAssets'][0]['url']"
   ]
  },
  {
   "cell_type": "code",
   "execution_count": null,
   "metadata": {},
   "outputs": [],
   "source": [
    "json['programId'] = 'KOID22008416'\n",
    "json['imageId'] = json['image']['id']"
   ]
  },
  {
   "cell_type": "code",
   "execution_count": null,
   "metadata": {},
   "outputs": [],
   "source": []
  },
  {
   "cell_type": "code",
   "execution_count": null,
   "metadata": {},
   "outputs": [],
   "source": [
    "programs = []\n",
    "programs.append(nrkdownload.nrktv.Program(json))"
   ]
  },
  {
   "cell_type": "code",
   "execution_count": null,
   "metadata": {},
   "outputs": [],
   "source": [
    "nrkdownload.nrktv.ask_for_program_download(programs)"
   ]
  },
  {
   "cell_type": "markdown",
   "metadata": {},
   "source": [
    "# Categories"
   ]
  },
  {
   "cell_type": "markdown",
   "metadata": {},
   "source": [
    "## Get name of all categories"
   ]
  },
  {
   "cell_type": "code",
   "execution_count": null,
   "metadata": {},
   "outputs": [],
   "source": [
    "r = session.get('https://tvapi.nrk.no/v1/categories')\n",
    "r.raise_for_status()\n",
    "r.json()"
   ]
  },
  {
   "cell_type": "markdown",
   "metadata": {},
   "source": [
    "## List programs within a category"
   ]
  },
  {
   "cell_type": "code",
   "execution_count": null,
   "metadata": {},
   "outputs": [],
   "source": [
    "r = session.get('https://tvapi.nrk.no/v1/categories/dokumentar')\n",
    "r.raise_for_status()\n",
    "r.json()"
   ]
  },
  {
   "cell_type": "code",
   "execution_count": null,
   "metadata": {},
   "outputs": [],
   "source": []
  },
  {
   "cell_type": "code",
   "execution_count": null,
   "metadata": {},
   "outputs": [],
   "source": [
    "r = session.get('https://tvapi.nrk.no/v1/categories/vitenskap')\n",
    "r.raise_for_status()\n",
    "r.json()"
   ]
  }
 ],
 "metadata": {
  "anaconda-cloud": {},
  "kernelspec": {
   "display_name": "Python 3",
   "language": "python",
   "name": "python3"
  },
  "language_info": {
   "codemirror_mode": {
    "name": "ipython",
    "version": 3
   },
   "file_extension": ".py",
   "mimetype": "text/x-python",
   "name": "python",
   "nbconvert_exporter": "python",
   "pygments_lexer": "ipython3",
   "version": "3.6.5"
  },
  "toc": {
   "base_numbering": 1,
   "nav_menu": {},
   "number_sections": true,
   "sideBar": true,
   "skip_h1_title": false,
   "title_cell": "Table of Contents",
   "title_sidebar": "Contents",
   "toc_cell": false,
   "toc_position": {},
   "toc_section_display": true,
   "toc_window_display": true
  }
 },
 "nbformat": 4,
 "nbformat_minor": 1
}
