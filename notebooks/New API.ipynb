{
 "cells": [
  {
   "cell_type": "code",
   "execution_count": 4,
   "metadata": {},
   "outputs": [
    {
     "name": "stdout",
     "output_type": "stream",
     "text": [
      "The autoreload extension is already loaded. To reload it, use:\n",
      "  %reload_ext autoreload\n"
     ]
    }
   ],
   "source": [
    "%load_ext autoreload\n",
    "%autoreload 2"
   ]
  },
  {
   "cell_type": "code",
   "execution_count": 5,
   "metadata": {},
   "outputs": [],
   "source": [
    "import requests\n",
    "import nrkdownload.nrkapi\n",
    "import nrkdownload.parse_nrk_url\n",
    "\n",
    "import logging\n",
    "nrkdownload.logging.getLogger().setLevel(logging.INFO)"
   ]
  },
  {
   "cell_type": "markdown",
   "metadata": {},
   "source": [
    "# Series"
   ]
  },
  {
   "cell_type": "code",
   "execution_count": null,
   "metadata": {
    "deletable": false,
    "editable": false,
    "run_control": {
     "frozen": true
    }
   },
   "outputs": [],
   "source": [
    "series_id = 'skam'\n",
    "json = nrkdownload.nrkapi.get_series(series_id)\n",
    "json"
   ]
  },
  {
   "cell_type": "code",
   "execution_count": null,
   "metadata": {},
   "outputs": [],
   "source": [
    "s1 = nrkdownload.tv.series_from_series_id('i-heisen-med')\n",
    "s2 = nrkdownload.tv.series_from_series_id('skam')\n",
    "s3 = nrkdownload.tv.series_from_series_id('mammon')\n",
    "s4 = nrkdownload.tv.series_from_series_id('skam')\n",
    "s5 = nrkdownload.tv.series_from_series_id('dagsrevyen')"
   ]
  },
  {
   "cell_type": "code",
   "execution_count": null,
   "metadata": {},
   "outputs": [],
   "source": [
    "s = nrkdownload.tv.series_from_series_id('unge-lovende')"
   ]
  },
  {
   "cell_type": "code",
   "execution_count": null,
   "metadata": {},
   "outputs": [],
   "source": [
    "s.seasons[0].episodes[0]"
   ]
  },
  {
   "cell_type": "code",
   "execution_count": null,
   "metadata": {},
   "outputs": [],
   "source": [
    "s2.known_series['i-heisen-med'].seasons[1].episode_ids"
   ]
  },
  {
   "cell_type": "code",
   "execution_count": null,
   "metadata": {},
   "outputs": [],
   "source": [
    "s1.seasons[0].episodes[1].media_urls"
   ]
  },
  {
   "cell_type": "code",
   "execution_count": null,
   "metadata": {},
   "outputs": [],
   "source": [
    "nrkdownload.tv.Series.known_series['skam']"
   ]
  },
  {
   "cell_type": "markdown",
   "metadata": {},
   "source": [
    "# Seasons"
   ]
  },
  {
   "cell_type": "code",
   "execution_count": null,
   "metadata": {},
   "outputs": [],
   "source": [
    "s = nrkdownload.classes.Season('skam', 0, '70522', '1')"
   ]
  },
  {
   "cell_type": "code",
   "execution_count": null,
   "metadata": {},
   "outputs": [],
   "source": [
    "s.episode_ids"
   ]
  },
  {
   "cell_type": "markdown",
   "metadata": {},
   "source": [
    "# Episodes in a season"
   ]
  },
  {
   "cell_type": "code",
   "execution_count": null,
   "metadata": {},
   "outputs": [],
   "source": [
    "series = 'skam'\n",
    "season = '76968'\n",
    "r = requests.get('http://psapi3-webapp-prod-we.azurewebsites.net/series/{}/seasons/{}/episodes'.format(series, season))\n",
    "json = r.json()"
   ]
  },
  {
   "cell_type": "code",
   "execution_count": null,
   "metadata": {},
   "outputs": [],
   "source": [
    "for episode in reversed(json):\n",
    "    print(episode['seasonNumber'], episode['episodeNumber'], episode['id'])"
   ]
  },
  {
   "cell_type": "code",
   "execution_count": null,
   "metadata": {},
   "outputs": [],
   "source": [
    "nrkdownload.nrkapi.get_episode_ids_of_series_season('skam', '70522')"
   ]
  },
  {
   "cell_type": "markdown",
   "metadata": {},
   "source": [
    "# Mediaelement (Program / Episode)"
   ]
  },
  {
   "cell_type": "code",
   "execution_count": null,
   "metadata": {},
   "outputs": [],
   "source": []
  },
  {
   "cell_type": "code",
   "execution_count": null,
   "metadata": {},
   "outputs": [],
   "source": [
    "json = nrkdownload.nrkapi.get_mediaelement('MUHR01032518')\n",
    "json"
   ]
  },
  {
   "cell_type": "code",
   "execution_count": null,
   "metadata": {},
   "outputs": [],
   "source": [
    "p = nrkdownload.tv.new_program_from_mediaelement_id('MUHR01032518')"
   ]
  },
  {
   "cell_type": "code",
   "execution_count": null,
   "metadata": {},
   "outputs": [],
   "source": [
    "print(p)"
   ]
  },
  {
   "cell_type": "code",
   "execution_count": null,
   "metadata": {},
   "outputs": [],
   "source": [
    "p.filename"
   ]
  },
  {
   "cell_type": "code",
   "execution_count": null,
   "metadata": {},
   "outputs": [],
   "source": [
    "p.episode_number"
   ]
  },
  {
   "cell_type": "code",
   "execution_count": null,
   "metadata": {},
   "outputs": [],
   "source": [
    "p.series_id"
   ]
  },
  {
   "cell_type": "code",
   "execution_count": null,
   "metadata": {},
   "outputs": [],
   "source": [
    "s = nrkdownload.classes.series_from_series_id(p.series_id)"
   ]
  },
  {
   "cell_type": "code",
   "execution_count": null,
   "metadata": {},
   "outputs": [],
   "source": [
    "s.dir_name"
   ]
  },
  {
   "cell_type": "code",
   "execution_count": null,
   "metadata": {},
   "outputs": [],
   "source": [
    "s.seasons[0].dir_name"
   ]
  },
  {
   "cell_type": "code",
   "execution_count": null,
   "metadata": {},
   "outputs": [],
   "source": [
    "s.seasons[0].episode_ids.index('MDSP13010314')"
   ]
  },
  {
   "cell_type": "code",
   "execution_count": null,
   "metadata": {},
   "outputs": [],
   "source": [
    "a = []\n",
    "a.index"
   ]
  },
  {
   "cell_type": "code",
   "execution_count": null,
   "metadata": {},
   "outputs": [],
   "source": [
    "print(s.seasons[0])"
   ]
  },
  {
   "cell_type": "code",
   "execution_count": null,
   "metadata": {},
   "outputs": [],
   "source": [
    "json['image']['imageInfo']['id']"
   ]
  },
  {
   "cell_type": "code",
   "execution_count": null,
   "metadata": {},
   "outputs": [],
   "source": [
    "import nrkdownload.utils"
   ]
  },
  {
   "cell_type": "code",
   "execution_count": null,
   "metadata": {},
   "outputs": [],
   "source": [
    "nrkdownload.utils.create_image_url(json['image']['imageInfo']['id'])"
   ]
  },
  {
   "cell_type": "code",
   "execution_count": null,
   "metadata": {},
   "outputs": [],
   "source": [
    "from nrkdownload.nrktv import Program"
   ]
  },
  {
   "cell_type": "code",
   "execution_count": null,
   "metadata": {},
   "outputs": [],
   "source": [
    "p = Program('title', 'DVFJ67000211', 'description', 'image_url')\n",
    "p"
   ]
  },
  {
   "cell_type": "code",
   "execution_count": null,
   "metadata": {},
   "outputs": [],
   "source": [
    "p.get_download_details()\n",
    "p.media_urls"
   ]
  },
  {
   "cell_type": "code",
   "execution_count": null,
   "metadata": {},
   "outputs": [],
   "source": [
    "p.make_filename()\n",
    "p.filename"
   ]
  },
  {
   "cell_type": "code",
   "execution_count": null,
   "metadata": {},
   "outputs": [],
   "source": [
    "string = \"Sankthans-stemning fra Stavern\"\n",
    "\n",
    "r = session.get('http://psapi.nrk.no/search?q=herdlefjorden')"
   ]
  },
  {
   "cell_type": "code",
   "execution_count": null,
   "metadata": {},
   "outputs": [],
   "source": [
    "r.text"
   ]
  },
  {
   "cell_type": "code",
   "execution_count": null,
   "metadata": {},
   "outputs": [],
   "source": [
    "r = session.get('https://tv.nrk.no/sok?q=sjakk')"
   ]
  },
  {
   "cell_type": "markdown",
   "metadata": {},
   "source": [
    "# Podcasts"
   ]
  },
  {
   "cell_type": "markdown",
   "metadata": {},
   "source": [
    "## Series"
   ]
  },
  {
   "cell_type": "code",
   "execution_count": null,
   "metadata": {},
   "outputs": [],
   "source": [
    "%reload_ext autoreload\n",
    "%autoreload 2\n",
    "\n",
    "import logging\n",
    "import nrkdownload.nrkapi\n",
    "\n",
    "nrkdownload.nrkapi.logging.getLogger().setLevel(logging.DEBUG)\n",
    "json = nrkdownload.nrkapi.get_podcast_series('nyhetsmorgen')"
   ]
  },
  {
   "cell_type": "code",
   "execution_count": null,
   "metadata": {},
   "outputs": [],
   "source": [
    "podcast = nrkdownload.radio.podcast_from_podcast_id('nyhetsmorgen')\n",
    "for e in podcast.episodes:\n",
    "    print(e)"
   ]
  },
  {
   "cell_type": "code",
   "execution_count": null,
   "metadata": {},
   "outputs": [],
   "source": [
    "json['titles']['subtitle']"
   ]
  },
  {
   "cell_type": "code",
   "execution_count": null,
   "metadata": {},
   "outputs": [],
   "source": [
    "len(json['_embedded']['episodes']['items'])"
   ]
  },
  {
   "cell_type": "code",
   "execution_count": null,
   "metadata": {},
   "outputs": [],
   "source": [
    "import urllib\n",
    "urllib.parse.quote('1990-01-01:00:00')"
   ]
  },
  {
   "cell_type": "code",
   "execution_count": null,
   "metadata": {},
   "outputs": [],
   "source": [
    "json['_embedded']['episodes']['items'][9]['_links']['podcastEpisode']['href'].split('/')[-1]"
   ]
  },
  {
   "cell_type": "code",
   "execution_count": null,
   "metadata": {},
   "outputs": [],
   "source": [
    "nrkdownload.radio."
   ]
  },
  {
   "cell_type": "markdown",
   "metadata": {},
   "source": [
    "## All episodes"
   ]
  },
  {
   "cell_type": "code",
   "execution_count": null,
   "metadata": {},
   "outputs": [],
   "source": [
    "%reload_ext autoreload\n",
    "%autoreload 2\n",
    "\n",
    "import nrkdownload.nrkapi\n",
    "import nrkdownload.radio\n",
    "\n",
    "json = nrkdownload.nrkapi.get_podcast_episodes('saann_er_du')\n",
    "json"
   ]
  },
  {
   "cell_type": "code",
   "execution_count": null,
   "metadata": {},
   "outputs": [],
   "source": [
    "json.keys()"
   ]
  },
  {
   "cell_type": "code",
   "execution_count": null,
   "metadata": {},
   "outputs": [],
   "source": [
    "json['items'][0]"
   ]
  },
  {
   "cell_type": "code",
   "execution_count": null,
   "metadata": {},
   "outputs": [],
   "source": [
    "nrkdownload.radio.podcast_episodes('saann_er_du')"
   ]
  },
  {
   "cell_type": "markdown",
   "metadata": {},
   "source": [
    "## One episode"
   ]
  },
  {
   "cell_type": "code",
   "execution_count": null,
   "metadata": {},
   "outputs": [],
   "source": [
    "%reload_ext autoreload\n",
    "%autoreload 2\n",
    "\n",
    "import nrkdownload.nrkapi\n",
    "import nrkdownload.radio\n",
    "\n",
    "json = nrkdownload.nrkapi.get_podcast_episode('saann_er_du', 'nrkno-poddkast-25555-142549-28102018100000')\n",
    "json"
   ]
  },
  {
   "cell_type": "code",
   "execution_count": null,
   "metadata": {},
   "outputs": [],
   "source": [
    "json['_links'].get('self')"
   ]
  },
  {
   "cell_type": "code",
   "execution_count": null,
   "metadata": {},
   "outputs": [],
   "source": [
    "e = nrkdownload.radio.episode_from_episode_id('saann_er_du', 'nrkno-poddkast-25555-142549-28102018100000')\n",
    "print(e)"
   ]
  },
  {
   "cell_type": "code",
   "execution_count": null,
   "metadata": {},
   "outputs": [],
   "source": [
    "e.filename"
   ]
  },
  {
   "cell_type": "markdown",
   "metadata": {},
   "source": [
    "# URL parsing"
   ]
  },
  {
   "cell_type": "code",
   "execution_count": null,
   "metadata": {},
   "outputs": [],
   "source": [
    "urls = [\n",
    "    'https://tv.nrk.no/serie/oppfinneren',\n",
    "    'https://tv.nrk.no/serie/oppfinneren/sesong/2',\n",
    "    'https://tv.nrk.no/serie/oppfinneren/sesong/2/episode/2/avspiller',\n",
    "    'https://tv.nrk.no/serie/oppfinneren/MKTV52000418',\n",
    "    'https://tv.nrk.no/serie/forbrukerinspektoerene/MDHP11004318',\n",
    "    'https://tv.nrk.no/serie/forbrukerinspektoerene/MDHP11004318/24-10-2018',\n",
    "    'https://tv.nrk.no/serie/ut-i-naturen/DVNA50000512',\n",
    "    'https://tv.nrk.no/serie/ut-i-naturen/DVNA50000512/08-03-2016',\n",
    "    'https://tv.nrk.no/program/MYNR46000018',\n",
    "    'https://tv.nrk.no/program/MYNR46000018/arif-og-unge-ferrari-med-stavanger-symfoniorkester',\n",
    "    'https://tv.nrk.no/program/KMTE30000117',\n",
    "    'https://tv.nrk.no/program/KMTE30000117/opproersskolen',\n",
    "    'https://radio.nrk.no/podkast/saann_er_du/',\n",
    "    'https://radio.nrk.no/podkast/saann_er_du/nrkno-poddkast-25555-141668-15092018140000'\n",
    "]"
   ]
  },
  {
   "cell_type": "code",
   "execution_count": null,
   "metadata": {},
   "outputs": [],
   "source": [
    "import logging\n",
    "import nrkdownload.parse_nrk_url\n",
    "nrkdownload.logging.getLogger().setLevel(logging.WARNING)\n",
    "nrkdownload.nrkapi.LOG.setLevel(logging.WARNING)\n",
    "\n",
    "LOG = logging.getLogger(__name__)\n",
    "for url in urls:\n",
    "    LOG.info(url)\n",
    "    programs = nrkdownload.parse_nrk_url.parse_url(url)\n",
    "    print(url)\n",
    "    for p in programs:\n",
    "        print(\"  \", p)"
   ]
  },
  {
   "cell_type": "code",
   "execution_count": null,
   "metadata": {},
   "outputs": [],
   "source": [
    "p.filename"
   ]
  },
  {
   "cell_type": "code",
   "execution_count": null,
   "metadata": {},
   "outputs": [],
   "source": [
    "ps = nrkdownload.parse_nrk_url.parse_url('https://radio.nrk.no/serie/nitimen/MUHR01032518/04-11-2018')\n",
    "for p in ps:\n",
    "    print(p)"
   ]
  },
  {
   "cell_type": "code",
   "execution_count": null,
   "metadata": {},
   "outputs": [],
   "source": [
    "p.filename"
   ]
  },
  {
   "cell_type": "code",
   "execution_count": 6,
   "metadata": {},
   "outputs": [
    {
     "name": "stderr",
     "output_type": "stream",
     "text": [
      "[INFO] nrkdownload.parse_nrk_url(80): URL matches episode MSPO47700118\n"
     ]
    }
   ],
   "source": [
    "p = nrkdownload.parse_nrk_url.parse_url('https://tv.nrk.no/serie/sjakk/MSPO47700118')"
   ]
  },
  {
   "cell_type": "code",
   "execution_count": 10,
   "metadata": {},
   "outputs": [
    {
     "data": {
      "text/plain": [
       "['http://nordond30a-f.akamaihd.net/i/no/open/9a/9af1ef34efdabaf8ca9be3f9e32e66839e49d06e/d7ac6ada-55c3-43a0-aed6-16fdea820610_,141,316,563,1266,2250,.mp4.csmil/master.m3u8',\n",
       " 'http://nordond18a-f.akamaihd.net/i/no/open/14/149d50aaddd1a67ed823bb79b36b6c450db779e4/cc434548-b8db-4a73-9502-4234bfd2f713_,141,316,563,1266,2250,.mp4.csmil/master.m3u8',\n",
       " 'http://nordond27c-f.akamaihd.net/i/no/open/35/351e68fea6d89ecd621fc8e3824eb2a60425e626/768ee725-c917-487b-b89f-f2c878662b7e_,141,316,563,1266,2250,.mp4.csmil/master.m3u8']"
      ]
     },
     "execution_count": 10,
     "metadata": {},
     "output_type": "execute_result"
    }
   ],
   "source": [
    "p[0].media_urls"
   ]
  },
  {
   "cell_type": "code",
   "execution_count": null,
   "metadata": {},
   "outputs": [],
   "source": []
  }
 ],
 "metadata": {
  "kernelspec": {
   "display_name": "Python 3",
   "language": "python",
   "name": "python3"
  },
  "language_info": {
   "codemirror_mode": {
    "name": "ipython",
    "version": 3
   },
   "file_extension": ".py",
   "mimetype": "text/x-python",
   "name": "python",
   "nbconvert_exporter": "python",
   "pygments_lexer": "ipython3",
   "version": "3.6.5"
  },
  "toc": {
   "base_numbering": 1,
   "nav_menu": {},
   "number_sections": true,
   "sideBar": true,
   "skip_h1_title": false,
   "title_cell": "Table of Contents",
   "title_sidebar": "Contents",
   "toc_cell": false,
   "toc_position": {},
   "toc_section_display": true,
   "toc_window_display": true
  }
 },
 "nbformat": 4,
 "nbformat_minor": 2
}
