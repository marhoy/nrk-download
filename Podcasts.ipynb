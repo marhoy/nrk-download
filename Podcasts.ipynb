{
 "cells": [
  {
   "cell_type": "code",
   "execution_count": null,
   "id": "ea9059ce",
   "metadata": {},
   "outputs": [],
   "source": [
    "%load_ext autoreload\n",
    "%autoreload 2"
   ]
  },
  {
   "cell_type": "code",
   "execution_count": null,
   "id": "2fbfd79e",
   "metadata": {},
   "outputs": [],
   "source": [
    "from nrkdownload.nrk_radio import Podcast"
   ]
  },
  {
   "cell_type": "code",
   "execution_count": null,
   "id": "6d0be05c",
   "metadata": {},
   "outputs": [],
   "source": [
    "podcast = Podcast.from_series_id(\"skitprat\")\n",
    "podcast"
   ]
  },
  {
   "cell_type": "code",
   "execution_count": null,
   "id": "b80201ae",
   "metadata": {},
   "outputs": [],
   "source": [
    "podcast.get_season(\"1\")"
   ]
  },
  {
   "cell_type": "code",
   "execution_count": null,
   "id": "c608c94a",
   "metadata": {},
   "outputs": [],
   "source": [
    "import requests\n",
    "from pprint import pprint"
   ]
  },
  {
   "cell_type": "code",
   "execution_count": null,
   "id": "c7e78fc0",
   "metadata": {},
   "outputs": [],
   "source": [
    "r = requests.get(\"https://psapi.nrk.no/radio/catalog/programs/l_f36f6a6c-8655-4036-af6a-6c8655903605\")\n",
    "r.raise_for_status()\n",
    "r.json()"
   ]
  },
  {
   "cell_type": "code",
   "execution_count": null,
   "id": "94e866ce",
   "metadata": {},
   "outputs": [],
   "source": [
    "r = requests.get(\"https://psapi.nrk.no/playback/manifest/podcast/skitprat/l_f36f6a6c-8655-4036-af6a-6c8655903605\")\n",
    "r.raise_for_status()\n",
    "r.json()"
   ]
  },
  {
   "cell_type": "code",
   "execution_count": null,
   "id": "75af7ab6",
   "metadata": {},
   "outputs": [],
   "source": [
    "r = requests.get(\"https://psapi.nrk.no/radio/catalog/podcast/skitprat?pageSize=1\")\n",
    "podcast = r.json()\n",
    "pprint(podcast)"
   ]
  },
  {
   "cell_type": "code",
   "execution_count": null,
   "id": "731ee30d",
   "metadata": {},
   "outputs": [],
   "source": [
    "r = requests.get(\"https://psapi.nrk.no/tv/catalog/series/kongen-av-gulset\")\n",
    "tv = r.json()\n",
    "pprint(tv)"
   ]
  },
  {
   "cell_type": "code",
   "execution_count": null,
   "id": "fe8db4dd",
   "metadata": {},
   "outputs": [],
   "source": [
    "tv.keys()"
   ]
  },
  {
   "cell_type": "code",
   "execution_count": null,
   "id": "9e098623",
   "metadata": {},
   "outputs": [],
   "source": [
    "podcast.keys()"
   ]
  },
  {
   "cell_type": "code",
   "execution_count": null,
   "id": "1fb063cd",
   "metadata": {},
   "outputs": [],
   "source": [
    "podcast[\"seriesType\"]"
   ]
  },
  {
   "cell_type": "code",
   "execution_count": null,
   "id": "e6cdb01f",
   "metadata": {},
   "outputs": [],
   "source": [
    "podcast[\"type\"]"
   ]
  },
  {
   "cell_type": "code",
   "execution_count": null,
   "id": "c2edb30d",
   "metadata": {},
   "outputs": [],
   "source": [
    "data[\"series\"][\"titles\"][\"title\"]"
   ]
  },
  {
   "cell_type": "code",
   "execution_count": null,
   "id": "638753d9",
   "metadata": {},
   "outputs": [],
   "source": [
    "data[\"_links\"][\"seasons\"]"
   ]
  },
  {
   "cell_type": "code",
   "execution_count": null,
   "id": "7515c378",
   "metadata": {},
   "outputs": [],
   "source": [
    "from nrkdownload.nrk_tv import TVSeries"
   ]
  },
  {
   "cell_type": "code",
   "execution_count": null,
   "id": "442cca2d",
   "metadata": {},
   "outputs": [],
   "source": []
  },
  {
   "cell_type": "code",
   "execution_count": null,
   "id": "dfe2b270",
   "metadata": {},
   "outputs": [],
   "source": [
    "TVSeries()"
   ]
  }
 ],
 "metadata": {
  "kernelspec": {
   "display_name": "nrkdownload",
   "language": "python",
   "name": "nrkdownload"
  },
  "language_info": {
   "codemirror_mode": {
    "name": "ipython",
    "version": 3
   },
   "file_extension": ".py",
   "mimetype": "text/x-python",
   "name": "python",
   "nbconvert_exporter": "python",
   "pygments_lexer": "ipython3",
   "version": "3.10.4"
  }
 },
 "nbformat": 4,
 "nbformat_minor": 5
}
