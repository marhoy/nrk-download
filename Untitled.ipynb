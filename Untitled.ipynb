{
 "cells": [
  {
   "cell_type": "code",
   "execution_count": 1,
   "metadata": {},
   "outputs": [
    {
     "name": "stdout",
     "output_type": "stream",
     "text": [
      "The autoreload extension is already loaded. To reload it, use:\n",
      "  %reload_ext autoreload\n"
     ]
    }
   ],
   "source": [
    "%load_ext autoreload\n",
    "%autoreload 2"
   ]
  },
  {
   "cell_type": "code",
   "execution_count": 2,
   "metadata": {},
   "outputs": [],
   "source": [
    "import nrkdownload\n",
    "import logging\n",
    "nrkdownload.nrktv.LOG.setLevel(logging.DEBUG)"
   ]
  },
  {
   "cell_type": "markdown",
   "metadata": {},
   "source": [
    "# Search for a series"
   ]
  },
  {
   "cell_type": "code",
   "execution_count": null,
   "metadata": {},
   "outputs": [],
   "source": [
    "string = 'vestlandsrevyen'\n",
    "search_type = 'series'\n",
    "result = nrkdownload.nrktv.search(string, search_type)\n",
    "result"
   ]
  },
  {
   "cell_type": "code",
   "execution_count": null,
   "metadata": {},
   "outputs": [],
   "source": [
    "nrkdownload.nrktv.LOG.setLevel(logging.WARNING)\n",
    "for r in result:\n",
    "    print(r)\n",
    "    r.get_seasons_and_episodes()\n",
    "    for s in r.seasons:\n",
    "        print(' '*4, s, s.number)\n",
    "#         for e in s.episodes:\n",
    "#             print(' '*8, e)"
   ]
  },
  {
   "cell_type": "markdown",
   "metadata": {},
   "source": [
    "# Search for a program"
   ]
  },
  {
   "cell_type": "code",
   "execution_count": null,
   "metadata": {},
   "outputs": [],
   "source": [
    "string = 'skam'\n",
    "search_type = 'program'\n",
    "result = nrkdownload.nrktv.search(string, search_type)\n",
    "result"
   ]
  },
  {
   "cell_type": "code",
   "execution_count": 3,
   "metadata": {},
   "outputs": [
    {
     "name": "stderr",
     "output_type": "stream",
     "text": [
      "[INFO] nrkdownload.nrktv(45): Creating new Program: Bergen - Florø : dvfj67000211\n",
      "[INFO] nrkdownload.nrktv(45): Creating new Program: Måløy-Bergen (del 2) : enrk22065313\n",
      "[INFO] nrkdownload.nrktv(45): Creating new Program: Distriktsnyheter Vestlandsrevyen 04.02.2014 : dkho99020414\n"
     ]
    },
    {
     "data": {
      "text/plain": [
       "[<nrkdownload.nrktv.Program at 0x7f06f1fd5a58>,\n",
       " <nrkdownload.nrktv.Program at 0x7f06f1fd5908>,\n",
       " <nrkdownload.nrktv.Program at 0x7f06f1fd5b38>]"
      ]
     },
     "execution_count": 3,
     "metadata": {},
     "output_type": "execute_result"
    }
   ],
   "source": [
    "r = nrkdownload.nrktv.search('Herdlefjorden', 'program')\n",
    "r"
   ]
  },
  {
   "cell_type": "code",
   "execution_count": 4,
   "metadata": {},
   "outputs": [],
   "source": [
    "r[0].get_download_details()"
   ]
  },
  {
   "cell_type": "code",
   "execution_count": 5,
   "metadata": {},
   "outputs": [
    {
     "data": {
      "text/plain": [
       "['http://nordond4b-f.akamaihd.net/i/wo/open/f4/f4dc5a04a7ca5c406f5cc313d4bed5d0d87004a0/a5084291-fb0c-4a48-ba2d-6ea4f834bab7_,141,316,563,1266,2250,.mp4.csmil/master.m3u8',\n",
       " 'http://nordond10c-f.akamaihd.net/i/wo/open/fd/fd756ee8949ea417be4345697032973c6221206c/a5084291-fb0c-4a48-ba2d-6ea4f834bab7_,141,316,563,1266,2250,.mp4.csmil/master.m3u8',\n",
       " 'http://nordond25a-f.akamaihd.net/i/wo/open/32/32752abdbe87b58125d3330acf4e8e9924d97c95/a5084291-fb0c-4a48-ba2d-6ea4f834bab7_,141,316,563,1266,2250,.mp4.csmil/master.m3u8',\n",
       " 'http://nordond33c-f.akamaihd.net/i/wo/open/9d/9dd0247af7da58969085d27c515065e285e00700/9e760f0f-697a-435d-95d7-b1f5a731d14d_,141,316,563,1266,2250,.mp4.csmil/master.m3u8']"
      ]
     },
     "execution_count": 5,
     "metadata": {},
     "output_type": "execute_result"
    }
   ],
   "source": [
    "r[0].media_urls"
   ]
  },
  {
   "cell_type": "code",
   "execution_count": 7,
   "metadata": {},
   "outputs": [
    {
     "name": "stderr",
     "output_type": "stream",
     "text": [
      "[DEBUG] nrkdownload.nrktv(89): Making filename for series hurtigruten-minutt-for-minutt\n",
      "[DEBUG] nrkdownload.nrktv(171): Downloading detailed info on hurtigruten-minutt-for-minutt\n",
      "[DEBUG] nrkdownload.nrktv(180): Adding seasons to  hurtigruten-minutt-for-minutt\n",
      "[INFO] nrkdownload.nrktv(133): Creating new season: 0: 34774: 2011\n",
      "[INFO] nrkdownload.nrktv(133): Creating new season: 1: 34775: 2012\n",
      "[DEBUG] nrkdownload.nrktv(188): Adding episodes to  hurtigruten-minutt-for-minutt\n",
      "[INFO] nrkdownload.nrktv(45): Creating new Program: Ved kai i Bergen : dvfj67000111\n",
      "[DEBUG] nrkdownload.nrktv(194): Series hurtigruten-minutt-for-minutt: Adding Ved kai i Bergen to S0, E0\n",
      "[INFO] nrkdownload.nrktv(45): Creating new Program: Bergen - Florø : dvfj67000211\n",
      "[DEBUG] nrkdownload.nrktv(194): Series hurtigruten-minutt-for-minutt: Adding Bergen - Florø to S0, E1\n",
      "[INFO] nrkdownload.nrktv(45): Creating new Program: Ved kai i Florø : dvfj67000311\n",
      "[DEBUG] nrkdownload.nrktv(194): Series hurtigruten-minutt-for-minutt: Adding Ved kai i Florø to S0, E2\n",
      "[INFO] nrkdownload.nrktv(45): Creating new Program: Florø - Måløy : dvfj67000411\n",
      "[DEBUG] nrkdownload.nrktv(194): Series hurtigruten-minutt-for-minutt: Adding Florø - Måløy to S0, E3\n",
      "[INFO] nrkdownload.nrktv(45): Creating new Program: Ved kai i Måløy : dvfj67000511\n",
      "[DEBUG] nrkdownload.nrktv(194): Series hurtigruten-minutt-for-minutt: Adding Ved kai i Måløy to S0, E4\n",
      "[INFO] nrkdownload.nrktv(45): Creating new Program: Måløy - Torvik : dvfj67000611\n",
      "[DEBUG] nrkdownload.nrktv(194): Series hurtigruten-minutt-for-minutt: Adding Måløy - Torvik to S0, E5\n",
      "[INFO] nrkdownload.nrktv(45): Creating new Program: Ved kai i Torvik : dvfj67000711\n",
      "[DEBUG] nrkdownload.nrktv(194): Series hurtigruten-minutt-for-minutt: Adding Ved kai i Torvik to S0, E6\n",
      "[INFO] nrkdownload.nrktv(45): Creating new Program: Torvik - Ålesund : dvfj67000811\n",
      "[DEBUG] nrkdownload.nrktv(194): Series hurtigruten-minutt-for-minutt: Adding Torvik - Ålesund to S0, E7\n",
      "[INFO] nrkdownload.nrktv(45): Creating new Program: Ved kai i Ålesund : dvfj67000911\n",
      "[DEBUG] nrkdownload.nrktv(194): Series hurtigruten-minutt-for-minutt: Adding Ved kai i Ålesund to S0, E8\n",
      "[INFO] nrkdownload.nrktv(45): Creating new Program: Ålesund - Geiranger : dvfj67001011\n",
      "[DEBUG] nrkdownload.nrktv(194): Series hurtigruten-minutt-for-minutt: Adding Ålesund - Geiranger to S0, E9\n",
      "[INFO] nrkdownload.nrktv(45): Creating new Program: Geiranger - Ålesund : dvfj67001111\n",
      "[DEBUG] nrkdownload.nrktv(194): Series hurtigruten-minutt-for-minutt: Adding Geiranger - Ålesund to S0, E10\n",
      "[INFO] nrkdownload.nrktv(45): Creating new Program: Ved kai i Ålesund : dvfj67001211\n",
      "[DEBUG] nrkdownload.nrktv(194): Series hurtigruten-minutt-for-minutt: Adding Ved kai i Ålesund to S0, E11\n",
      "[INFO] nrkdownload.nrktv(45): Creating new Program: Ålesund - Molde : dvfj67001311\n",
      "[DEBUG] nrkdownload.nrktv(194): Series hurtigruten-minutt-for-minutt: Adding Ålesund - Molde to S0, E12\n",
      "[INFO] nrkdownload.nrktv(45): Creating new Program: Ved kai i Molde : dvfj67001411\n",
      "[DEBUG] nrkdownload.nrktv(194): Series hurtigruten-minutt-for-minutt: Adding Ved kai i Molde to S0, E13\n",
      "[INFO] nrkdownload.nrktv(45): Creating new Program: Molde - Kristiansund : dvfj67001511\n",
      "[DEBUG] nrkdownload.nrktv(194): Series hurtigruten-minutt-for-minutt: Adding Molde - Kristiansund to S0, E14\n",
      "[INFO] nrkdownload.nrktv(45): Creating new Program: Ved kai i Kristiansund : dvfj67001611\n",
      "[DEBUG] nrkdownload.nrktv(194): Series hurtigruten-minutt-for-minutt: Adding Ved kai i Kristiansund to S0, E15\n",
      "[INFO] nrkdownload.nrktv(45): Creating new Program: Kristiansund - Trondheim : dvfj67001711\n",
      "[DEBUG] nrkdownload.nrktv(194): Series hurtigruten-minutt-for-minutt: Adding Kristiansund - Trondheim to S0, E16\n",
      "[INFO] nrkdownload.nrktv(45): Creating new Program: Ved kai i Trondheim : dvfj67007011\n",
      "[DEBUG] nrkdownload.nrktv(194): Series hurtigruten-minutt-for-minutt: Adding Ved kai i Trondheim to S0, E17\n",
      "[INFO] nrkdownload.nrktv(45): Creating new Program: Trondheim - Rørvik : dvfj67001911\n",
      "[DEBUG] nrkdownload.nrktv(194): Series hurtigruten-minutt-for-minutt: Adding Trondheim - Rørvik to S0, E18\n",
      "[INFO] nrkdownload.nrktv(45): Creating new Program: Ved kai i Rørvik : dvfj67002011\n",
      "[DEBUG] nrkdownload.nrktv(194): Series hurtigruten-minutt-for-minutt: Adding Ved kai i Rørvik to S0, E19\n",
      "[INFO] nrkdownload.nrktv(45): Creating new Program: Rørvik - Brønnøysund : dvfj67002111\n",
      "[DEBUG] nrkdownload.nrktv(194): Series hurtigruten-minutt-for-minutt: Adding Rørvik - Brønnøysund to S0, E20\n",
      "[INFO] nrkdownload.nrktv(45): Creating new Program: Ved kai i Brønnøysund : dvfj67002211\n",
      "[DEBUG] nrkdownload.nrktv(194): Series hurtigruten-minutt-for-minutt: Adding Ved kai i Brønnøysund to S0, E21\n",
      "[INFO] nrkdownload.nrktv(45): Creating new Program: Brønnøysund - Sandnessjøen : dvfj67002311\n",
      "[DEBUG] nrkdownload.nrktv(194): Series hurtigruten-minutt-for-minutt: Adding Brønnøysund - Sandnessjøen to S0, E22\n",
      "[INFO] nrkdownload.nrktv(45): Creating new Program: Ved kai i Sandnessjøen : dvfj67002411\n",
      "[DEBUG] nrkdownload.nrktv(194): Series hurtigruten-minutt-for-minutt: Adding Ved kai i Sandnessjøen to S0, E23\n",
      "[INFO] nrkdownload.nrktv(45): Creating new Program: Sandnessjøen - Nesna : dvfj67002511\n",
      "[DEBUG] nrkdownload.nrktv(194): Series hurtigruten-minutt-for-minutt: Adding Sandnessjøen - Nesna to S0, E24\n",
      "[INFO] nrkdownload.nrktv(45): Creating new Program: Ved kai i Nesna : dvfj67002611\n",
      "[DEBUG] nrkdownload.nrktv(194): Series hurtigruten-minutt-for-minutt: Adding Ved kai i Nesna to S0, E25\n",
      "[INFO] nrkdownload.nrktv(45): Creating new Program: Nesna - Ørnes : dvfj67002711\n",
      "[DEBUG] nrkdownload.nrktv(194): Series hurtigruten-minutt-for-minutt: Adding Nesna - Ørnes to S0, E26\n",
      "[INFO] nrkdownload.nrktv(45): Creating new Program: Ved kai i Ørnes : dvfj67002811\n",
      "[DEBUG] nrkdownload.nrktv(194): Series hurtigruten-minutt-for-minutt: Adding Ved kai i Ørnes to S0, E27\n",
      "[INFO] nrkdownload.nrktv(45): Creating new Program: Ørnes - Bodø : dvfj67002911\n",
      "[DEBUG] nrkdownload.nrktv(194): Series hurtigruten-minutt-for-minutt: Adding Ørnes - Bodø to S0, E28\n",
      "[INFO] nrkdownload.nrktv(45): Creating new Program: Ved kai i Bodø : dvfj67003011\n",
      "[DEBUG] nrkdownload.nrktv(194): Series hurtigruten-minutt-for-minutt: Adding Ved kai i Bodø to S0, E29\n",
      "[INFO] nrkdownload.nrktv(45): Creating new Program: Bodø-Stamsund : dvfj67003111\n",
      "[DEBUG] nrkdownload.nrktv(194): Series hurtigruten-minutt-for-minutt: Adding Bodø-Stamsund to S0, E30\n",
      "[INFO] nrkdownload.nrktv(45): Creating new Program: Ved kai i Stamsund : dvfj67003211\n",
      "[DEBUG] nrkdownload.nrktv(194): Series hurtigruten-minutt-for-minutt: Adding Ved kai i Stamsund to S0, E31\n",
      "[INFO] nrkdownload.nrktv(45): Creating new Program: Stamsund - Svolvær : dvfj67003311\n",
      "[DEBUG] nrkdownload.nrktv(194): Series hurtigruten-minutt-for-minutt: Adding Stamsund - Svolvær to S0, E32\n",
      "[INFO] nrkdownload.nrktv(45): Creating new Program: Ved kai i Svolvær : dvfj67003411\n",
      "[DEBUG] nrkdownload.nrktv(194): Series hurtigruten-minutt-for-minutt: Adding Ved kai i Svolvær to S0, E33\n",
      "[INFO] nrkdownload.nrktv(45): Creating new Program: Svolvær - Stokmarknes : dvfj67003511\n",
      "[DEBUG] nrkdownload.nrktv(194): Series hurtigruten-minutt-for-minutt: Adding Svolvær - Stokmarknes to S0, E34\n",
      "[INFO] nrkdownload.nrktv(45): Creating new Program: Ved kai i Stokmarknes : dvfj67003611\n",
      "[DEBUG] nrkdownload.nrktv(194): Series hurtigruten-minutt-for-minutt: Adding Ved kai i Stokmarknes to S0, E35\n",
      "[INFO] nrkdownload.nrktv(45): Creating new Program: Stokmarknes - Sortland : dvfj67003711\n",
      "[DEBUG] nrkdownload.nrktv(194): Series hurtigruten-minutt-for-minutt: Adding Stokmarknes - Sortland to S0, E36\n",
      "[INFO] nrkdownload.nrktv(45): Creating new Program: Ved kai i Sortland : dvfj67003811\n",
      "[DEBUG] nrkdownload.nrktv(194): Series hurtigruten-minutt-for-minutt: Adding Ved kai i Sortland to S0, E37\n",
      "[INFO] nrkdownload.nrktv(45): Creating new Program: Sortland - Risøyhamn : dvfj67003911\n",
      "[DEBUG] nrkdownload.nrktv(194): Series hurtigruten-minutt-for-minutt: Adding Sortland - Risøyhamn to S0, E38\n",
      "[INFO] nrkdownload.nrktv(45): Creating new Program: Ved kai i Risøyhamn : dvfj67004011\n",
      "[DEBUG] nrkdownload.nrktv(194): Series hurtigruten-minutt-for-minutt: Adding Ved kai i Risøyhamn to S0, E39\n",
      "[INFO] nrkdownload.nrktv(45): Creating new Program: Risøyhamn - Harstad : dvfj67004111\n"
     ]
    },
    {
     "name": "stderr",
     "output_type": "stream",
     "text": [
      "[DEBUG] nrkdownload.nrktv(194): Series hurtigruten-minutt-for-minutt: Adding Risøyhamn - Harstad to S0, E40\n",
      "[INFO] nrkdownload.nrktv(45): Creating new Program: Ved kai i Harstad : dvfj67004211\n",
      "[DEBUG] nrkdownload.nrktv(194): Series hurtigruten-minutt-for-minutt: Adding Ved kai i Harstad to S0, E41\n",
      "[INFO] nrkdownload.nrktv(45): Creating new Program: Harstad - Finnsnes : dvfj67004311\n",
      "[DEBUG] nrkdownload.nrktv(194): Series hurtigruten-minutt-for-minutt: Adding Harstad - Finnsnes to S0, E42\n",
      "[INFO] nrkdownload.nrktv(45): Creating new Program: Ved kai i Finnsnes : dvfj67004411\n",
      "[DEBUG] nrkdownload.nrktv(194): Series hurtigruten-minutt-for-minutt: Adding Ved kai i Finnsnes to S0, E43\n",
      "[INFO] nrkdownload.nrktv(45): Creating new Program: Finnsnes-Tromsø : dvfj67004511\n",
      "[DEBUG] nrkdownload.nrktv(194): Series hurtigruten-minutt-for-minutt: Adding Finnsnes-Tromsø to S0, E44\n",
      "[INFO] nrkdownload.nrktv(45): Creating new Program: Tromsø - Skjervøy : dvfj67004711\n",
      "[DEBUG] nrkdownload.nrktv(194): Series hurtigruten-minutt-for-minutt: Adding Tromsø - Skjervøy to S0, E45\n",
      "[INFO] nrkdownload.nrktv(45): Creating new Program: Ved kai i Skjervøy : dvfj67004811\n",
      "[DEBUG] nrkdownload.nrktv(194): Series hurtigruten-minutt-for-minutt: Adding Ved kai i Skjervøy to S0, E46\n",
      "[INFO] nrkdownload.nrktv(45): Creating new Program: Skjervøy - Øksfjord : dvfj67004911\n",
      "[DEBUG] nrkdownload.nrktv(194): Series hurtigruten-minutt-for-minutt: Adding Skjervøy - Øksfjord to S0, E47\n",
      "[INFO] nrkdownload.nrktv(45): Creating new Program: Ved kai i Øksfjord : dvfj67005011\n",
      "[DEBUG] nrkdownload.nrktv(194): Series hurtigruten-minutt-for-minutt: Adding Ved kai i Øksfjord to S0, E48\n",
      "[INFO] nrkdownload.nrktv(45): Creating new Program: Øksfjord - Hammerfest : dvfj67005111\n",
      "[DEBUG] nrkdownload.nrktv(194): Series hurtigruten-minutt-for-minutt: Adding Øksfjord - Hammerfest to S0, E49\n",
      "[INFO] nrkdownload.nrktv(45): Creating new Program: Ved kai i Hammerfest : dvfj67005211\n",
      "[DEBUG] nrkdownload.nrktv(194): Series hurtigruten-minutt-for-minutt: Adding Ved kai i Hammerfest to S0, E50\n",
      "[INFO] nrkdownload.nrktv(45): Creating new Program: Hammerfest - Havøysund : dvfj67005311\n",
      "[DEBUG] nrkdownload.nrktv(194): Series hurtigruten-minutt-for-minutt: Adding Hammerfest - Havøysund to S0, E51\n",
      "[INFO] nrkdownload.nrktv(45): Creating new Program: Ved kai i Havøysund : dvfj67005411\n",
      "[DEBUG] nrkdownload.nrktv(194): Series hurtigruten-minutt-for-minutt: Adding Ved kai i Havøysund to S0, E52\n",
      "[INFO] nrkdownload.nrktv(45): Creating new Program: Havøysund - Honningsvåg : dvfj67005511\n",
      "[DEBUG] nrkdownload.nrktv(194): Series hurtigruten-minutt-for-minutt: Adding Havøysund - Honningsvåg to S0, E53\n",
      "[INFO] nrkdownload.nrktv(45): Creating new Program: Honningsvåg - Kjøllefjord : dvfj67005711\n",
      "[DEBUG] nrkdownload.nrktv(194): Series hurtigruten-minutt-for-minutt: Adding Honningsvåg - Kjøllefjord to S0, E54\n",
      "[INFO] nrkdownload.nrktv(45): Creating new Program: Ved kai i Kjøllefjord : dvfj67005811\n",
      "[DEBUG] nrkdownload.nrktv(194): Series hurtigruten-minutt-for-minutt: Adding Ved kai i Kjøllefjord to S0, E55\n",
      "[INFO] nrkdownload.nrktv(45): Creating new Program: Kjøllefjord - Mehamn : dvfj67005911\n",
      "[DEBUG] nrkdownload.nrktv(194): Series hurtigruten-minutt-for-minutt: Adding Kjøllefjord - Mehamn to S0, E56\n",
      "[INFO] nrkdownload.nrktv(45): Creating new Program: Ved kai i Mehamn : dvfj67006011\n",
      "[DEBUG] nrkdownload.nrktv(194): Series hurtigruten-minutt-for-minutt: Adding Ved kai i Mehamn to S0, E57\n",
      "[INFO] nrkdownload.nrktv(45): Creating new Program: Mehamn - Berlevåg : dvfj67006111\n",
      "[DEBUG] nrkdownload.nrktv(194): Series hurtigruten-minutt-for-minutt: Adding Mehamn - Berlevåg to S0, E58\n",
      "[INFO] nrkdownload.nrktv(45): Creating new Program: Ved kai i Berlevåg : dvfj67006211\n",
      "[DEBUG] nrkdownload.nrktv(194): Series hurtigruten-minutt-for-minutt: Adding Ved kai i Berlevåg to S0, E59\n",
      "[INFO] nrkdownload.nrktv(45): Creating new Program: Berlevåg - Båtsfjord : dvfj67006311\n",
      "[DEBUG] nrkdownload.nrktv(194): Series hurtigruten-minutt-for-minutt: Adding Berlevåg - Båtsfjord to S0, E60\n",
      "[INFO] nrkdownload.nrktv(45): Creating new Program: Ved kai i Båtsfjord : dvfj67006411\n",
      "[DEBUG] nrkdownload.nrktv(194): Series hurtigruten-minutt-for-minutt: Adding Ved kai i Båtsfjord to S0, E61\n",
      "[INFO] nrkdownload.nrktv(45): Creating new Program: Båtsfjord - Vardø : dvfj67006511\n",
      "[DEBUG] nrkdownload.nrktv(194): Series hurtigruten-minutt-for-minutt: Adding Båtsfjord - Vardø to S0, E62\n",
      "[INFO] nrkdownload.nrktv(45): Creating new Program: Ved kai i Vardø : dvfj67006611\n",
      "[DEBUG] nrkdownload.nrktv(194): Series hurtigruten-minutt-for-minutt: Adding Ved kai i Vardø to S0, E63\n",
      "[INFO] nrkdownload.nrktv(45): Creating new Program: Vardø - Vadsø : dvfj67006711\n",
      "[DEBUG] nrkdownload.nrktv(194): Series hurtigruten-minutt-for-minutt: Adding Vardø - Vadsø to S0, E64\n",
      "[INFO] nrkdownload.nrktv(45): Creating new Program: Ved kai i Vadsø : dvfj67006811\n",
      "[DEBUG] nrkdownload.nrktv(194): Series hurtigruten-minutt-for-minutt: Adding Ved kai i Vadsø to S0, E65\n",
      "[INFO] nrkdownload.nrktv(45): Creating new Program: Vadsø - Kirkenes : dvfj67006911\n",
      "[DEBUG] nrkdownload.nrktv(194): Series hurtigruten-minutt-for-minutt: Adding Vadsø - Kirkenes to S0, E66\n",
      "[INFO] nrkdownload.nrktv(45): Creating new Program: Ved kai i Kirkenes : dvfj67007311\n",
      "[DEBUG] nrkdownload.nrktv(194): Series hurtigruten-minutt-for-minutt: Adding Ved kai i Kirkenes to S0, E67\n",
      "[INFO] nrkdownload.nrktv(45): Creating new Program: Hurtigruten - ett år etter : dvfj60005012\n",
      "[DEBUG] nrkdownload.nrktv(194): Series hurtigruten-minutt-for-minutt: Adding Hurtigruten - ett år etter to S1, E0\n",
      "[DEBUG] nrkdownload.nrktv(198): In get_episodes, added 69 episodes\n"
     ]
    }
   ],
   "source": [
    "r[0].make_filename()"
   ]
  },
  {
   "cell_type": "code",
   "execution_count": null,
   "metadata": {},
   "outputs": [],
   "source": [
    "[s for s in dir(p) if not s.startswith('__')]"
   ]
  },
  {
   "cell_type": "code",
   "execution_count": null,
   "metadata": {},
   "outputs": [],
   "source": [
    "p.get_download_details()"
   ]
  },
  {
   "cell_type": "code",
   "execution_count": null,
   "metadata": {},
   "outputs": [],
   "source": [
    "p.subtitle_urls"
   ]
  },
  {
   "cell_type": "code",
   "execution_count": null,
   "metadata": {},
   "outputs": [],
   "source": [
    "result[0].episode_number_or_date"
   ]
  },
  {
   "cell_type": "code",
   "execution_count": null,
   "metadata": {},
   "outputs": [],
   "source": [
    "result[0].seasons[0].episodes[1].programId"
   ]
  },
  {
   "cell_type": "code",
   "execution_count": null,
   "metadata": {},
   "outputs": [],
   "source": [
    "nrkdownload.config.KNOWN_SERIES['skam'].get_seasons_and_episodes()"
   ]
  },
  {
   "cell_type": "code",
   "execution_count": null,
   "metadata": {},
   "outputs": [],
   "source": []
  }
 ],
 "metadata": {
  "kernelspec": {
   "display_name": "Python 3",
   "language": "python",
   "name": "python3"
  },
  "language_info": {
   "codemirror_mode": {
    "name": "ipython",
    "version": 3
   },
   "file_extension": ".py",
   "mimetype": "text/x-python",
   "name": "python",
   "nbconvert_exporter": "python",
   "pygments_lexer": "ipython3",
   "version": "3.6.5"
  },
  "toc": {
   "base_numbering": 1,
   "nav_menu": {},
   "number_sections": true,
   "sideBar": true,
   "skip_h1_title": false,
   "title_cell": "Table of Contents",
   "title_sidebar": "Contents",
   "toc_cell": false,
   "toc_position": {},
   "toc_section_display": true,
   "toc_window_display": false
  }
 },
 "nbformat": 4,
 "nbformat_minor": 2
}
