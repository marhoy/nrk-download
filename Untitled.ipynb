{
 "cells": [
  {
   "cell_type": "code",
   "execution_count": 1,
   "metadata": {},
   "outputs": [
    {
     "name": "stdout",
     "output_type": "stream",
     "text": [
      "The autoreload extension is already loaded. To reload it, use:\n",
      "  %reload_ext autoreload\n"
     ]
    }
   ],
   "source": [
    "%load_ext autoreload\n",
    "%autoreload 2"
   ]
  },
  {
   "cell_type": "code",
   "execution_count": 2,
   "metadata": {},
   "outputs": [],
   "source": [
    "import nrkdownload\n",
    "import logging\n",
    "nrkdownload.nrktv.LOG.setLevel(logging.DEBUG)"
   ]
  },
  {
   "cell_type": "markdown",
   "metadata": {},
   "source": [
    "# Search for a series"
   ]
  },
  {
   "cell_type": "code",
   "execution_count": null,
   "metadata": {},
   "outputs": [],
   "source": [
    "string = 'vestlandsrevyen'\n",
    "search_type = 'series'\n",
    "result = nrkdownload.nrktv.search(string, search_type)\n",
    "result"
   ]
  },
  {
   "cell_type": "code",
   "execution_count": null,
   "metadata": {},
   "outputs": [],
   "source": [
    "nrkdownload.nrktv.LOG.setLevel(logging.WARNING)\n",
    "for r in result:\n",
    "    print(r)\n",
    "    r.get_seasons_and_episodes()\n",
    "    for s in r.seasons:\n",
    "        print(' '*4, s, s.number)\n",
    "#         for e in s.episodes:\n",
    "#             print(' '*8, e)"
   ]
  },
  {
   "cell_type": "markdown",
   "metadata": {},
   "source": [
    "# Search for a program"
   ]
  },
  {
   "cell_type": "code",
   "execution_count": null,
   "metadata": {},
   "outputs": [],
   "source": [
    "string = 'skam'\n",
    "search_type = 'program'\n",
    "result = nrkdownload.nrktv.search(string, search_type)\n",
    "result"
   ]
  },
  {
   "cell_type": "code",
   "execution_count": 3,
   "metadata": {},
   "outputs": [
    {
     "name": "stderr",
     "output_type": "stream",
     "text": [
      "[INFO] nrkdownload.nrktv(45): Creating new Program: Bergen - Florø : dvfj67000211\n",
      "[INFO] nrkdownload.nrktv(45): Creating new Program: Måløy-Bergen (del 2) : enrk22065313\n",
      "[INFO] nrkdownload.nrktv(45): Creating new Program: Distriktsnyheter Vestlandsrevyen 04.02.2014 : dkho99020414\n"
     ]
    },
    {
     "data": {
      "text/plain": [
       "[<nrkdownload.nrktv.Program at 0x7f06f1fd5a58>,\n",
       " <nrkdownload.nrktv.Program at 0x7f06f1fd5908>,\n",
       " <nrkdownload.nrktv.Program at 0x7f06f1fd5b38>]"
      ]
     },
     "execution_count": 3,
     "metadata": {},
     "output_type": "execute_result"
    }
   ],
   "source": [
    "r = nrkdownload.nrktv.search('Herdlefjorden', 'program')\n",
    "r"
   ]
  },
  {
   "cell_type": "code",
   "execution_count": 4,
   "metadata": {},
   "outputs": [],
   "source": [
    "r[0].get_download_details()"
   ]
  },
  {
   "cell_type": "code",
   "execution_count": 5,
   "metadata": {},
   "outputs": [
    {
     "data": {
      "text/plain": [
       "['http://nordond4b-f.akamaihd.net/i/wo/open/f4/f4dc5a04a7ca5c406f5cc313d4bed5d0d87004a0/a5084291-fb0c-4a48-ba2d-6ea4f834bab7_,141,316,563,1266,2250,.mp4.csmil/master.m3u8',\n",
       " 'http://nordond10c-f.akamaihd.net/i/wo/open/fd/fd756ee8949ea417be4345697032973c6221206c/a5084291-fb0c-4a48-ba2d-6ea4f834bab7_,141,316,563,1266,2250,.mp4.csmil/master.m3u8',\n",
       " 'http://nordond25a-f.akamaihd.net/i/wo/open/32/32752abdbe87b58125d3330acf4e8e9924d97c95/a5084291-fb0c-4a48-ba2d-6ea4f834bab7_,141,316,563,1266,2250,.mp4.csmil/master.m3u8',\n",
       " 'http://nordond33c-f.akamaihd.net/i/wo/open/9d/9dd0247af7da58969085d27c515065e285e00700/9e760f0f-697a-435d-95d7-b1f5a731d14d_,141,316,563,1266,2250,.mp4.csmil/master.m3u8']"
      ]
     },
     "execution_count": 5,
     "metadata": {},
     "output_type": "execute_result"
    }
   ],
   "source": [
    "r[0].media_urls"
   ]
  },
  {
   "cell_type": "code",
   "execution_count": 7,
   "metadata": {},
   "outputs": [
    {
     "name": "stderr",
     "output_type": "stream",
     "text": [
      "[DEBUG] nrkdownload.nrktv(89): Making filename for series hurtigruten-minutt-for-minutt\n",
      "[DEBUG] nrkdownload.nrktv(171): Downloading detailed info on hurtigruten-minutt-for-minutt\n",
      "[DEBUG] nrkdownload.nrktv(180): Adding seasons to  hurtigruten-minutt-for-minutt\n",
      "[INFO] nrkdownload.nrktv(133): Creating new season: 0: 34774: 2011\n",
      "[INFO] nrkdownload.nrktv(133): Creating new season: 1: 34775: 2012\n",
      "[DEBUG] nrkdownload.nrktv(188): Adding episodes to  hurtigruten-minutt-for-minutt\n",
      "[INFO] nrkdownload.nrktv(45): Creating new Program: Ved kai i Bergen : dvfj67000111\n",
      "[DEBUG] nrkdownload.nrktv(194): Series hurtigruten-minutt-for-minutt: Adding Ved kai i Bergen to S0, E0\n",
      "[INFO] nrkdownload.nrktv(45): Creating new Program: Bergen - Florø : dvfj67000211\n",
      "[DEBUG] nrkdownload.nrktv(194): Series hurtigruten-minutt-for-minutt: Adding Bergen - Florø to S0, E1\n",
      "[INFO] nrkdownload.nrktv(45): Creating new Program: Ved kai i Florø : dvfj67000311\n",
      "[DEBUG] nrkdownload.nrktv(194): Series hurtigruten-minutt-for-minutt: Adding Ved kai i Florø to S0, E2\n",
      "[INFO] nrkdownload.nrktv(45): Creating new Program: Florø - Måløy : dvfj67000411\n",
      "[DEBUG] nrkdownload.nrktv(194): Series hurtigruten-minutt-for-minutt: Adding Florø - Måløy to S0, E3\n",
      "[INFO] nrkdownload.nrktv(45): Creating new Program: Ved kai i Måløy : dvfj67000511\n",
      "[DEBUG] nrkdownload.nrktv(194): Series hurtigruten-minutt-for-minutt: Adding Ved kai i Måløy to S0, E4\n",
      "[INFO] nrkdownload.nrktv(45): Creating new Program: Måløy - Torvik : dvfj67000611\n",
      "[DEBUG] nrkdownload.nrktv(194): Series hurtigruten-minutt-for-minutt: Adding Måløy - Torvik to S0, E5\n",
      "[INFO] nrkdownload.nrktv(45): Creating new Program: Ved kai i Torvik : dvfj67000711\n",
      "[DEBUG] nrkdownload.nrktv(194): Series hurtigruten-minutt-for-minutt: Adding Ved kai i Torvik to S0, E6\n",
      "[INFO] nrkdownload.nrktv(45): Creating new Program: Torvik - Ålesund : dvfj67000811\n",
      "[DEBUG] nrkdownload.nrktv(194): Series hurtigruten-minutt-for-minutt: Adding Torvik - Ålesund to S0, E7\n",
      "[INFO] nrkdownload.nrktv(45): Creating new Program: Ved kai i Ålesund : dvfj67000911\n",
      "[DEBUG] nrkdownload.nrktv(194): Series hurtigruten-minutt-for-minutt: Adding Ved kai i Ålesund to S0, E8\n",
      "[INFO] nrkdownload.nrktv(45): Creating new Program: Ålesund - Geiranger : dvfj67001011\n",
      "[DEBUG] nrkdownload.nrktv(194): Series hurtigruten-minutt-for-minutt: Adding Ålesund - Geiranger to S0, E9\n",
      "[INFO] nrkdownload.nrktv(45): Creating new Program: Geiranger - Ålesund : dvfj67001111\n",
      "[DEBUG] nrkdownload.nrktv(194): Series hurtigruten-minutt-for-minutt: Adding Geiranger - Ålesund to S0, E10\n",
      "[INFO] nrkdownload.nrktv(45): Creating new Program: Ved kai i Ålesund : dvfj67001211\n",
      "[DEBUG] nrkdownload.nrktv(194): Series hurtigruten-minutt-for-minutt: Adding Ved kai i Ålesund to S0, E11\n",
      "[INFO] nrkdownload.nrktv(45): Creating new Program: Ålesund - Molde : dvfj67001311\n",
      "[DEBUG] nrkdownload.nrktv(194): Series hurtigruten-minutt-for-minutt: Adding Ålesund - Molde to S0, E12\n",
      "[INFO] nrkdownload.nrktv(45): Creating new Program: Ved kai i Molde : dvfj67001411\n",
      "[DEBUG] nrkdownload.nrktv(194): Series hurtigruten-minutt-for-minutt: Adding Ved kai i Molde to S0, E13\n",
      "[INFO] nrkdownload.nrktv(45): Creating new Program: Molde - Kristiansund : dvfj67001511\n",
      "[DEBUG] nrkdownload.nrktv(194): Series hurtigruten-minutt-for-minutt: Adding Molde - Kristiansund to S0, E14\n",
      "[INFO] nrkdownload.nrktv(45): Creating new Program: Ved kai i Kristiansund : dvfj67001611\n",
      "[DEBUG] nrkdownload.nrktv(194): Series hurtigruten-minutt-for-minutt: Adding Ved kai i Kristiansund to S0, E15\n",
      "[INFO] nrkdownload.nrktv(45): Creating new Program: Kristiansund - Trondheim : dvfj67001711\n",
      "[DEBUG] nrkdownload.nrktv(194): Series hurtigruten-minutt-for-minutt: Adding Kristiansund - Trondheim to S0, E16\n",
      "[INFO] nrkdownload.nrktv(45): Creating new Program: Ved kai i Trondheim : dvfj67007011\n",
      "[DEBUG] nrkdownload.nrktv(194): Series hurtigruten-minutt-for-minutt: Adding Ved kai i Trondheim to S0, E17\n",
      "[INFO] nrkdownload.nrktv(45): Creating new Program: Trondheim - Rørvik : dvfj67001911\n",
      "[DEBUG] nrkdownload.nrktv(194): Series hurtigruten-minutt-for-minutt: Adding Trondheim - Rørvik to S0, E18\n",
      "[INFO] nrkdownload.nrktv(45): Creating new Program: Ved kai i Rørvik : dvfj67002011\n",
      "[DEBUG] nrkdownload.nrktv(194): Series hurtigruten-minutt-for-minutt: Adding Ved kai i Rørvik to S0, E19\n",
      "[INFO] nrkdownload.nrktv(45): Creating new Program: Rørvik - Brønnøysund : dvfj67002111\n",
      "[DEBUG] nrkdownload.nrktv(194): Series hurtigruten-minutt-for-minutt: Adding Rørvik - Brønnøysund to S0, E20\n",
      "[INFO] nrkdownload.nrktv(45): Creating new Program: Ved kai i Brønnøysund : dvfj67002211\n",
      "[DEBUG] nrkdownload.nrktv(194): Series hurtigruten-minutt-for-minutt: Adding Ved kai i Brønnøysund to S0, E21\n",
      "[INFO] nrkdownload.nrktv(45): Creating new Program: Brønnøysund - Sandnessjøen : dvfj67002311\n",
      "[DEBUG] nrkdownload.nrktv(194): Series hurtigruten-minutt-for-minutt: Adding Brønnøysund - Sandnessjøen to S0, E22\n",
      "[INFO] nrkdownload.nrktv(45): Creating new Program: Ved kai i Sandnessjøen : dvfj67002411\n",
      "[DEBUG] nrkdownload.nrktv(194): Series hurtigruten-minutt-for-minutt: Adding Ved kai i Sandnessjøen to S0, E23\n",
      "[INFO] nrkdownload.nrktv(45): Creating new Program: Sandnessjøen - Nesna : dvfj67002511\n",
      "[DEBUG] nrkdownload.nrktv(194): Series hurtigruten-minutt-for-minutt: Adding Sandnessjøen - Nesna to S0, E24\n",
      "[INFO] nrkdownload.nrktv(45): Creating new Program: Ved kai i Nesna : dvfj67002611\n",
      "[DEBUG] nrkdownload.nrktv(194): Series hurtigruten-minutt-for-minutt: Adding Ved kai i Nesna to S0, E25\n",
      "[INFO] nrkdownload.nrktv(45): Creating new Program: Nesna - Ørnes : dvfj67002711\n",
      "[DEBUG] nrkdownload.nrktv(194): Series hurtigruten-minutt-for-minutt: Adding Nesna - Ørnes to S0, E26\n",
      "[INFO] nrkdownload.nrktv(45): Creating new Program: Ved kai i Ørnes : dvfj67002811\n",
      "[DEBUG] nrkdownload.nrktv(194): Series hurtigruten-minutt-for-minutt: Adding Ved kai i Ørnes to S0, E27\n",
      "[INFO] nrkdownload.nrktv(45): Creating new Program: Ørnes - Bodø : dvfj67002911\n",
      "[DEBUG] nrkdownload.nrktv(194): Series hurtigruten-minutt-for-minutt: Adding Ørnes - Bodø to S0, E28\n",
      "[INFO] nrkdownload.nrktv(45): Creating new Program: Ved kai i Bodø : dvfj67003011\n",
      "[DEBUG] nrkdownload.nrktv(194): Series hurtigruten-minutt-for-minutt: Adding Ved kai i Bodø to S0, E29\n",
      "[INFO] nrkdownload.nrktv(45): Creating new Program: Bodø-Stamsund : dvfj67003111\n",
      "[DEBUG] nrkdownload.nrktv(194): Series hurtigruten-minutt-for-minutt: Adding Bodø-Stamsund to S0, E30\n",
      "[INFO] nrkdownload.nrktv(45): Creating new Program: Ved kai i Stamsund : dvfj67003211\n",
      "[DEBUG] nrkdownload.nrktv(194): Series hurtigruten-minutt-for-minutt: Adding Ved kai i Stamsund to S0, E31\n",
      "[INFO] nrkdownload.nrktv(45): Creating new Program: Stamsund - Svolvær : dvfj67003311\n",
      "[DEBUG] nrkdownload.nrktv(194): Series hurtigruten-minutt-for-minutt: Adding Stamsund - Svolvær to S0, E32\n",
      "[INFO] nrkdownload.nrktv(45): Creating new Program: Ved kai i Svolvær : dvfj67003411\n",
      "[DEBUG] nrkdownload.nrktv(194): Series hurtigruten-minutt-for-minutt: Adding Ved kai i Svolvær to S0, E33\n",
      "[INFO] nrkdownload.nrktv(45): Creating new Program: Svolvær - Stokmarknes : dvfj67003511\n",
      "[DEBUG] nrkdownload.nrktv(194): Series hurtigruten-minutt-for-minutt: Adding Svolvær - Stokmarknes to S0, E34\n",
      "[INFO] nrkdownload.nrktv(45): Creating new Program: Ved kai i Stokmarknes : dvfj67003611\n",
      "[DEBUG] nrkdownload.nrktv(194): Series hurtigruten-minutt-for-minutt: Adding Ved kai i Stokmarknes to S0, E35\n",
      "[INFO] nrkdownload.nrktv(45): Creating new Program: Stokmarknes - Sortland : dvfj67003711\n",
      "[DEBUG] nrkdownload.nrktv(194): Series hurtigruten-minutt-for-minutt: Adding Stokmarknes - Sortland to S0, E36\n",
      "[INFO] nrkdownload.nrktv(45): Creating new Program: Ved kai i Sortland : dvfj67003811\n",
      "[DEBUG] nrkdownload.nrktv(194): Series hurtigruten-minutt-for-minutt: Adding Ved kai i Sortland to S0, E37\n",
      "[INFO] nrkdownload.nrktv(45): Creating new Program: Sortland - Risøyhamn : dvfj67003911\n",
      "[DEBUG] nrkdownload.nrktv(194): Series hurtigruten-minutt-for-minutt: Adding Sortland - Risøyhamn to S0, E38\n",
      "[INFO] nrkdownload.nrktv(45): Creating new Program: Ved kai i Risøyhamn : dvfj67004011\n",
      "[DEBUG] nrkdownload.nrktv(194): Series hurtigruten-minutt-for-minutt: Adding Ved kai i Risøyhamn to S0, E39\n",
      "[INFO] nrkdownload.nrktv(45): Creating new Program: Risøyhamn - Harstad : dvfj67004111\n"
     ]
    },
    {
     "name": "stderr",
     "output_type": "stream",
     "text": [
      "[DEBUG] nrkdownload.nrktv(194): Series hurtigruten-minutt-for-minutt: Adding Risøyhamn - Harstad to S0, E40\n",
      "[INFO] nrkdownload.nrktv(45): Creating new Program: Ved kai i Harstad : dvfj67004211\n",
      "[DEBUG] nrkdownload.nrktv(194): Series hurtigruten-minutt-for-minutt: Adding Ved kai i Harstad to S0, E41\n",
      "[INFO] nrkdownload.nrktv(45): Creating new Program: Harstad - Finnsnes : dvfj67004311\n",
      "[DEBUG] nrkdownload.nrktv(194): Series hurtigruten-minutt-for-minutt: Adding Harstad - Finnsnes to S0, E42\n",
      "[INFO] nrkdownload.nrktv(45): Creating new Program: Ved kai i Finnsnes : dvfj67004411\n",
      "[DEBUG] nrkdownload.nrktv(194): Series hurtigruten-minutt-for-minutt: Adding Ved kai i Finnsnes to S0, E43\n",
      "[INFO] nrkdownload.nrktv(45): Creating new Program: Finnsnes-Tromsø : dvfj67004511\n",
      "[DEBUG] nrkdownload.nrktv(194): Series hurtigruten-minutt-for-minutt: Adding Finnsnes-Tromsø to S0, E44\n",
      "[INFO] nrkdownload.nrktv(45): Creating new Program: Tromsø - Skjervøy : dvfj67004711\n",
      "[DEBUG] nrkdownload.nrktv(194): Series hurtigruten-minutt-for-minutt: Adding Tromsø - Skjervøy to S0, E45\n",
      "[INFO] nrkdownload.nrktv(45): Creating new Program: Ved kai i Skjervøy : dvfj67004811\n",
      "[DEBUG] nrkdownload.nrktv(194): Series hurtigruten-minutt-for-minutt: Adding Ved kai i Skjervøy to S0, E46\n",
      "[INFO] nrkdownload.nrktv(45): Creating new Program: Skjervøy - Øksfjord : dvfj67004911\n",
      "[DEBUG] nrkdownload.nrktv(194): Series hurtigruten-minutt-for-minutt: Adding Skjervøy - Øksfjord to S0, E47\n",
      "[INFO] nrkdownload.nrktv(45): Creating new Program: Ved kai i Øksfjord : dvfj67005011\n",
      "[DEBUG] nrkdownload.nrktv(194): Series hurtigruten-minutt-for-minutt: Adding Ved kai i Øksfjord to S0, E48\n",
      "[INFO] nrkdownload.nrktv(45): Creating new Program: Øksfjord - Hammerfest : dvfj67005111\n",
      "[DEBUG] nrkdownload.nrktv(194): Series hurtigruten-minutt-for-minutt: Adding Øksfjord - Hammerfest to S0, E49\n",
      "[INFO] nrkdownload.nrktv(45): Creating new Program: Ved kai i Hammerfest : dvfj67005211\n",
      "[DEBUG] nrkdownload.nrktv(194): Series hurtigruten-minutt-for-minutt: Adding Ved kai i Hammerfest to S0, E50\n",
      "[INFO] nrkdownload.nrktv(45): Creating new Program: Hammerfest - Havøysund : dvfj67005311\n",
      "[DEBUG] nrkdownload.nrktv(194): Series hurtigruten-minutt-for-minutt: Adding Hammerfest - Havøysund to S0, E51\n",
      "[INFO] nrkdownload.nrktv(45): Creating new Program: Ved kai i Havøysund : dvfj67005411\n",
      "[DEBUG] nrkdownload.nrktv(194): Series hurtigruten-minutt-for-minutt: Adding Ved kai i Havøysund to S0, E52\n",
      "[INFO] nrkdownload.nrktv(45): Creating new Program: Havøysund - Honningsvåg : dvfj67005511\n",
      "[DEBUG] nrkdownload.nrktv(194): Series hurtigruten-minutt-for-minutt: Adding Havøysund - Honningsvåg to S0, E53\n",
      "[INFO] nrkdownload.nrktv(45): Creating new Program: Honningsvåg - Kjøllefjord : dvfj67005711\n",
      "[DEBUG] nrkdownload.nrktv(194): Series hurtigruten-minutt-for-minutt: Adding Honningsvåg - Kjøllefjord to S0, E54\n",
      "[INFO] nrkdownload.nrktv(45): Creating new Program: Ved kai i Kjøllefjord : dvfj67005811\n",
      "[DEBUG] nrkdownload.nrktv(194): Series hurtigruten-minutt-for-minutt: Adding Ved kai i Kjøllefjord to S0, E55\n",
      "[INFO] nrkdownload.nrktv(45): Creating new Program: Kjøllefjord - Mehamn : dvfj67005911\n",
      "[DEBUG] nrkdownload.nrktv(194): Series hurtigruten-minutt-for-minutt: Adding Kjøllefjord - Mehamn to S0, E56\n",
      "[INFO] nrkdownload.nrktv(45): Creating new Program: Ved kai i Mehamn : dvfj67006011\n",
      "[DEBUG] nrkdownload.nrktv(194): Series hurtigruten-minutt-for-minutt: Adding Ved kai i Mehamn to S0, E57\n",
      "[INFO] nrkdownload.nrktv(45): Creating new Program: Mehamn - Berlevåg : dvfj67006111\n",
      "[DEBUG] nrkdownload.nrktv(194): Series hurtigruten-minutt-for-minutt: Adding Mehamn - Berlevåg to S0, E58\n",
      "[INFO] nrkdownload.nrktv(45): Creating new Program: Ved kai i Berlevåg : dvfj67006211\n",
      "[DEBUG] nrkdownload.nrktv(194): Series hurtigruten-minutt-for-minutt: Adding Ved kai i Berlevåg to S0, E59\n",
      "[INFO] nrkdownload.nrktv(45): Creating new Program: Berlevåg - Båtsfjord : dvfj67006311\n",
      "[DEBUG] nrkdownload.nrktv(194): Series hurtigruten-minutt-for-minutt: Adding Berlevåg - Båtsfjord to S0, E60\n",
      "[INFO] nrkdownload.nrktv(45): Creating new Program: Ved kai i Båtsfjord : dvfj67006411\n",
      "[DEBUG] nrkdownload.nrktv(194): Series hurtigruten-minutt-for-minutt: Adding Ved kai i Båtsfjord to S0, E61\n",
      "[INFO] nrkdownload.nrktv(45): Creating new Program: Båtsfjord - Vardø : dvfj67006511\n",
      "[DEBUG] nrkdownload.nrktv(194): Series hurtigruten-minutt-for-minutt: Adding Båtsfjord - Vardø to S0, E62\n",
      "[INFO] nrkdownload.nrktv(45): Creating new Program: Ved kai i Vardø : dvfj67006611\n",
      "[DEBUG] nrkdownload.nrktv(194): Series hurtigruten-minutt-for-minutt: Adding Ved kai i Vardø to S0, E63\n",
      "[INFO] nrkdownload.nrktv(45): Creating new Program: Vardø - Vadsø : dvfj67006711\n",
      "[DEBUG] nrkdownload.nrktv(194): Series hurtigruten-minutt-for-minutt: Adding Vardø - Vadsø to S0, E64\n",
      "[INFO] nrkdownload.nrktv(45): Creating new Program: Ved kai i Vadsø : dvfj67006811\n",
      "[DEBUG] nrkdownload.nrktv(194): Series hurtigruten-minutt-for-minutt: Adding Ved kai i Vadsø to S0, E65\n",
      "[INFO] nrkdownload.nrktv(45): Creating new Program: Vadsø - Kirkenes : dvfj67006911\n",
      "[DEBUG] nrkdownload.nrktv(194): Series hurtigruten-minutt-for-minutt: Adding Vadsø - Kirkenes to S0, E66\n",
      "[INFO] nrkdownload.nrktv(45): Creating new Program: Ved kai i Kirkenes : dvfj67007311\n",
      "[DEBUG] nrkdownload.nrktv(194): Series hurtigruten-minutt-for-minutt: Adding Ved kai i Kirkenes to S0, E67\n",
      "[INFO] nrkdownload.nrktv(45): Creating new Program: Hurtigruten - ett år etter : dvfj60005012\n",
      "[DEBUG] nrkdownload.nrktv(194): Series hurtigruten-minutt-for-minutt: Adding Hurtigruten - ett år etter to S1, E0\n",
      "[DEBUG] nrkdownload.nrktv(198): In get_episodes, added 69 episodes\n"
     ]
    }
   ],
   "source": [
    "r[0].make_filename()"
   ]
  },
  {
   "cell_type": "code",
   "execution_count": 9,
   "metadata": {},
   "outputs": [],
   "source": [
    "s = nrkdownload.nrktv.series_from_series_id('tidenes-sommer')"
   ]
  },
  {
   "cell_type": "code",
   "execution_count": 11,
   "metadata": {},
   "outputs": [
    {
     "name": "stderr",
     "output_type": "stream",
     "text": [
      "[DEBUG] nrkdownload.nrktv(171): Downloading detailed info on tidenes-sommer\n",
      "[DEBUG] nrkdownload.nrktv(180): Adding seasons to  tidenes-sommer\n",
      "[INFO] nrkdownload.nrktv(133): Creating new season: 0: 65058: Juni 2015\n",
      "[INFO] nrkdownload.nrktv(133): Creating new season: 1: 65059: Juli 2015\n",
      "[INFO] nrkdownload.nrktv(133): Creating new season: 2: 65896: August 2015\n",
      "[INFO] nrkdownload.nrktv(133): Creating new season: 3: 82174: Juli 2016\n",
      "[INFO] nrkdownload.nrktv(133): Creating new season: 4: 82909: August 2016\n",
      "[INFO] nrkdownload.nrktv(133): Creating new season: 5: 94898: Juni 2017\n",
      "[INFO] nrkdownload.nrktv(133): Creating new season: 6: 94899: Juli 2017\n",
      "[INFO] nrkdownload.nrktv(133): Creating new season: 7: 94900: August 2017\n",
      "[INFO] nrkdownload.nrktv(133): Creating new season: 8: 112316: Juni 2018\n",
      "[INFO] nrkdownload.nrktv(133): Creating new season: 9: 112317: Juli 2018\n",
      "[INFO] nrkdownload.nrktv(133): Creating new season: 10: 112318: August 2018\n",
      "[DEBUG] nrkdownload.nrktv(188): Adding episodes to  tidenes-sommer\n",
      "[INFO] nrkdownload.nrktv(45): Creating new Program: Tidenes Sommer : muhr57000115\n",
      "[DEBUG] nrkdownload.nrktv(194): Series tidenes-sommer: Adding Tidenes Sommer to S0, E0\n",
      "[INFO] nrkdownload.nrktv(45): Creating new Program: Tidenes Sommer : muhr57000215\n",
      "[DEBUG] nrkdownload.nrktv(194): Series tidenes-sommer: Adding Tidenes Sommer to S0, E1\n",
      "[INFO] nrkdownload.nrktv(45): Creating new Program: Tidenes Sommer : muhr57000315\n",
      "[DEBUG] nrkdownload.nrktv(194): Series tidenes-sommer: Adding Tidenes Sommer to S1, E0\n",
      "[INFO] nrkdownload.nrktv(45): Creating new Program: Tidenes Sommer : muhr57000415\n",
      "[DEBUG] nrkdownload.nrktv(194): Series tidenes-sommer: Adding Tidenes Sommer to S1, E1\n",
      "[INFO] nrkdownload.nrktv(45): Creating new Program: Tidenes Sommer : muhr57000515\n",
      "[DEBUG] nrkdownload.nrktv(194): Series tidenes-sommer: Adding Tidenes Sommer to S1, E2\n",
      "[INFO] nrkdownload.nrktv(45): Creating new Program: Det beste fra Tidenes Morgen : muhr57003615\n",
      "[DEBUG] nrkdownload.nrktv(194): Series tidenes-sommer: Adding Det beste fra Tidenes Morgen to S1, E3\n",
      "[INFO] nrkdownload.nrktv(45): Creating new Program: Tidenes Sommer : muhr57000615\n",
      "[DEBUG] nrkdownload.nrktv(194): Series tidenes-sommer: Adding Tidenes Sommer to S1, E4\n",
      "[INFO] nrkdownload.nrktv(45): Creating new Program: Tidenes Sommer : muhr57000715\n",
      "[DEBUG] nrkdownload.nrktv(194): Series tidenes-sommer: Adding Tidenes Sommer to S1, E5\n",
      "[INFO] nrkdownload.nrktv(45): Creating new Program: Tidenes Sommer : muhr57000815\n",
      "[DEBUG] nrkdownload.nrktv(194): Series tidenes-sommer: Adding Tidenes Sommer to S1, E6\n",
      "[INFO] nrkdownload.nrktv(45): Creating new Program: Tidenes Sommer : muhr57000915\n",
      "[DEBUG] nrkdownload.nrktv(194): Series tidenes-sommer: Adding Tidenes Sommer to S1, E7\n",
      "[INFO] nrkdownload.nrktv(45): Creating new Program: Tidenes Sommer : muhr57001015\n",
      "[DEBUG] nrkdownload.nrktv(194): Series tidenes-sommer: Adding Tidenes Sommer to S1, E8\n",
      "[INFO] nrkdownload.nrktv(45): Creating new Program: Tidenes Sommer : muhr57001115\n",
      "[DEBUG] nrkdownload.nrktv(194): Series tidenes-sommer: Adding Tidenes Sommer to S1, E9\n",
      "[INFO] nrkdownload.nrktv(45): Creating new Program: Tidenes Sommer : muhr57001215\n",
      "[DEBUG] nrkdownload.nrktv(194): Series tidenes-sommer: Adding Tidenes Sommer to S1, E10\n",
      "[INFO] nrkdownload.nrktv(45): Creating new Program: Tidenes Sommer : muhr57001315\n",
      "[DEBUG] nrkdownload.nrktv(194): Series tidenes-sommer: Adding Tidenes Sommer to S1, E11\n",
      "[INFO] nrkdownload.nrktv(45): Creating new Program: Tidenes Sommer : muhr57001415\n",
      "[DEBUG] nrkdownload.nrktv(194): Series tidenes-sommer: Adding Tidenes Sommer to S1, E12\n",
      "[INFO] nrkdownload.nrktv(45): Creating new Program: Tidenes Sommer : muhr57001515\n",
      "[DEBUG] nrkdownload.nrktv(194): Series tidenes-sommer: Adding Tidenes Sommer to S1, E13\n",
      "[INFO] nrkdownload.nrktv(45): Creating new Program: Tidenes Sommer : muhr57001615\n",
      "[DEBUG] nrkdownload.nrktv(194): Series tidenes-sommer: Adding Tidenes Sommer to S1, E14\n",
      "[INFO] nrkdownload.nrktv(45): Creating new Program: Tidenes Sommer : muhr57001715\n",
      "[DEBUG] nrkdownload.nrktv(194): Series tidenes-sommer: Adding Tidenes Sommer to S1, E15\n",
      "[INFO] nrkdownload.nrktv(45): Creating new Program: Tidenes Sommer : muhr57001815\n",
      "[DEBUG] nrkdownload.nrktv(194): Series tidenes-sommer: Adding Tidenes Sommer to S1, E16\n",
      "[INFO] nrkdownload.nrktv(45): Creating new Program: Tidenes Sommer : muhr57001915\n",
      "[DEBUG] nrkdownload.nrktv(194): Series tidenes-sommer: Adding Tidenes Sommer to S1, E17\n",
      "[INFO] nrkdownload.nrktv(45): Creating new Program: Tidenes Sommer : muhr57002015\n",
      "[DEBUG] nrkdownload.nrktv(194): Series tidenes-sommer: Adding Tidenes Sommer to S1, E18\n",
      "[INFO] nrkdownload.nrktv(45): Creating new Program: Tidenes Sommer : muhr57002115\n",
      "[DEBUG] nrkdownload.nrktv(194): Series tidenes-sommer: Adding Tidenes Sommer to S1, E19\n",
      "[INFO] nrkdownload.nrktv(45): Creating new Program: Tidenes Sommer : muhr57002215\n",
      "[DEBUG] nrkdownload.nrktv(194): Series tidenes-sommer: Adding Tidenes Sommer to S1, E20\n",
      "[INFO] nrkdownload.nrktv(45): Creating new Program: Tidenes Sommer : muhr57002315\n",
      "[DEBUG] nrkdownload.nrktv(194): Series tidenes-sommer: Adding Tidenes Sommer to S1, E21\n",
      "[INFO] nrkdownload.nrktv(45): Creating new Program: Tidenes Sommer : muhr57002415\n",
      "[DEBUG] nrkdownload.nrktv(194): Series tidenes-sommer: Adding Tidenes Sommer to S1, E22\n",
      "[INFO] nrkdownload.nrktv(45): Creating new Program: Tidenes Sommer : muhr57002515\n",
      "[DEBUG] nrkdownload.nrktv(194): Series tidenes-sommer: Adding Tidenes Sommer to S1, E23\n",
      "[INFO] nrkdownload.nrktv(45): Creating new Program: Tidenes Sommer : muhr57002615\n",
      "[DEBUG] nrkdownload.nrktv(194): Series tidenes-sommer: Adding Tidenes Sommer to S2, E0\n",
      "[INFO] nrkdownload.nrktv(45): Creating new Program: Tidenes Sommer : muhr57002715\n",
      "[DEBUG] nrkdownload.nrktv(194): Series tidenes-sommer: Adding Tidenes Sommer to S2, E1\n",
      "[INFO] nrkdownload.nrktv(45): Creating new Program: Tidenes Sommer : muhr57002815\n",
      "[DEBUG] nrkdownload.nrktv(194): Series tidenes-sommer: Adding Tidenes Sommer to S2, E2\n",
      "[INFO] nrkdownload.nrktv(45): Creating new Program: Tidenes Sommer : muhr57002915\n",
      "[DEBUG] nrkdownload.nrktv(194): Series tidenes-sommer: Adding Tidenes Sommer to S2, E3\n",
      "[INFO] nrkdownload.nrktv(45): Creating new Program: Tidenes Sommer : muhr57003015\n",
      "[DEBUG] nrkdownload.nrktv(194): Series tidenes-sommer: Adding Tidenes Sommer to S2, E4\n",
      "[INFO] nrkdownload.nrktv(45): Creating new Program: Tidenes Sommer : muhr57003115\n",
      "[DEBUG] nrkdownload.nrktv(194): Series tidenes-sommer: Adding Tidenes Sommer to S2, E5\n",
      "[INFO] nrkdownload.nrktv(45): Creating new Program: Tidenes Sommer : muhr57003215\n",
      "[DEBUG] nrkdownload.nrktv(194): Series tidenes-sommer: Adding Tidenes Sommer to S2, E6\n",
      "[INFO] nrkdownload.nrktv(45): Creating new Program: Tidenes Sommer : muhr57003315\n",
      "[DEBUG] nrkdownload.nrktv(194): Series tidenes-sommer: Adding Tidenes Sommer to S2, E7\n",
      "[INFO] nrkdownload.nrktv(45): Creating new Program: Tidenes Sommer : muhr57003415\n",
      "[DEBUG] nrkdownload.nrktv(194): Series tidenes-sommer: Adding Tidenes Sommer to S2, E8\n",
      "[INFO] nrkdownload.nrktv(45): Creating new Program: Tidenes Sommer : muhr57003515\n",
      "[DEBUG] nrkdownload.nrktv(194): Series tidenes-sommer: Adding Tidenes Sommer to S2, E9\n",
      "[INFO] nrkdownload.nrktv(45): Creating new Program: Tidenes Sommer : muhr57000116\n",
      "[DEBUG] nrkdownload.nrktv(194): Series tidenes-sommer: Adding Tidenes Sommer to S3, E0\n",
      "[INFO] nrkdownload.nrktv(45): Creating new Program: Tidenes Sommer : muhr57000216\n",
      "[DEBUG] nrkdownload.nrktv(194): Series tidenes-sommer: Adding Tidenes Sommer to S3, E1\n",
      "[INFO] nrkdownload.nrktv(45): Creating new Program: Tidenes Sommer : muhr57000316\n",
      "[DEBUG] nrkdownload.nrktv(194): Series tidenes-sommer: Adding Tidenes Sommer to S3, E2\n",
      "[INFO] nrkdownload.nrktv(45): Creating new Program: Tidenes Sommer : muhr57000416\n",
      "[DEBUG] nrkdownload.nrktv(194): Series tidenes-sommer: Adding Tidenes Sommer to S3, E3\n",
      "[INFO] nrkdownload.nrktv(45): Creating new Program: Tidenes Sommer : muhr57000516\n",
      "[DEBUG] nrkdownload.nrktv(194): Series tidenes-sommer: Adding Tidenes Sommer to S3, E4\n",
      "[INFO] nrkdownload.nrktv(45): Creating new Program: Tidenes Sommer : muhr57000616\n",
      "[DEBUG] nrkdownload.nrktv(194): Series tidenes-sommer: Adding Tidenes Sommer to S3, E5\n",
      "[INFO] nrkdownload.nrktv(45): Creating new Program: Tidenes Sommer : muhr57000716\n"
     ]
    },
    {
     "name": "stderr",
     "output_type": "stream",
     "text": [
      "[DEBUG] nrkdownload.nrktv(194): Series tidenes-sommer: Adding Tidenes Sommer to S3, E6\n",
      "[INFO] nrkdownload.nrktv(45): Creating new Program: Tidenes Sommer : muhr57000816\n",
      "[DEBUG] nrkdownload.nrktv(194): Series tidenes-sommer: Adding Tidenes Sommer to S3, E7\n",
      "[INFO] nrkdownload.nrktv(45): Creating new Program: Tidenes Sommer : muhr57000916\n",
      "[DEBUG] nrkdownload.nrktv(194): Series tidenes-sommer: Adding Tidenes Sommer to S3, E8\n",
      "[INFO] nrkdownload.nrktv(45): Creating new Program: Tidenes Sommer : muhr57001016\n",
      "[DEBUG] nrkdownload.nrktv(194): Series tidenes-sommer: Adding Tidenes Sommer to S3, E9\n",
      "[INFO] nrkdownload.nrktv(45): Creating new Program: Tidenes Sommer : muhr57001116\n",
      "[DEBUG] nrkdownload.nrktv(194): Series tidenes-sommer: Adding Tidenes Sommer to S3, E10\n",
      "[INFO] nrkdownload.nrktv(45): Creating new Program: Tidenes Sommer : muhr57001216\n",
      "[DEBUG] nrkdownload.nrktv(194): Series tidenes-sommer: Adding Tidenes Sommer to S3, E11\n",
      "[INFO] nrkdownload.nrktv(45): Creating new Program: Tidenes Sommer : muhr57001316\n",
      "[DEBUG] nrkdownload.nrktv(194): Series tidenes-sommer: Adding Tidenes Sommer to S3, E12\n",
      "[INFO] nrkdownload.nrktv(45): Creating new Program: Tidenes Sommer : muhr57001416\n",
      "[DEBUG] nrkdownload.nrktv(194): Series tidenes-sommer: Adding Tidenes Sommer to S3, E13\n",
      "[INFO] nrkdownload.nrktv(45): Creating new Program: Tidenes Sommer : muhr57001516\n",
      "[DEBUG] nrkdownload.nrktv(194): Series tidenes-sommer: Adding Tidenes Sommer to S3, E14\n",
      "[INFO] nrkdownload.nrktv(45): Creating new Program: Tidenes Sommer : muhr57001616\n",
      "[DEBUG] nrkdownload.nrktv(194): Series tidenes-sommer: Adding Tidenes Sommer to S3, E15\n",
      "[INFO] nrkdownload.nrktv(45): Creating new Program: Tidenes Sommer : muhr57001716\n",
      "[DEBUG] nrkdownload.nrktv(194): Series tidenes-sommer: Adding Tidenes Sommer to S3, E16\n",
      "[INFO] nrkdownload.nrktv(45): Creating new Program: Tidenes Sommer : muhr57001816\n",
      "[DEBUG] nrkdownload.nrktv(194): Series tidenes-sommer: Adding Tidenes Sommer to S3, E17\n",
      "[INFO] nrkdownload.nrktv(45): Creating new Program: Tidenes Sommer : muhr57001916\n",
      "[DEBUG] nrkdownload.nrktv(194): Series tidenes-sommer: Adding Tidenes Sommer to S3, E18\n",
      "[INFO] nrkdownload.nrktv(45): Creating new Program: Tidenes Sommer : muhr57002016\n",
      "[DEBUG] nrkdownload.nrktv(194): Series tidenes-sommer: Adding Tidenes Sommer to S3, E19\n",
      "[INFO] nrkdownload.nrktv(45): Creating new Program: Tidenes Sommer : muhr57002116\n",
      "[DEBUG] nrkdownload.nrktv(194): Series tidenes-sommer: Adding Tidenes Sommer to S4, E0\n",
      "[INFO] nrkdownload.nrktv(45): Creating new Program: Tidenes Sommer : muhr57002216\n",
      "[DEBUG] nrkdownload.nrktv(194): Series tidenes-sommer: Adding Tidenes Sommer to S4, E1\n",
      "[INFO] nrkdownload.nrktv(45): Creating new Program: Tidenes Sommer : muhr57002316\n",
      "[DEBUG] nrkdownload.nrktv(194): Series tidenes-sommer: Adding Tidenes Sommer to S4, E2\n",
      "[INFO] nrkdownload.nrktv(45): Creating new Program: Tidenes Sommer : muhr57002416\n",
      "[DEBUG] nrkdownload.nrktv(194): Series tidenes-sommer: Adding Tidenes Sommer to S4, E3\n",
      "[INFO] nrkdownload.nrktv(45): Creating new Program: Tidenes Sommer : muhr57002516\n",
      "[DEBUG] nrkdownload.nrktv(194): Series tidenes-sommer: Adding Tidenes Sommer to S4, E4\n",
      "[INFO] nrkdownload.nrktv(45): Creating new Program: Tidenes Sommer : muhr57002616\n",
      "[DEBUG] nrkdownload.nrktv(194): Series tidenes-sommer: Adding Tidenes Sommer to S4, E5\n",
      "[INFO] nrkdownload.nrktv(45): Creating new Program: Tidenes Sommer : muhr57002716\n",
      "[DEBUG] nrkdownload.nrktv(194): Series tidenes-sommer: Adding Tidenes Sommer to S4, E6\n",
      "[INFO] nrkdownload.nrktv(45): Creating new Program: Tidenes Sommer : muhr57002816\n",
      "[DEBUG] nrkdownload.nrktv(194): Series tidenes-sommer: Adding Tidenes Sommer to S4, E7\n",
      "[INFO] nrkdownload.nrktv(45): Creating new Program: Tidenes Sommer : muhr57002916\n",
      "[DEBUG] nrkdownload.nrktv(194): Series tidenes-sommer: Adding Tidenes Sommer to S4, E8\n",
      "[INFO] nrkdownload.nrktv(45): Creating new Program: Tidenes Sommer : muhr57003016\n",
      "[DEBUG] nrkdownload.nrktv(194): Series tidenes-sommer: Adding Tidenes Sommer to S4, E9\n",
      "[INFO] nrkdownload.nrktv(45): Creating new Program: Tidenes Sommer : muhr57003116\n",
      "[DEBUG] nrkdownload.nrktv(194): Series tidenes-sommer: Adding Tidenes Sommer to S4, E10\n",
      "[INFO] nrkdownload.nrktv(45): Creating new Program: Tidenes Sommer : muhr57003216\n",
      "[DEBUG] nrkdownload.nrktv(194): Series tidenes-sommer: Adding Tidenes Sommer to S4, E11\n",
      "[INFO] nrkdownload.nrktv(45): Creating new Program: Tidenes Sommer : muhr57003316\n",
      "[DEBUG] nrkdownload.nrktv(194): Series tidenes-sommer: Adding Tidenes Sommer to S4, E12\n",
      "[INFO] nrkdownload.nrktv(45): Creating new Program: Tidenes Sommer : muhr57003416\n",
      "[DEBUG] nrkdownload.nrktv(194): Series tidenes-sommer: Adding Tidenes Sommer to S4, E13\n",
      "[INFO] nrkdownload.nrktv(45): Creating new Program: Tidenes Sommer : muhr57003516\n",
      "[DEBUG] nrkdownload.nrktv(194): Series tidenes-sommer: Adding Tidenes Sommer to S4, E14\n",
      "[INFO] nrkdownload.nrktv(45): Creating new Program: Tidenes Sommer : muhr57000117\n",
      "[DEBUG] nrkdownload.nrktv(194): Series tidenes-sommer: Adding Tidenes Sommer to S5, E0\n",
      "[INFO] nrkdownload.nrktv(45): Creating new Program: Tidenes Sommer : muhr57000217\n",
      "[DEBUG] nrkdownload.nrktv(194): Series tidenes-sommer: Adding Tidenes Sommer to S5, E1\n",
      "[INFO] nrkdownload.nrktv(45): Creating new Program: Tidenes Sommer : muhr57000317\n",
      "[DEBUG] nrkdownload.nrktv(194): Series tidenes-sommer: Adding Tidenes Sommer to S5, E2\n",
      "[INFO] nrkdownload.nrktv(45): Creating new Program: Tidenes Sommer : muhr57000417\n",
      "[DEBUG] nrkdownload.nrktv(194): Series tidenes-sommer: Adding Tidenes Sommer to S5, E3\n",
      "[INFO] nrkdownload.nrktv(45): Creating new Program: Tidenes Sommer : muhr57000517\n",
      "[DEBUG] nrkdownload.nrktv(194): Series tidenes-sommer: Adding Tidenes Sommer to S5, E4\n",
      "[INFO] nrkdownload.nrktv(45): Creating new Program: Tidenes Sommer : muhr57000617\n",
      "[DEBUG] nrkdownload.nrktv(194): Series tidenes-sommer: Adding Tidenes Sommer to S6, E0\n",
      "[INFO] nrkdownload.nrktv(45): Creating new Program: Tidenes Sommer : muhr57000717\n",
      "[DEBUG] nrkdownload.nrktv(194): Series tidenes-sommer: Adding Tidenes Sommer to S6, E1\n",
      "[INFO] nrkdownload.nrktv(45): Creating new Program: Tidenes Sommer : muhr57000817\n",
      "[DEBUG] nrkdownload.nrktv(194): Series tidenes-sommer: Adding Tidenes Sommer to S6, E2\n",
      "[INFO] nrkdownload.nrktv(45): Creating new Program: Tidenes Sommer : muhr57000917\n",
      "[DEBUG] nrkdownload.nrktv(194): Series tidenes-sommer: Adding Tidenes Sommer to S6, E3\n",
      "[INFO] nrkdownload.nrktv(45): Creating new Program: Tidenes Sommer : muhr57001017\n",
      "[DEBUG] nrkdownload.nrktv(194): Series tidenes-sommer: Adding Tidenes Sommer to S6, E4\n",
      "[INFO] nrkdownload.nrktv(45): Creating new Program: Tidenes Sommer : muhr57001117\n",
      "[DEBUG] nrkdownload.nrktv(194): Series tidenes-sommer: Adding Tidenes Sommer to S6, E5\n",
      "[INFO] nrkdownload.nrktv(45): Creating new Program: Tidenes Sommer : muhr57001217\n",
      "[DEBUG] nrkdownload.nrktv(194): Series tidenes-sommer: Adding Tidenes Sommer to S6, E6\n",
      "[INFO] nrkdownload.nrktv(45): Creating new Program: Tidenes Sommer : muhr57001317\n",
      "[DEBUG] nrkdownload.nrktv(194): Series tidenes-sommer: Adding Tidenes Sommer to S6, E7\n",
      "[INFO] nrkdownload.nrktv(45): Creating new Program: Tidenes Sommer : muhr57001417\n",
      "[DEBUG] nrkdownload.nrktv(194): Series tidenes-sommer: Adding Tidenes Sommer to S6, E8\n",
      "[INFO] nrkdownload.nrktv(45): Creating new Program: Tidenes Sommer : muhr57001517\n",
      "[DEBUG] nrkdownload.nrktv(194): Series tidenes-sommer: Adding Tidenes Sommer to S6, E9\n",
      "[INFO] nrkdownload.nrktv(45): Creating new Program: Tidenes Sommer : muhr57001617\n",
      "[DEBUG] nrkdownload.nrktv(194): Series tidenes-sommer: Adding Tidenes Sommer to S6, E10\n",
      "[INFO] nrkdownload.nrktv(45): Creating new Program: Tidenes Sommer : muhr57001717\n",
      "[DEBUG] nrkdownload.nrktv(194): Series tidenes-sommer: Adding Tidenes Sommer to S6, E11\n",
      "[INFO] nrkdownload.nrktv(45): Creating new Program: Tidenes Sommer : muhr57001817\n",
      "[DEBUG] nrkdownload.nrktv(194): Series tidenes-sommer: Adding Tidenes Sommer to S6, E12\n",
      "[INFO] nrkdownload.nrktv(45): Creating new Program: Tidenes Sommer : muhr57001917\n",
      "[DEBUG] nrkdownload.nrktv(194): Series tidenes-sommer: Adding Tidenes Sommer to S6, E13\n",
      "[INFO] nrkdownload.nrktv(45): Creating new Program: Tidenes Sommer : muhr57002017\n",
      "[DEBUG] nrkdownload.nrktv(194): Series tidenes-sommer: Adding Tidenes Sommer to S6, E14\n"
     ]
    },
    {
     "name": "stderr",
     "output_type": "stream",
     "text": [
      "[INFO] nrkdownload.nrktv(45): Creating new Program: Tidenes Sommer : muhr57002117\n",
      "[DEBUG] nrkdownload.nrktv(194): Series tidenes-sommer: Adding Tidenes Sommer to S6, E15\n",
      "[INFO] nrkdownload.nrktv(45): Creating new Program: Tidenes Sommer : muhr57002217\n",
      "[DEBUG] nrkdownload.nrktv(194): Series tidenes-sommer: Adding Tidenes Sommer to S6, E16\n",
      "[INFO] nrkdownload.nrktv(45): Creating new Program: Tidenes Sommer : muhr57002317\n",
      "[DEBUG] nrkdownload.nrktv(194): Series tidenes-sommer: Adding Tidenes Sommer to S6, E17\n",
      "[INFO] nrkdownload.nrktv(45): Creating new Program: Tidenes Sommer : muhr57002417\n",
      "[DEBUG] nrkdownload.nrktv(194): Series tidenes-sommer: Adding Tidenes Sommer to S6, E18\n",
      "[INFO] nrkdownload.nrktv(45): Creating new Program: Tidenes Sommer : muhr57002517\n",
      "[DEBUG] nrkdownload.nrktv(194): Series tidenes-sommer: Adding Tidenes Sommer to S6, E19\n",
      "[INFO] nrkdownload.nrktv(45): Creating new Program: Tidenes Sommer : muhr57002617\n",
      "[DEBUG] nrkdownload.nrktv(194): Series tidenes-sommer: Adding Tidenes Sommer to S6, E20\n",
      "[INFO] nrkdownload.nrktv(45): Creating new Program: Tidenes Sommer : muhr57002717\n",
      "[DEBUG] nrkdownload.nrktv(194): Series tidenes-sommer: Adding Tidenes Sommer to S7, E0\n",
      "[INFO] nrkdownload.nrktv(45): Creating new Program: Tidenes Sommer : muhr57002817\n",
      "[DEBUG] nrkdownload.nrktv(194): Series tidenes-sommer: Adding Tidenes Sommer to S7, E1\n",
      "[INFO] nrkdownload.nrktv(45): Creating new Program: Tidenes Sommer : muhr57002917\n",
      "[DEBUG] nrkdownload.nrktv(194): Series tidenes-sommer: Adding Tidenes Sommer to S7, E2\n",
      "[INFO] nrkdownload.nrktv(45): Creating new Program: Tidenes Sommer : muhr57003017\n",
      "[DEBUG] nrkdownload.nrktv(194): Series tidenes-sommer: Adding Tidenes Sommer to S7, E3\n",
      "[INFO] nrkdownload.nrktv(45): Creating new Program: Tidenes Sommer : muhr57003117\n",
      "[DEBUG] nrkdownload.nrktv(194): Series tidenes-sommer: Adding Tidenes Sommer to S7, E4\n",
      "[INFO] nrkdownload.nrktv(45): Creating new Program: Tidenes Sommer : muhr57003217\n",
      "[DEBUG] nrkdownload.nrktv(194): Series tidenes-sommer: Adding Tidenes Sommer to S7, E5\n",
      "[INFO] nrkdownload.nrktv(45): Creating new Program: Tidenes Sommer : muhr57003317\n",
      "[DEBUG] nrkdownload.nrktv(194): Series tidenes-sommer: Adding Tidenes Sommer to S7, E6\n",
      "[INFO] nrkdownload.nrktv(45): Creating new Program: Tidenes Sommer : muhr57003417\n",
      "[DEBUG] nrkdownload.nrktv(194): Series tidenes-sommer: Adding Tidenes Sommer to S7, E7\n",
      "[INFO] nrkdownload.nrktv(45): Creating new Program: Tidenes Sommer : muhr57003517\n",
      "[DEBUG] nrkdownload.nrktv(194): Series tidenes-sommer: Adding Tidenes Sommer to S7, E8\n",
      "[INFO] nrkdownload.nrktv(45): Creating new Program: Tidenes Sommer : muhr57003617\n",
      "[DEBUG] nrkdownload.nrktv(194): Series tidenes-sommer: Adding Tidenes Sommer to S7, E9\n",
      "[INFO] nrkdownload.nrktv(45): Creating new Program: Tidenes Sommer : muhr57003717\n",
      "[DEBUG] nrkdownload.nrktv(194): Series tidenes-sommer: Adding Tidenes Sommer to S7, E10\n",
      "[INFO] nrkdownload.nrktv(45): Creating new Program: Tidenes Sommer : muhr57003817\n",
      "[DEBUG] nrkdownload.nrktv(194): Series tidenes-sommer: Adding Tidenes Sommer to S7, E11\n",
      "[INFO] nrkdownload.nrktv(45): Creating new Program: Tidenes Sommer : muhr57003917\n",
      "[DEBUG] nrkdownload.nrktv(194): Series tidenes-sommer: Adding Tidenes Sommer to S7, E12\n",
      "[INFO] nrkdownload.nrktv(45): Creating new Program: Tidenes Sommer : muhr57004017\n",
      "[DEBUG] nrkdownload.nrktv(194): Series tidenes-sommer: Adding Tidenes Sommer to S7, E13\n",
      "[INFO] nrkdownload.nrktv(45): Creating new Program: Tidenes Sommer : muhr57000118\n",
      "[DEBUG] nrkdownload.nrktv(194): Series tidenes-sommer: Adding Tidenes Sommer to S8, E0\n",
      "[INFO] nrkdownload.nrktv(45): Creating new Program: Tidenes Sommer : muhr57000218\n",
      "[DEBUG] nrkdownload.nrktv(194): Series tidenes-sommer: Adding Tidenes Sommer to S8, E1\n",
      "[INFO] nrkdownload.nrktv(45): Creating new Program: Tidenes Sommer : muhr57000318\n",
      "[DEBUG] nrkdownload.nrktv(194): Series tidenes-sommer: Adding Tidenes Sommer to S8, E2\n",
      "[INFO] nrkdownload.nrktv(45): Creating new Program: Tidenes Sommer : muhr57000418\n",
      "[DEBUG] nrkdownload.nrktv(194): Series tidenes-sommer: Adding Tidenes Sommer to S8, E3\n",
      "[INFO] nrkdownload.nrktv(45): Creating new Program: Tidenes Sommer : muhr57000518\n",
      "[DEBUG] nrkdownload.nrktv(194): Series tidenes-sommer: Adding Tidenes Sommer to S8, E4\n",
      "[INFO] nrkdownload.nrktv(45): Creating new Program: Tidenes Sommer : muhr57000618\n",
      "[DEBUG] nrkdownload.nrktv(194): Series tidenes-sommer: Adding Tidenes Sommer to S9, E0\n",
      "[INFO] nrkdownload.nrktv(45): Creating new Program: Tidenes Sommer : muhr57000718\n",
      "[DEBUG] nrkdownload.nrktv(194): Series tidenes-sommer: Adding Tidenes Sommer to S9, E1\n",
      "[INFO] nrkdownload.nrktv(45): Creating new Program: Tidenes Sommer : muhr57000818\n",
      "[DEBUG] nrkdownload.nrktv(194): Series tidenes-sommer: Adding Tidenes Sommer to S9, E2\n",
      "[INFO] nrkdownload.nrktv(45): Creating new Program: Tidenes Sommer : muhr57000918\n",
      "[DEBUG] nrkdownload.nrktv(194): Series tidenes-sommer: Adding Tidenes Sommer to S9, E3\n",
      "[INFO] nrkdownload.nrktv(45): Creating new Program: Tidenes Sommer : muhr57001018\n",
      "[DEBUG] nrkdownload.nrktv(194): Series tidenes-sommer: Adding Tidenes Sommer to S9, E4\n",
      "[INFO] nrkdownload.nrktv(45): Creating new Program: Tidenes Sommer : muhr57001118\n",
      "[DEBUG] nrkdownload.nrktv(194): Series tidenes-sommer: Adding Tidenes Sommer to S9, E5\n",
      "[INFO] nrkdownload.nrktv(45): Creating new Program: Tidenes Sommer : muhr57001218\n",
      "[DEBUG] nrkdownload.nrktv(194): Series tidenes-sommer: Adding Tidenes Sommer to S9, E6\n",
      "[INFO] nrkdownload.nrktv(45): Creating new Program: Tidenes Sommer : muhr57001318\n",
      "[DEBUG] nrkdownload.nrktv(194): Series tidenes-sommer: Adding Tidenes Sommer to S9, E7\n",
      "[INFO] nrkdownload.nrktv(45): Creating new Program: Tidenes Sommer : muhr57001418\n",
      "[DEBUG] nrkdownload.nrktv(194): Series tidenes-sommer: Adding Tidenes Sommer to S9, E8\n",
      "[INFO] nrkdownload.nrktv(45): Creating new Program: Tidenes Sommer : muhr57001518\n",
      "[DEBUG] nrkdownload.nrktv(194): Series tidenes-sommer: Adding Tidenes Sommer to S9, E9\n",
      "[INFO] nrkdownload.nrktv(45): Creating new Program: Tidenes Sommer : muhr57001618\n",
      "[DEBUG] nrkdownload.nrktv(194): Series tidenes-sommer: Adding Tidenes Sommer to S9, E10\n",
      "[INFO] nrkdownload.nrktv(45): Creating new Program: Tidenes Sommer : muhr57001718\n",
      "[DEBUG] nrkdownload.nrktv(194): Series tidenes-sommer: Adding Tidenes Sommer to S9, E11\n",
      "[INFO] nrkdownload.nrktv(45): Creating new Program: Tidenes Sommer : muhr57001818\n",
      "[DEBUG] nrkdownload.nrktv(194): Series tidenes-sommer: Adding Tidenes Sommer to S9, E12\n",
      "[INFO] nrkdownload.nrktv(45): Creating new Program: Tidenes Sommer : muhr57001918\n",
      "[DEBUG] nrkdownload.nrktv(194): Series tidenes-sommer: Adding Tidenes Sommer to S9, E13\n",
      "[INFO] nrkdownload.nrktv(45): Creating new Program: Tidenes Sommer : muhr57002018\n",
      "[DEBUG] nrkdownload.nrktv(194): Series tidenes-sommer: Adding Tidenes Sommer to S9, E14\n",
      "[INFO] nrkdownload.nrktv(45): Creating new Program: Tidenes Sommer : muhr57002118\n",
      "[DEBUG] nrkdownload.nrktv(194): Series tidenes-sommer: Adding Tidenes Sommer to S9, E15\n",
      "[INFO] nrkdownload.nrktv(45): Creating new Program: Tidenes Sommer : muhr57002218\n",
      "[DEBUG] nrkdownload.nrktv(194): Series tidenes-sommer: Adding Tidenes Sommer to S9, E16\n",
      "[INFO] nrkdownload.nrktv(45): Creating new Program: Tidenes Sommer : muhr57002318\n",
      "[DEBUG] nrkdownload.nrktv(194): Series tidenes-sommer: Adding Tidenes Sommer to S9, E17\n",
      "[INFO] nrkdownload.nrktv(45): Creating new Program: Tidenes Sommer : muhr57002418\n",
      "[DEBUG] nrkdownload.nrktv(194): Series tidenes-sommer: Adding Tidenes Sommer to S9, E18\n",
      "[INFO] nrkdownload.nrktv(45): Creating new Program: Tidenes Sommer : muhr57002518\n",
      "[DEBUG] nrkdownload.nrktv(194): Series tidenes-sommer: Adding Tidenes Sommer to S9, E19\n",
      "[INFO] nrkdownload.nrktv(45): Creating new Program: Tidenes Sommer : muhr57002618\n",
      "[DEBUG] nrkdownload.nrktv(194): Series tidenes-sommer: Adding Tidenes Sommer to S9, E20\n",
      "[INFO] nrkdownload.nrktv(45): Creating new Program: Tidenes Sommer : muhr57002718\n",
      "[DEBUG] nrkdownload.nrktv(194): Series tidenes-sommer: Adding Tidenes Sommer to S9, E21\n",
      "[INFO] nrkdownload.nrktv(45): Creating new Program: Tidenes Sommer : muhr57002818\n",
      "[DEBUG] nrkdownload.nrktv(194): Series tidenes-sommer: Adding Tidenes Sommer to S10, E0\n",
      "[INFO] nrkdownload.nrktv(45): Creating new Program: Tidenes Sommer : muhr57002918\n"
     ]
    },
    {
     "name": "stderr",
     "output_type": "stream",
     "text": [
      "[DEBUG] nrkdownload.nrktv(194): Series tidenes-sommer: Adding Tidenes Sommer to S10, E1\n",
      "[INFO] nrkdownload.nrktv(45): Creating new Program: Tidenes Sommer : muhr57003018\n",
      "[DEBUG] nrkdownload.nrktv(194): Series tidenes-sommer: Adding Tidenes Sommer to S10, E2\n",
      "[DEBUG] nrkdownload.nrktv(197): In get_episodes, added 141 episodes\n"
     ]
    }
   ],
   "source": [
    "s.get_seasons_and_episodes()"
   ]
  },
  {
   "cell_type": "code",
   "execution_count": 14,
   "metadata": {},
   "outputs": [
    {
     "name": "stdout",
     "output_type": "stream",
     "text": [
      "1: Juni 2015 (2 episoder)\n",
      "Tidenes Sommer: 29. juni 2015\n",
      "Tidenes Sommer: 30. juni 2015\n",
      "2: Juli 2015 (24 episoder)\n",
      "Tidenes Sommer: 1. juli 2015\n",
      "Tidenes Sommer: 2. juli 2015\n",
      "Tidenes Sommer: 3. juli 2015\n",
      "Det beste fra Tidenes Morgen: 5. juli 2015\n",
      "Tidenes Sommer: 6. juli 2015\n",
      "Tidenes Sommer: 7. juli 2015\n",
      "Tidenes Sommer: 8. juli 2015\n",
      "Tidenes Sommer: 9. juli 2015\n",
      "Tidenes Sommer: 10. juli 2015\n",
      "Tidenes Sommer: 13. juli 2015\n",
      "Tidenes Sommer: 14. juli 2015\n",
      "Tidenes Sommer: 15. juli 2015\n",
      "Tidenes Sommer: 16. juli 2015\n",
      "Tidenes Sommer: 17. juli 2015\n",
      "Tidenes Sommer: 20. juli 2015\n",
      "Tidenes Sommer: 21. juli 2015\n",
      "Tidenes Sommer: 22. juli 2015\n",
      "Tidenes Sommer: 23. juli 2015\n",
      "Tidenes Sommer: 24. juli 2015\n",
      "Tidenes Sommer: 27. juli 2015\n",
      "Tidenes Sommer: 28. juli 2015\n",
      "Tidenes Sommer: 29. juli 2015\n",
      "Tidenes Sommer: 30. juli 2015\n",
      "Tidenes Sommer: 31. juli 2015\n",
      "3: August 2015 (10 episoder)\n",
      "Tidenes Sommer: 3. august 2015\n",
      "Tidenes Sommer: 4. august 2015\n",
      "Tidenes Sommer: 5. august 2015\n",
      "Tidenes Sommer: 6. august 2015\n",
      "Tidenes Sommer: 7. august 2015\n",
      "Tidenes Sommer: 10. august 2015\n",
      "Tidenes Sommer: 11. august 2015\n",
      "Tidenes Sommer: 12. august 2015\n",
      "Tidenes Sommer: 13. august 2015\n",
      "Tidenes Sommer: 14. august 2015\n",
      "4: Juli 2016 (20 episoder)\n",
      "Tidenes Sommer: 4. juli 2016\n",
      "Tidenes Sommer: 5. juli 2016\n",
      "Tidenes Sommer: 6. juli 2016\n",
      "Tidenes Sommer: 7. juli 2016\n",
      "Tidenes Sommer: 8. juli 2016\n",
      "Tidenes Sommer: 11. juli 2016\n",
      "Tidenes Sommer: 12. juli 2016\n",
      "Tidenes Sommer: 13. juli 2016\n",
      "Tidenes Sommer: 14. juli 2016\n",
      "Tidenes Sommer: 15. juli 2016\n",
      "Tidenes Sommer: 18. juli 2016\n",
      "Tidenes Sommer: 19. juli 2016\n",
      "Tidenes Sommer: 20. juli 2016\n",
      "Tidenes Sommer: 21. juli 2016\n",
      "Tidenes Sommer: 22. juli 2016\n",
      "Tidenes Sommer: 25. juli 2016\n",
      "Tidenes Sommer: 26. juli 2016\n",
      "Tidenes Sommer: 27. juli 2016\n",
      "Tidenes Sommer: 28. juli 2016\n",
      "Tidenes Sommer: 29. juli 2016\n",
      "5: August 2016 (15 episoder)\n",
      "Tidenes Sommer: 1. august 2016\n",
      "Tidenes Sommer: 2. august 2016\n",
      "Tidenes Sommer: 3. august 2016\n",
      "Tidenes Sommer: 4. august 2016\n",
      "Tidenes Sommer: 5. august 2016\n",
      "Tidenes Sommer: 8. august 2016\n",
      "Tidenes Sommer: 9. august 2016\n",
      "Tidenes Sommer: 10. august 2016\n",
      "Tidenes Sommer: 11. august 2016\n",
      "Tidenes Sommer: 12. august 2016\n",
      "Tidenes Sommer: 15. august 2016\n",
      "Tidenes Sommer: 16. august 2016\n",
      "Tidenes Sommer: 17. august 2016\n",
      "Tidenes Sommer: 18. august 2016\n",
      "Tidenes Sommer: 19. august 2016\n",
      "6: Juni 2017 (5 episoder)\n",
      "Tidenes Sommer: 26. juni 2017\n",
      "Tidenes Sommer: 27. juni 2017\n",
      "Tidenes Sommer: 28. juni 2017\n",
      "Tidenes Sommer: 29. juni 2017\n",
      "Tidenes Sommer: 30. juni 2017\n",
      "7: Juli 2017 (21 episoder)\n",
      "Tidenes Sommer: 3. juli 2017\n",
      "Tidenes Sommer: 4. juli 2017\n",
      "Tidenes Sommer: 5. juli 2017\n",
      "Tidenes Sommer: 6. juli 2017\n",
      "Tidenes Sommer: 7. juli 2017\n",
      "Tidenes Sommer: 10. juli 2017\n",
      "Tidenes Sommer: 11. juli 2017\n",
      "Tidenes Sommer: 12. juli 2017\n",
      "Tidenes Sommer: 13. juli 2017\n",
      "Tidenes Sommer: 14. juli 2017\n",
      "Tidenes Sommer: 17. juli 2017\n",
      "Tidenes Sommer: 18. juli 2017\n",
      "Tidenes Sommer: 19. juli 2017\n",
      "Tidenes Sommer: 20. juli 2017\n",
      "Tidenes Sommer: 21. juli 2017\n",
      "Tidenes Sommer: 24. juli 2017\n",
      "Tidenes Sommer: 25. juli 2017\n",
      "Tidenes Sommer: 26. juli 2017\n",
      "Tidenes Sommer: 27. juli 2017\n",
      "Tidenes Sommer: 28. juli 2017\n",
      "Tidenes Sommer: 31. juli 2017\n",
      "8: August 2017 (14 episoder)\n",
      "Tidenes Sommer: 1. august 2017\n",
      "Tidenes Sommer: 2. august 2017\n",
      "Tidenes Sommer: 3. august 2017\n",
      "Tidenes Sommer: 4. august 2017\n",
      "Tidenes Sommer: 7. august 2017\n",
      "Tidenes Sommer: 8. august 2017\n",
      "Tidenes Sommer: 9. august 2017\n",
      "Tidenes Sommer: 10. august 2017\n",
      "Tidenes Sommer: 11. august 2017\n",
      "Tidenes Sommer: 14. august 2017\n",
      "Tidenes Sommer: 15. august 2017\n",
      "Tidenes Sommer: 16. august 2017\n",
      "Tidenes Sommer: 17. august 2017\n",
      "Tidenes Sommer: 18. august 2017\n",
      "9: Juni 2018 (5 episoder)\n",
      "Tidenes Sommer: 25. juni 2018\n",
      "Tidenes Sommer: 26. juni 2018\n",
      "Tidenes Sommer: 27. juni 2018\n",
      "Tidenes Sommer: 28. juni 2018\n",
      "Tidenes Sommer: 29. juni 2018\n",
      "10: Juli 2018 (22 episoder)\n",
      "Tidenes Sommer: 2. juli 2018\n",
      "Tidenes Sommer: 3. juli 2018\n",
      "Tidenes Sommer: 4. juli 2018\n",
      "Tidenes Sommer: 5. juli 2018\n",
      "Tidenes Sommer: 6. juli 2018\n",
      "Tidenes Sommer: 9. juli 2018\n",
      "Tidenes Sommer: 10. juli 2018\n",
      "Tidenes Sommer: 11. juli 2018\n",
      "Tidenes Sommer: 12. juli 2018\n",
      "Tidenes Sommer: 13. juli 2018\n",
      "Tidenes Sommer: 16. juli 2018\n",
      "Tidenes Sommer: 17. juli 2018\n",
      "Tidenes Sommer: 18. juli 2018\n",
      "Tidenes Sommer: 19. juli 2018\n",
      "Tidenes Sommer: 20. juli 2018\n",
      "Tidenes Sommer: 23. juli 2018\n",
      "Tidenes Sommer: 24. juli 2018\n",
      "Tidenes Sommer: 25. juli 2018\n",
      "Tidenes Sommer: 26. juli 2018\n",
      "Tidenes Sommer: 27. juli 2018\n",
      "Tidenes Sommer: 30. juli 2018\n",
      "Tidenes Sommer: 31. juli 2018\n",
      "11: August 2018 (3 episoder)\n",
      "Tidenes Sommer: 1. august 2018\n",
      "Tidenes Sommer: 2. august 2018\n",
      "Tidenes Sommer: 3. august 2018\n"
     ]
    }
   ],
   "source": [
    "for se in s.seasons:\n",
    "    print(se)\n",
    "    for e in se.episodes:\n",
    "        print(e)"
   ]
  },
  {
   "cell_type": "code",
   "execution_count": 26,
   "metadata": {},
   "outputs": [
    {
     "name": "stdout",
     "output_type": "stream",
     "text": [
      "Tidenes Sommer: 2. august 2018\n"
     ]
    }
   ],
   "source": [
    "p = s.seasons[-1].episodes[-2]\n",
    "print(p)"
   ]
  },
  {
   "cell_type": "code",
   "execution_count": 27,
   "metadata": {},
   "outputs": [
    {
     "data": {
      "text/plain": [
       "'muhr57002918'"
      ]
     },
     "execution_count": 27,
     "metadata": {},
     "output_type": "execute_result"
    }
   ],
   "source": [
    "p.program_id"
   ]
  },
  {
   "cell_type": "code",
   "execution_count": 25,
   "metadata": {},
   "outputs": [
    {
     "data": {
      "text/plain": [
       "'muhr57003018'"
      ]
     },
     "execution_count": 25,
     "metadata": {},
     "output_type": "execute_result"
    }
   ],
   "source": [
    "p.program_id"
   ]
  },
  {
   "cell_type": "code",
   "execution_count": 37,
   "metadata": {},
   "outputs": [
    {
     "name": "stderr",
     "output_type": "stream",
     "text": [
      "[INFO] nrkdownload.nrktv(45): Creating new Program: Satans barn: På turné med Mayhem : muhh48000516\n"
     ]
    }
   ],
   "source": [
    "import requests\n",
    "NRK_PS_API = 'http://v8.psapi.nrk.no'\n",
    "SESSION = requests.Session()\n",
    "SESSION.headers['app-version-android'] = '999'\n",
    "\n",
    "program_id = 'MUHH48000516'\n",
    "r = SESSION.get(NRK_PS_API + '/mediaelement/' + program_id)\n",
    "r.raise_for_status()\n",
    "json = r.json()\n",
    "json['programId'] = program_id\n",
    "json['imageId'] = json['image']['id']\n",
    "\n",
    "program = nrkdownload.nrktv.new_program_from_search_result(json)\n",
    "program.get_download_details(json=json)"
   ]
  },
  {
   "cell_type": "code",
   "execution_count": 36,
   "metadata": {},
   "outputs": [
    {
     "data": {
      "text/plain": [
       "'trygdekontoret-dokumentar'"
      ]
     },
     "execution_count": 36,
     "metadata": {},
     "output_type": "execute_result"
    }
   ],
   "source": [
    "program.series_id"
   ]
  },
  {
   "cell_type": "code",
   "execution_count": 50,
   "metadata": {},
   "outputs": [
    {
     "name": "stderr",
     "output_type": "stream",
     "text": [
      "[INFO] nrkdownload.nrktv(154): Creating new series: paa-date\n"
     ]
    },
    {
     "data": {
      "text/plain": [
       "['__class__',\n",
       " '__delattr__',\n",
       " '__dict__',\n",
       " '__dir__',\n",
       " '__doc__',\n",
       " '__eq__',\n",
       " '__format__',\n",
       " '__ge__',\n",
       " '__getattribute__',\n",
       " '__gt__',\n",
       " '__hash__',\n",
       " '__init__',\n",
       " '__init_subclass__',\n",
       " '__le__',\n",
       " '__lt__',\n",
       " '__module__',\n",
       " '__ne__',\n",
       " '__new__',\n",
       " '__reduce__',\n",
       " '__reduce_ex__',\n",
       " '__repr__',\n",
       " '__setattr__',\n",
       " '__sizeof__',\n",
       " '__str__',\n",
       " '__subclasshook__',\n",
       " '__weakref__',\n",
       " 'description',\n",
       " 'dir_name',\n",
       " 'get_program_ids',\n",
       " 'get_seasons_and_episodes',\n",
       " 'image_url',\n",
       " 'program_ids',\n",
       " 'seasonId2Idx',\n",
       " 'season_ids',\n",
       " 'seasons',\n",
       " 'series_id',\n",
       " 'title']"
      ]
     },
     "execution_count": 50,
     "metadata": {},
     "output_type": "execute_result"
    }
   ],
   "source": [
    "s = nrkdownload.nrktv.series_from_series_id('paa-date')\n",
    "dir(s)"
   ]
  },
  {
   "cell_type": "code",
   "execution_count": 51,
   "metadata": {},
   "outputs": [
    {
     "ename": "AttributeError",
     "evalue": "module 'nrkdownload' has no attribute 'config'",
     "output_type": "error",
     "traceback": [
      "\u001b[0;31m---------------------------------------------------------------------------\u001b[0m",
      "\u001b[0;31mAttributeError\u001b[0m                            Traceback (most recent call last)",
      "\u001b[0;32m<ipython-input-51-f75a6c79d99e>\u001b[0m in \u001b[0;36m<module>\u001b[0;34m()\u001b[0m\n\u001b[0;32m----> 1\u001b[0;31m \u001b[0mnrkdownload\u001b[0m\u001b[0;34m.\u001b[0m\u001b[0mconfig\u001b[0m\u001b[0;34m.\u001b[0m\u001b[0mKNOWN_SERIES\u001b[0m\u001b[0;34m\u001b[0m\u001b[0m\n\u001b[0m",
      "\u001b[0;31mAttributeError\u001b[0m: module 'nrkdownload' has no attribute 'config'"
     ]
    }
   ],
   "source": [
    "nrkdownload.config.KNOWN_SERIES"
   ]
  },
  {
   "cell_type": "code",
   "execution_count": 57,
   "metadata": {},
   "outputs": [],
   "source": [
    "s = nrkdownload.nrktv.series_from_series_id('sjakk')"
   ]
  },
  {
   "cell_type": "code",
   "execution_count": 52,
   "metadata": {},
   "outputs": [],
   "source": [
    "d = {1: 'sdaf', 2: 'fdg'}"
   ]
  },
  {
   "cell_type": "code",
   "execution_count": 53,
   "metadata": {},
   "outputs": [
    {
     "name": "stdout",
     "output_type": "stream",
     "text": [
      "Yes\n"
     ]
    }
   ],
   "source": [
    "if 1 in d:\n",
    "    print(\"Yes\")"
   ]
  },
  {
   "cell_type": "code",
   "execution_count": 24,
   "metadata": {},
   "outputs": [
    {
     "data": {
      "text/plain": [
       "['http://nordond2b-f.akamaihd.net/i/wo/open/0a/0a5c46e08f81e7a5ab04fd0f40e1646db3bc19bb/0bf71c41-45cf-4355-a1d3-d4c5761a390f_,64,192,.mp4.csmil/master.m3u8']"
      ]
     },
     "execution_count": 24,
     "metadata": {},
     "output_type": "execute_result"
    }
   ],
   "source": [
    "p.get_download_details()\n",
    "p.media_urls"
   ]
  },
  {
   "cell_type": "code",
   "execution_count": null,
   "metadata": {},
   "outputs": [],
   "source": [
    "[s for s in dir(p) if not s.startswith('__')]"
   ]
  },
  {
   "cell_type": "code",
   "execution_count": null,
   "metadata": {},
   "outputs": [],
   "source": [
    "p.get_download_details()"
   ]
  },
  {
   "cell_type": "code",
   "execution_count": null,
   "metadata": {},
   "outputs": [],
   "source": [
    "p.subtitle_urls"
   ]
  },
  {
   "cell_type": "code",
   "execution_count": null,
   "metadata": {},
   "outputs": [],
   "source": [
    "result[0].episode_number_or_date"
   ]
  },
  {
   "cell_type": "code",
   "execution_count": null,
   "metadata": {},
   "outputs": [],
   "source": [
    "result[0].seasons[0].episodes[1].programId"
   ]
  },
  {
   "cell_type": "code",
   "execution_count": null,
   "metadata": {},
   "outputs": [],
   "source": [
    "nrkdownload.config.KNOWN_SERIES['skam'].get_seasons_and_episodes()"
   ]
  },
  {
   "cell_type": "code",
   "execution_count": null,
   "metadata": {},
   "outputs": [],
   "source": []
  }
 ],
 "metadata": {
  "kernelspec": {
   "display_name": "Python 3",
   "language": "python",
   "name": "python3"
  },
  "language_info": {
   "codemirror_mode": {
    "name": "ipython",
    "version": 3
   },
   "file_extension": ".py",
   "mimetype": "text/x-python",
   "name": "python",
   "nbconvert_exporter": "python",
   "pygments_lexer": "ipython3",
   "version": "3.6.5"
  },
  "toc": {
   "base_numbering": 1,
   "nav_menu": {},
   "number_sections": true,
   "sideBar": true,
   "skip_h1_title": false,
   "title_cell": "Table of Contents",
   "title_sidebar": "Contents",
   "toc_cell": false,
   "toc_position": {},
   "toc_section_display": true,
   "toc_window_display": false
  }
 },
 "nbformat": 4,
 "nbformat_minor": 2
}
