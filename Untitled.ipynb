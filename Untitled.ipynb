{
 "cells": [
  {
   "cell_type": "code",
   "execution_count": 2,
   "metadata": {},
   "outputs": [
    {
     "name": "stdout",
     "output_type": "stream",
     "text": [
      "The autoreload extension is already loaded. To reload it, use:\n",
      "  %reload_ext autoreload\n"
     ]
    }
   ],
   "source": [
    "%load_ext autoreload\n",
    "%autoreload 2"
   ]
  },
  {
   "cell_type": "code",
   "execution_count": 3,
   "metadata": {},
   "outputs": [],
   "source": [
    "import nrkdownload\n",
    "import logging\n",
    "nrkdownload.nrktv.LOG.setLevel(logging.DEBUG)"
   ]
  },
  {
   "cell_type": "markdown",
   "metadata": {},
   "source": [
    "# Search for a series"
   ]
  },
  {
   "cell_type": "code",
   "execution_count": 4,
   "metadata": {},
   "outputs": [
    {
     "name": "stderr",
     "output_type": "stream",
     "text": [
      "[INFO] nrkdownload.nrktv(149): Creating new series: distriktsnyheter-vestlandsrevyen\n"
     ]
    },
    {
     "data": {
      "text/plain": [
       "[<nrkdownload.nrktv.Series at 0x7f55e4b9d668>]"
      ]
     },
     "execution_count": 4,
     "metadata": {},
     "output_type": "execute_result"
    }
   ],
   "source": [
    "string = 'vestlandsrevyen'\n",
    "search_type = 'series'\n",
    "result = nrkdownload.nrktv.search(string, search_type)\n",
    "result"
   ]
  },
  {
   "cell_type": "code",
   "execution_count": 8,
   "metadata": {},
   "outputs": [
    {
     "name": "stdout",
     "output_type": "stream",
     "text": [
      "Distriktsnyheter Vestlandsrevyen : 81 Sesonger\n",
      "     1: Januar 2012 (40 episoder) 0\n",
      "     2: Februar 2012 (38 episoder) 1\n",
      "     3: Mars 2012 (39 episoder) 2\n",
      "     4: April 2012 (33 episoder) 3\n",
      "     5: Mai 2012 (35 episoder) 4\n",
      "     6: Juni 2012 (31 episoder) 5\n",
      "     7: Juli 2012 (38 episoder) 6\n",
      "     8: August 2012 (34 episoder) 7\n",
      "     9: September 2012 (34 episoder) 8\n",
      "     10: Oktober 2012 (42 episoder) 9\n",
      "     11: November 2012 (39 episoder) 10\n",
      "     12: Desember 2012 (26 episoder) 11\n",
      "     13: Januar 2013 (38 episoder) 12\n",
      "     14: Februar 2013 (35 episoder) 13\n",
      "     15: Mars 2013 (34 episoder) 14\n",
      "     16: April 2013 (38 episoder) 15\n",
      "     17: Mai 2013 (34 episoder) 16\n",
      "     18: Juni 2013 (35 episoder) 17\n",
      "     19: Juli 2013 (41 episoder) 18\n",
      "     20: August 2013 (39 episoder) 19\n",
      "     21: September 2013 (36 episoder) 20\n",
      "     22: Oktober 2013 (41 episoder) 21\n",
      "     23: November 2013 (36 episoder) 22\n",
      "     24: Desember 2013 (27 episoder) 23\n",
      "     25: Januar 2014 (38 episoder) 24\n",
      "     26: Februar 2014 (36 episoder) 25\n",
      "     27: Mars 2014 (38 episoder) 26\n",
      "     28: April 2014 (35 episoder) 27\n",
      "     29: Mai 2014 (35 episoder) 28\n",
      "     30: Juni 2014 (29 episoder) 29\n",
      "     31: Juli 2014 (42 episoder) 30\n",
      "     32: August 2014 (37 episoder) 31\n",
      "     33: September 2014 (40 episoder) 32\n",
      "     34: Oktober 2014 (41 episoder) 33\n",
      "     35: November 2014 (36 episoder) 34\n",
      "     36: Desember 2014 (29 episoder) 35\n",
      "     37: Januar 2015 (37 episoder) 36\n",
      "     38: Februar 2015 (36 episoder) 37\n",
      "     39: Mars 2015 (40 episoder) 38\n",
      "     40: April 2015 (35 episoder) 39\n",
      "     41: Mai 2015 (32 episoder) 40\n",
      "     42: Juni 2015 (39 episoder) 41\n",
      "     43: Juli 2015 (41 episoder) 42\n",
      "     44: August 2015 (38 episoder) 43\n",
      "     45: September 2015 (39 episoder) 44\n",
      "     46: Oktober 2015 (39 episoder) 45\n",
      "     47: November 2015 (38 episoder) 46\n",
      "     48: Desember 2015 (30 episoder) 47\n",
      "     49: Januar 2016 (36 episoder) 48\n",
      "     50: Februar 2016 (38 episoder) 49\n",
      "     51: Mars 2016 (34 episoder) 50\n",
      "     52: April 2016 (37 episoder) 51\n",
      "     53: Mai 2016 (34 episoder) 52\n",
      "     54: Juni 2016 (33 episoder) 53\n",
      "     55: Juli 2016 (37 episoder) 54\n",
      "     56: August 2016 (42 episoder) 55\n",
      "     57: September 2016 (39 episoder) 56\n",
      "     58: Oktober 2016 (38 episoder) 57\n",
      "     59: November 2016 (39 episoder) 58\n",
      "     60: Desember 2016 (37 episoder) 59\n",
      "     61: Januar 2017 (40 episoder) 60\n",
      "     62: Februar 2017 (36 episoder) 61\n",
      "     63: Mars 2017 (39 episoder) 62\n",
      "     64: April 2017 (31 episoder) 63\n",
      "     65: Mai 2017 (35 episoder) 64\n",
      "     66: Juni 2017 (36 episoder) 65\n",
      "     67: Juli 2017 (38 episoder) 66\n",
      "     68: August 2017 (41 episoder) 67\n",
      "     69: September 2017 (38 episoder) 68\n",
      "     70: Oktober 2017 (40 episoder) 69\n",
      "     71: November 2017 (40 episoder) 70\n",
      "     72: Desember 2017 (32 episoder) 71\n",
      "     73: Januar 2018 (58 episoder) 72\n",
      "     74: Februar 2018 (52 episoder) 73\n",
      "     75: Mars 2018 (49 episoder) 74\n",
      "     76: April 2018 (52 episoder) 75\n",
      "     77: Mai 2018 (35 episoder) 76\n",
      "     78: Juni 2018 (47 episoder) 77\n",
      "     79: Juli 2018 (58 episoder) 78\n",
      "     80: August 2018 (8 episoder) 79\n"
     ]
    }
   ],
   "source": [
    "nrkdownload.nrktv.LOG.setLevel(logging.WARNING)\n",
    "for r in result:\n",
    "    print(r)\n",
    "    r.get_seasons_and_episodes()\n",
    "    for s in r.seasons:\n",
    "        print(' '*4, s, s.number)\n",
    "#         for e in s.episodes:\n",
    "#             print(' '*8, e)"
   ]
  },
  {
   "cell_type": "markdown",
   "metadata": {},
   "source": [
    "# Search for a program"
   ]
  },
  {
   "cell_type": "code",
   "execution_count": 10,
   "metadata": {},
   "outputs": [
    {
     "name": "stderr",
     "output_type": "stream",
     "text": [
      "[ERROR] nrkdownload.nrktv(63): Program nnfa19120712 is from an unknown series dagsrevyen\n"
     ]
    },
    {
     "ename": "TypeError",
     "evalue": "new_series_from_search_result() missing 1 required positional argument: 'json'",
     "output_type": "error",
     "traceback": [
      "\u001b[0;31m---------------------------------------------------------------------------\u001b[0m",
      "\u001b[0;31mTypeError\u001b[0m                                 Traceback (most recent call last)",
      "\u001b[0;32m<ipython-input-10-c0adfcf8a2a3>\u001b[0m in \u001b[0;36m<module>\u001b[0;34m()\u001b[0m\n\u001b[1;32m      1\u001b[0m \u001b[0mstring\u001b[0m \u001b[0;34m=\u001b[0m \u001b[0;34m'Bergen - Florø'\u001b[0m\u001b[0;34m\u001b[0m\u001b[0m\n\u001b[1;32m      2\u001b[0m \u001b[0msearch_type\u001b[0m \u001b[0;34m=\u001b[0m \u001b[0;34m'program'\u001b[0m\u001b[0;34m\u001b[0m\u001b[0m\n\u001b[0;32m----> 3\u001b[0;31m \u001b[0mresult\u001b[0m \u001b[0;34m=\u001b[0m \u001b[0mnrkdownload\u001b[0m\u001b[0;34m.\u001b[0m\u001b[0mnrktv\u001b[0m\u001b[0;34m.\u001b[0m\u001b[0msearch\u001b[0m\u001b[0;34m(\u001b[0m\u001b[0mstring\u001b[0m\u001b[0;34m,\u001b[0m \u001b[0msearch_type\u001b[0m\u001b[0;34m)\u001b[0m\u001b[0;34m\u001b[0m\u001b[0m\n\u001b[0m\u001b[1;32m      4\u001b[0m \u001b[0mresult\u001b[0m\u001b[0;34m\u001b[0m\u001b[0m\n",
      "\u001b[0;32m/mnt/c/Users/hoyma/GitHub/nrk-download/nrkdownload/nrktv.py\u001b[0m in \u001b[0;36msearch\u001b[0;34m(search_string, search_type)\u001b[0m\n\u001b[1;32m    246\u001b[0m             \u001b[0mresults\u001b[0m\u001b[0;34m.\u001b[0m\u001b[0mappend\u001b[0m\u001b[0;34m(\u001b[0m\u001b[0mnew_series_from_search_result\u001b[0m\u001b[0;34m(\u001b[0m\u001b[0mitem\u001b[0m\u001b[0;34m[\u001b[0m\u001b[0;34m'hit'\u001b[0m\u001b[0;34m]\u001b[0m\u001b[0;34m)\u001b[0m\u001b[0;34m)\u001b[0m\u001b[0;34m\u001b[0m\u001b[0m\n\u001b[1;32m    247\u001b[0m         \u001b[0;32melif\u001b[0m \u001b[0mitem\u001b[0m\u001b[0;34m[\u001b[0m\u001b[0;34m'type'\u001b[0m\u001b[0;34m]\u001b[0m \u001b[0;32min\u001b[0m \u001b[0;34m[\u001b[0m\u001b[0;34m'program'\u001b[0m\u001b[0;34m,\u001b[0m \u001b[0;34m'episode'\u001b[0m\u001b[0;34m]\u001b[0m \u001b[0;32mand\u001b[0m \u001b[0msearch_type\u001b[0m \u001b[0;34m==\u001b[0m \u001b[0;34m'program'\u001b[0m\u001b[0;34m:\u001b[0m\u001b[0;34m\u001b[0m\u001b[0m\n\u001b[0;32m--> 248\u001b[0;31m             \u001b[0mresults\u001b[0m\u001b[0;34m.\u001b[0m\u001b[0mappend\u001b[0m\u001b[0;34m(\u001b[0m\u001b[0mnew_program_from_search_result\u001b[0m\u001b[0;34m(\u001b[0m\u001b[0mitem\u001b[0m\u001b[0;34m[\u001b[0m\u001b[0;34m'hit'\u001b[0m\u001b[0;34m]\u001b[0m\u001b[0;34m)\u001b[0m\u001b[0;34m)\u001b[0m\u001b[0;34m\u001b[0m\u001b[0m\n\u001b[0m\u001b[1;32m    249\u001b[0m         \u001b[0;32mif\u001b[0m \u001b[0mitem\u001b[0m\u001b[0;34m[\u001b[0m\u001b[0;34m'type'\u001b[0m\u001b[0;34m]\u001b[0m \u001b[0;32mnot\u001b[0m \u001b[0;32min\u001b[0m \u001b[0;34m[\u001b[0m\u001b[0;34m'serie'\u001b[0m\u001b[0;34m,\u001b[0m \u001b[0;34m'program'\u001b[0m\u001b[0;34m,\u001b[0m \u001b[0;34m'episode'\u001b[0m\u001b[0;34m]\u001b[0m\u001b[0;34m:\u001b[0m\u001b[0;34m\u001b[0m\u001b[0m\n\u001b[1;32m    250\u001b[0m             \u001b[0mLOG\u001b[0m\u001b[0;34m.\u001b[0m\u001b[0mwarning\u001b[0m\u001b[0;34m(\u001b[0m\u001b[0;34m'Unknown item type: %s'\u001b[0m\u001b[0;34m,\u001b[0m \u001b[0mitem\u001b[0m\u001b[0;34m[\u001b[0m\u001b[0;34m'type'\u001b[0m\u001b[0;34m]\u001b[0m\u001b[0;34m)\u001b[0m\u001b[0;34m\u001b[0m\u001b[0m\n",
      "\u001b[0;32m/mnt/c/Users/hoyma/GitHub/nrk-download/nrkdownload/nrktv.py\u001b[0m in \u001b[0;36mnew_program_from_search_result\u001b[0;34m(json)\u001b[0m\n\u001b[1;32m    209\u001b[0m \u001b[0;34m\u001b[0m\u001b[0m\n\u001b[1;32m    210\u001b[0m     program = Program(title=title, program_id=program_id, description=description, image_url=image_url,\n\u001b[0;32m--> 211\u001b[0;31m                       series_id=series_id, episode_number_or_date=episode_number_or_date, episode_title=episode_title)\n\u001b[0m\u001b[1;32m    212\u001b[0m     \u001b[0;32mreturn\u001b[0m \u001b[0mprogram\u001b[0m\u001b[0;34m\u001b[0m\u001b[0m\n\u001b[1;32m    213\u001b[0m \u001b[0;34m\u001b[0m\u001b[0m\n",
      "\u001b[0;32m/mnt/c/Users/hoyma/GitHub/nrk-download/nrkdownload/nrktv.py\u001b[0m in \u001b[0;36m__init__\u001b[0;34m(self, title, program_id, description, image_url, series_id, episode_number_or_date, episode_title)\u001b[0m\n\u001b[1;32m     62\u001b[0m             \u001b[0;31m# This is an episode from a series we haven't seem yet\u001b[0m\u001b[0;34m\u001b[0m\u001b[0;34m\u001b[0m\u001b[0m\n\u001b[1;32m     63\u001b[0m             \u001b[0mLOG\u001b[0m\u001b[0;34m.\u001b[0m\u001b[0merror\u001b[0m\u001b[0;34m(\u001b[0m\u001b[0;34m'Program %s is from an unknown series %s'\u001b[0m\u001b[0;34m,\u001b[0m \u001b[0mself\u001b[0m\u001b[0;34m.\u001b[0m\u001b[0mprogramId\u001b[0m\u001b[0;34m,\u001b[0m \u001b[0mself\u001b[0m\u001b[0;34m.\u001b[0m\u001b[0mseries_id\u001b[0m\u001b[0;34m)\u001b[0m\u001b[0;34m\u001b[0m\u001b[0m\n\u001b[0;32m---> 64\u001b[0;31m             \u001b[0mnew_series_from_search_result\u001b[0m\u001b[0;34m(\u001b[0m\u001b[0;34m)\u001b[0m\u001b[0;34m\u001b[0m\u001b[0m\n\u001b[0m\u001b[1;32m     65\u001b[0m             \u001b[0mSeries\u001b[0m\u001b[0;34m(\u001b[0m\u001b[0mself\u001b[0m\u001b[0;34m.\u001b[0m\u001b[0mseries_id\u001b[0m\u001b[0;34m)\u001b[0m\u001b[0;34m\u001b[0m\u001b[0m\n\u001b[1;32m     66\u001b[0m \u001b[0;34m\u001b[0m\u001b[0m\n",
      "\u001b[0;31mTypeError\u001b[0m: new_series_from_search_result() missing 1 required positional argument: 'json'"
     ]
    }
   ],
   "source": [
    "string = 'Bergen - Florø'\n",
    "search_type = 'program'\n",
    "result = nrkdownload.nrktv.search(string, search_type)\n",
    "result"
   ]
  },
  {
   "cell_type": "code",
   "execution_count": 45,
   "metadata": {},
   "outputs": [
    {
     "data": {
      "text/plain": [
       "['__class__',\n",
       " '__delattr__',\n",
       " '__dict__',\n",
       " '__dir__',\n",
       " '__doc__',\n",
       " '__eq__',\n",
       " '__format__',\n",
       " '__ge__',\n",
       " '__getattribute__',\n",
       " '__gt__',\n",
       " '__hash__',\n",
       " '__init__',\n",
       " '__le__',\n",
       " '__lt__',\n",
       " '__module__',\n",
       " '__ne__',\n",
       " '__new__',\n",
       " '__reduce__',\n",
       " '__reduce_ex__',\n",
       " '__repr__',\n",
       " '__setattr__',\n",
       " '__sizeof__',\n",
       " '__str__',\n",
       " '__subclasshook__',\n",
       " '__weakref__',\n",
       " 'description',\n",
       " 'duration',\n",
       " 'episode_number_or_date',\n",
       " 'episode_title',\n",
       " 'filename',\n",
       " 'get_details',\n",
       " 'hasSubtitles',\n",
       " 'image_url',\n",
       " 'is_available',\n",
       " 'make_filename',\n",
       " 'mediaUrl',\n",
       " 'programId',\n",
       " 'series_id',\n",
       " 'subtitleUrl',\n",
       " 'title']"
      ]
     },
     "execution_count": 45,
     "metadata": {},
     "output_type": "execute_result"
    }
   ],
   "source": [
    "dir(result[0].seasons[0].episodes[1])"
   ]
  },
  {
   "cell_type": "code",
   "execution_count": 46,
   "metadata": {},
   "outputs": [
    {
     "data": {
      "text/plain": [
       "'dvfj67000211'"
      ]
     },
     "execution_count": 46,
     "metadata": {},
     "output_type": "execute_result"
    }
   ],
   "source": [
    "result[0].seasons[0].episodes[1].programId"
   ]
  },
  {
   "cell_type": "code",
   "execution_count": null,
   "metadata": {},
   "outputs": [],
   "source": [
    "nrkdownload.config.KNOWN_SERIES['skam'].get_seasons_and_episodes()"
   ]
  },
  {
   "cell_type": "code",
   "execution_count": null,
   "metadata": {},
   "outputs": [],
   "source": []
  }
 ],
 "metadata": {
  "kernelspec": {
   "display_name": "Python 3",
   "language": "python",
   "name": "python3"
  },
  "language_info": {
   "codemirror_mode": {
    "name": "ipython",
    "version": 3
   },
   "file_extension": ".py",
   "mimetype": "text/x-python",
   "name": "python",
   "nbconvert_exporter": "python",
   "pygments_lexer": "ipython3",
   "version": "3.6.5"
  },
  "toc": {
   "base_numbering": 1,
   "nav_menu": {},
   "number_sections": true,
   "sideBar": true,
   "skip_h1_title": false,
   "title_cell": "Table of Contents",
   "title_sidebar": "Contents",
   "toc_cell": false,
   "toc_position": {},
   "toc_section_display": true,
   "toc_window_display": false
  }
 },
 "nbformat": 4,
 "nbformat_minor": 2
}
