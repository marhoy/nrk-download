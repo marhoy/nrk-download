{
 "cells": [
  {
   "cell_type": "code",
   "execution_count": 1,
   "metadata": {},
   "outputs": [],
   "source": [
    "%load_ext autoreload\n",
    "%autoreload 2"
   ]
  },
  {
   "cell_type": "code",
   "execution_count": 2,
   "metadata": {},
   "outputs": [],
   "source": [
    "import nrkdownload\n",
    "import logging\n",
    "nrkdownload.nrktv.LOG.setLevel(logging.DEBUG)"
   ]
  },
  {
   "cell_type": "code",
   "execution_count": 35,
   "metadata": {},
   "outputs": [
    {
     "data": {
      "text/plain": [
       "[<nrkdownload.nrktv.Series at 0x109a2be48>]"
      ]
     },
     "execution_count": 35,
     "metadata": {},
     "output_type": "execute_result"
    }
   ],
   "source": [
    "string = 'hurtigruten minutt for minutt'\n",
    "search_type = 'series'\n",
    "result = nrkdownload.nrktv.search(string, search_type)\n",
    "result"
   ]
  },
  {
   "cell_type": "code",
   "execution_count": 36,
   "metadata": {},
   "outputs": [
    {
     "name": "stdout",
     "output_type": "stream",
     "text": [
      "Hurtigruten minutt for minutt : 2 Sesonger\n",
      "     1: 2011 (68 episoder)\n",
      "         Hurtigruten minutt for minutt (2011): Ved kai i Bergen - 23. desember 2011 - S01E01\n",
      "         Hurtigruten minutt for minutt (2011): Bergen - Florø - 23. desember 2011 - S01E02\n",
      "         Hurtigruten minutt for minutt (2011): Ved kai i Florø - 23. desember 2011 - S01E03\n",
      "         Hurtigruten minutt for minutt (2011): Florø - Måløy - 23. desember 2011 - S01E04\n",
      "         Hurtigruten minutt for minutt (2011): Ved kai i Måløy - 24. desember 2011 - S01E05\n",
      "         Hurtigruten minutt for minutt (2011): Måløy - Torvik - 24. desember 2011 - S01E06\n",
      "         Hurtigruten minutt for minutt (2011): Ved kai i Torvik - 24. desember 2011 - S01E07\n",
      "         Hurtigruten minutt for minutt (2011): Torvik - Ålesund - 24. desember 2011 - S01E08\n",
      "         Hurtigruten minutt for minutt (2011): Ved kai i Ålesund - 24. desember 2011 - S01E09\n",
      "         Hurtigruten minutt for minutt (2011): Ålesund - Geiranger - 24. desember 2011 - S01E10\n",
      "         Hurtigruten minutt for minutt (2011): Geiranger - Ålesund - 24. desember 2011 - S01E11\n",
      "         Hurtigruten minutt for minutt (2011): Ved kai i Ålesund - 24. desember 2011 - S01E12\n",
      "         Hurtigruten minutt for minutt (2011): Ålesund - Molde - 24. desember 2011 - S01E13\n",
      "         Hurtigruten minutt for minutt (2011): Ved kai i Molde - 24. desember 2011 - S01E14\n",
      "         Hurtigruten minutt for minutt (2011): Molde - Kristiansund - 25. desember 2011 - S01E15\n",
      "         Hurtigruten minutt for minutt (2011): Ved kai i Kristiansund - 25. desember 2011 - S01E16\n",
      "         Hurtigruten minutt for minutt (2011): Kristiansund - Trondheim - 25. desember 2011 - S01E17\n",
      "         Hurtigruten minutt for minutt (2011): Ved kai i Trondheim - 25. desember 2011 - S01E18\n",
      "         Hurtigruten minutt for minutt (2011): Trondheim - Rørvik - 25. desember 2011 - S01E19\n",
      "         Hurtigruten minutt for minutt (2011): Ved kai i Rørvik - 26. desember 2011 - S01E20\n",
      "         Hurtigruten minutt for minutt (2011): Rørvik - Brønnøysund - 26. desember 2011 - S01E21\n",
      "         Hurtigruten minutt for minutt (2011): Ved kai i Brønnøysund - 26. desember 2011 - S01E22\n",
      "         Hurtigruten minutt for minutt (2011): Brønnøysund - Sandnessjøen - 26. desember 2011 - S01E23\n",
      "         Hurtigruten minutt for minutt (2011): Ved kai i Sandnessjøen - 26. desember 2011 - S01E24\n",
      "         Hurtigruten minutt for minutt (2011): Sandnessjøen - Nesna - 26. desember 2011 - S01E25\n",
      "         Hurtigruten minutt for minutt (2011): Ved kai i Nesna - 26. desember 2011 - S01E26\n",
      "         Hurtigruten minutt for minutt (2011): Nesna - Ørnes - 26. desember 2011 - S01E27\n",
      "         Hurtigruten minutt for minutt (2011): Ved kai i Ørnes - 26. desember 2011 - S01E28\n",
      "         Hurtigruten minutt for minutt (2011): Ørnes - Bodø - 26. desember 2011 - S01E29\n",
      "         Hurtigruten minutt for minutt (2011): Ved kai i Bodø - 26. desember 2011 - S01E30\n",
      "         Hurtigruten minutt for minutt (2011): Bodø-Stamsund - 27. desember 2011 - S01E31\n",
      "         Hurtigruten minutt for minutt (2011): Ved kai i Stamsund - 27. desember 2011 - S01E32\n",
      "         Hurtigruten minutt for minutt (2011): Stamsund - Svolvær - 27. desember 2011 - S01E33\n",
      "         Hurtigruten minutt for minutt (2011): Ved kai i Svolvær - 27. desember 2011 - S01E34\n",
      "         Hurtigruten minutt for minutt (2011): Svolvær - Stokmarknes - 27. desember 2011 - S01E35\n",
      "         Hurtigruten minutt for minutt (2011): Ved kai i Stokmarknes - 27. desember 2011 - S01E36\n",
      "         Hurtigruten minutt for minutt (2011): Stokmarknes - Sortland - 27. desember 2011 - S01E37\n",
      "         Hurtigruten minutt for minutt (2011): Ved kai i Sortland - 27. desember 2011 - S01E38\n",
      "         Hurtigruten minutt for minutt (2011): Sortland - Risøyhamn - 27. desember 2011 - S01E39\n",
      "         Hurtigruten minutt for minutt (2011): Ved kai i Risøyhamn - 27. desember 2011 - S01E40\n",
      "         Hurtigruten minutt for minutt (2011): Risøyhamn - Harstad - 28. desember 2011 - S01E41\n",
      "         Hurtigruten minutt for minutt (2011): Ved kai i Harstad - 28. desember 2011 - S01E42\n",
      "         Hurtigruten minutt for minutt (2011): Harstad - Finnsnes - 28. desember 2011 - S01E43\n",
      "         Hurtigruten minutt for minutt (2011): Ved kai i Finnsnes - 28. desember 2011 - S01E44\n",
      "         Hurtigruten minutt for minutt (2011): Finnsnes-Tromsø - 28. desember 2011 - S01E45\n",
      "         Hurtigruten minutt for minutt (2011): Tromsø - Skjervøy - 28. desember 2011 - S01E46\n",
      "         Hurtigruten minutt for minutt (2011): Ved kai i Skjervøy - 29. desember 2011 - S01E47\n",
      "         Hurtigruten minutt for minutt (2011): Skjervøy - Øksfjord - 29. desember 2011 - S01E48\n",
      "         Hurtigruten minutt for minutt (2011): Ved kai i Øksfjord - 29. desember 2011 - S01E49\n",
      "         Hurtigruten minutt for minutt (2011): Øksfjord - Hammerfest - 29. desember 2011 - S01E50\n",
      "         Hurtigruten minutt for minutt (2011): Ved kai i Hammerfest - 29. desember 2011 - S01E51\n",
      "         Hurtigruten minutt for minutt (2011): Hammerfest - Havøysund - 29. desember 2011 - S01E52\n",
      "         Hurtigruten minutt for minutt (2011): Ved kai i Havøysund - 29. desember 2011 - S01E53\n",
      "         Hurtigruten minutt for minutt (2011): Havøysund - Honningsvåg - 29. desember 2011 - S01E54\n",
      "         Hurtigruten minutt for minutt (2011): Honningsvåg - Kjøllefjord - 30. desember 2011 - S01E55\n",
      "         Hurtigruten minutt for minutt (2011): Ved kai i Kjøllefjord - 30. desember 2011 - S01E56\n",
      "         Hurtigruten minutt for minutt (2011): Kjøllefjord - Mehamn - 30. desember 2011 - S01E57\n",
      "         Hurtigruten minutt for minutt (2011): Ved kai i Mehamn - 30. desember 2011 - S01E58\n",
      "         Hurtigruten minutt for minutt (2011): Mehamn - Berlevåg - 30. desember 2011 - S01E59\n",
      "         Hurtigruten minutt for minutt (2011): Ved kai i Berlevåg - 30. desember 2011 - S01E60\n",
      "         Hurtigruten minutt for minutt (2011): Berlevåg - Båtsfjord - 30. desember 2011 - S01E61\n",
      "         Hurtigruten minutt for minutt (2011): Ved kai i Båtsfjord - 30. desember 2011 - S01E62\n",
      "         Hurtigruten minutt for minutt (2011): Båtsfjord - Vardø - 30. desember 2011 - S01E63\n",
      "         Hurtigruten minutt for minutt (2011): Ved kai i Vardø - 31. desember 2011 - S01E64\n",
      "         Hurtigruten minutt for minutt (2011): Vardø - Vadsø - 31. desember 2011 - S01E65\n",
      "         Hurtigruten minutt for minutt (2011): Ved kai i Vadsø - 31. desember 2011 - S01E66\n",
      "         Hurtigruten minutt for minutt (2011): Vadsø - Kirkenes - 31. desember 2011 - S01E67\n",
      "         Hurtigruten minutt for minutt (2011): Ved kai i Kirkenes - 31. desember 2011 - S01E68\n",
      "     2: 2012 (1 episoder)\n",
      "         Hurtigruten minutt for minutt (2012): Hurtigruten - ett år etter - 16. juni 2012 - S02E01\n"
     ]
    }
   ],
   "source": [
    "nrkdownload.nrktv.LOG.setLevel(logging.WARNING)\n",
    "for r in result:\n",
    "    print(r)\n",
    "    r.get_seasons_and_episodes()\n",
    "    for s in r.seasons:\n",
    "        print(' '*4, s)\n",
    "        for e in s.episodes:\n",
    "            print(' '*8, e)"
   ]
  },
  {
   "cell_type": "code",
   "execution_count": 45,
   "metadata": {},
   "outputs": [
    {
     "data": {
      "text/plain": [
       "['__class__',\n",
       " '__delattr__',\n",
       " '__dict__',\n",
       " '__dir__',\n",
       " '__doc__',\n",
       " '__eq__',\n",
       " '__format__',\n",
       " '__ge__',\n",
       " '__getattribute__',\n",
       " '__gt__',\n",
       " '__hash__',\n",
       " '__init__',\n",
       " '__le__',\n",
       " '__lt__',\n",
       " '__module__',\n",
       " '__ne__',\n",
       " '__new__',\n",
       " '__reduce__',\n",
       " '__reduce_ex__',\n",
       " '__repr__',\n",
       " '__setattr__',\n",
       " '__sizeof__',\n",
       " '__str__',\n",
       " '__subclasshook__',\n",
       " '__weakref__',\n",
       " 'description',\n",
       " 'duration',\n",
       " 'episode_number_or_date',\n",
       " 'episode_title',\n",
       " 'filename',\n",
       " 'get_details',\n",
       " 'hasSubtitles',\n",
       " 'image_url',\n",
       " 'is_available',\n",
       " 'make_filename',\n",
       " 'mediaUrl',\n",
       " 'programId',\n",
       " 'series_id',\n",
       " 'subtitleUrl',\n",
       " 'title']"
      ]
     },
     "execution_count": 45,
     "metadata": {},
     "output_type": "execute_result"
    }
   ],
   "source": [
    "dir(result[0].seasons[0].episodes[1])"
   ]
  },
  {
   "cell_type": "code",
   "execution_count": 46,
   "metadata": {},
   "outputs": [
    {
     "data": {
      "text/plain": [
       "'dvfj67000211'"
      ]
     },
     "execution_count": 46,
     "metadata": {},
     "output_type": "execute_result"
    }
   ],
   "source": [
    "result[0].seasons[0].episodes[1].programId"
   ]
  },
  {
   "cell_type": "code",
   "execution_count": null,
   "metadata": {},
   "outputs": [],
   "source": [
    "nrkdownload.config.KNOWN_SERIES['skam'].get_seasons_and_episodes()"
   ]
  },
  {
   "cell_type": "code",
   "execution_count": null,
   "metadata": {},
   "outputs": [],
   "source": []
  }
 ],
 "metadata": {
  "kernelspec": {
   "display_name": "Python 3",
   "language": "python",
   "name": "python3"
  },
  "language_info": {
   "codemirror_mode": {
    "name": "ipython",
    "version": 3
   },
   "file_extension": ".py",
   "mimetype": "text/x-python",
   "name": "python",
   "nbconvert_exporter": "python",
   "pygments_lexer": "ipython3",
   "version": "3.5.5"
  },
  "toc": {
   "base_numbering": 1,
   "nav_menu": {},
   "number_sections": true,
   "sideBar": true,
   "skip_h1_title": false,
   "title_cell": "Table of Contents",
   "title_sidebar": "Contents",
   "toc_cell": false,
   "toc_position": {},
   "toc_section_display": true,
   "toc_window_display": false
  }
 },
 "nbformat": 4,
 "nbformat_minor": 2
}
